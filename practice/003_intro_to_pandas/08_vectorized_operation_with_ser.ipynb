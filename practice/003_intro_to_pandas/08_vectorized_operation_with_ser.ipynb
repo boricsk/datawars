{
 "cells": [
  {
   "cell_type": "markdown",
   "metadata": {},
   "source": [
    "Ebben a rövid projektben a \"Vectorized Operations\"-ről fogunk tanulni. Különösen a Pandas sorozatra alkalmazott vektorizált műveletekről fogunk tudni; de valójában ezek a NumPy eredeti koncepciója, és SOKAT fogjuk használni a DataFrames-ekkel.\n",
    "\n",
    "Tehát az itt látható példák triviálisnak tűnhetnek, de bízzon bennünk, hogy nagyon hasznosak lesznek az egész pandás utazás során.\n",
    "\n",
    "Kezdjük el!"
   ]
  },
  {
   "cell_type": "markdown",
   "metadata": {},
   "source": [
    "A vektorizált műveletek megértése\n",
    "\n",
    "A vektorizált műveletek csak egy \"globális\" függvény alkalmazását jelentik egy teljes sorozatra. Vezessünk egy példát egy táblázatból, amelyben új oszlopot hozunk létre egy művelet MÁSIK oszlopra történő alkalmazásával:\n"
   ]
  },
  {
   "cell_type": "markdown",
   "metadata": {},
   "source": [
    "<img src =\"series1.gif\">"
   ]
  },
  {
   "cell_type": "markdown",
   "metadata": {},
   "source": [
    "A sorozattal nagyjából ugyanaz lesz, talán még egyszerűbbnek tűnik. Indítsa el a labort, ha még nem tette meg, és vessen egy pillantást az első műveletekre.\n",
    "\n",
    "Először inicializáljuk az általunk használt sorozatot, ezúttal bevétel_milliókban elnevezéssel. Ez ugyanaz a sorozat, amit eddig is használtunk, és az Indexen szereplő cégek bevételét rögzíti millió dollárban.\n",
    "\n",
    "Ezután létrehozunk egy ÚJ sorozatot bevétel_milliárdokban néven úgy, hogy a teljes sorozatot elosztjuk 1000-rel:"
   ]
  },
  {
   "cell_type": "code",
   "execution_count": 1,
   "metadata": {},
   "outputs": [],
   "source": [
    "import pandas as pd\n",
    "\n",
    "companies = [\n",
    "    'Apple', 'Samsung', 'Alphabet', 'Foxconn',\n",
    "    'Microsoft', 'Huawei', 'Dell Technologies',\n",
    "    'Meta', 'Sony', 'Hitachi', 'Intel',\n",
    "    'IBM', 'Tencent', 'Panasonic'\n",
    "]\n",
    "\n",
    "revenue_in_millions = pd.Series([\n",
    "    274515, 200734, 182527, 181945, 143015,\n",
    "    129184, 92224, 85965, 84893, 82345,\n",
    "    77867, 73620, 69864, 63191],\n",
    "    index=companies,\n",
    "    name=\"Top Technology Companies by Revenue\")"
   ]
  },
  {
   "cell_type": "code",
   "execution_count": 2,
   "metadata": {},
   "outputs": [
    {
     "data": {
      "text/plain": [
       "Apple                274.515\n",
       "Samsung              200.734\n",
       "Alphabet             182.527\n",
       "Foxconn              181.945\n",
       "Microsoft            143.015\n",
       "Huawei               129.184\n",
       "Dell Technologies     92.224\n",
       "Meta                  85.965\n",
       "Sony                  84.893\n",
       "Hitachi               82.345\n",
       "Intel                 77.867\n",
       "IBM                   73.620\n",
       "Tencent               69.864\n",
       "Panasonic             63.191\n",
       "Name: Top Technology Companies by Revenue, dtype: float64"
      ]
     },
     "execution_count": 2,
     "metadata": {},
     "output_type": "execute_result"
    }
   ],
   "source": [
    "revenue_in_billions = revenue_in_millions / 1000\n",
    "revenue_in_billions"
   ]
  },
  {
   "cell_type": "markdown",
   "metadata": {},
   "source": [
    "Ez az! Ez egy vektorizált művelet. Azt mondjuk, hogy \"vektorizált\", mert nem csak egy értékre hat, hanem a sorozatban található értékek teljes vektorára.\n",
    "\n",
    "Rendelkezésre álló operátorok\n",
    "\n",
    "Egyelőre leginkább a normál aritmetikai operátorokra koncentrálunk: +, -, *, /, ** stb. De a további laborokban látni fogjuk, hogy karakterlánc-műveletekkel vagy akár saját egyedi függvényeinkkel vektorizált műveleteket is létrehozhatunk. .\n",
    "Gyakorlási idő\n",
    "\n",
    "Most rajtad a sor, hogy gyakoroljon néhány vektorizált műveletet, mielőtt továbblépne a következő részre."
   ]
  },
  {
   "cell_type": "markdown",
   "metadata": {},
   "source": [
    "Subtract $50B from all companies in revenue_in_billions"
   ]
  },
  {
   "cell_type": "code",
   "execution_count": null,
   "metadata": {},
   "outputs": [],
   "source": [
    "revenue_recession = revenue_in_billions - 50"
   ]
  },
  {
   "cell_type": "markdown",
   "metadata": {},
   "source": [
    "Create a new series expressing revenue in dollars (units)\n",
    "\n",
    "The accounting team needs more detail when calculating EBITDA. \n",
    "\n",
    "They need revenue expressed in dollar units (instead of millions or billions). \n",
    "\n",
    "Use either series revenue_in_millions or revenue_in_billions to create a new series revenue_in_dollars."
   ]
  },
  {
   "cell_type": "code",
   "execution_count": null,
   "metadata": {},
   "outputs": [],
   "source": [
    "revenue_in_dollars = revenue_in_millions * 1_000_000"
   ]
  },
  {
   "cell_type": "markdown",
   "metadata": {},
   "source": [
    "Sorozatok közötti műveletek\n",
    "\n",
    "Ha megtartjuk a táblázatok analógiáját, látni fogja, hogy lehetséges műveletek létrehozása a különböző sorozatok között. \n",
    "Tegyük fel például, hogy újra beüt a recesszió, és az összes cég bevételét érinti; de nem egyformán. \n",
    "Minden cég bevételét egy adott százalékkal szeretnénk csökkenteni. \n",
    "Például az Apple új bevétele az eredeti bevétel 91%-a, a Samsungé 93%-a stb."
   ]
  },
  {
   "cell_type": "markdown",
   "metadata": {},
   "source": [
    "<img src=\"series2.gif\">"
   ]
  },
  {
   "cell_type": "code",
   "execution_count": 3,
   "metadata": {},
   "outputs": [
    {
     "data": {
      "text/plain": [
       "Apple                0.91\n",
       "Samsung              0.93\n",
       "Alphabet             0.98\n",
       "Foxconn              0.97\n",
       "Microsoft            0.99\n",
       "Huawei               0.89\n",
       "Dell Technologies    0.87\n",
       "Meta                 0.82\n",
       "Sony                 0.93\n",
       "Hitachi              0.93\n",
       "Intel                0.89\n",
       "IBM                  0.97\n",
       "Tencent              0.97\n",
       "Panasonic            0.94\n",
       "dtype: float64"
      ]
     },
     "execution_count": 3,
     "metadata": {},
     "output_type": "execute_result"
    }
   ],
   "source": [
    "recession_impact = pd.Series([\n",
    "    0.91, 0.93, 0.98, 0.97, 0.99, 0.89, 0.87,\n",
    "    0.82, 0.93, 0.93, 0.89, 0.97, 0.97, 0.94], index=companies)\n",
    "recession_impact"
   ]
  },
  {
   "cell_type": "markdown",
   "metadata": {},
   "source": [
    "Ennek kifejezésére a sorozattal először létrehozzuk a recession_impact sorozatot, \n",
    "és közvetlenül alkalmazzuk a műveletet a bevétel_milliókban eredeti sorozatra:"
   ]
  },
  {
   "cell_type": "code",
   "execution_count": 4,
   "metadata": {},
   "outputs": [
    {
     "data": {
      "text/plain": [
       "Apple                249808.65\n",
       "Samsung              186682.62\n",
       "Alphabet             178876.46\n",
       "Foxconn              176486.65\n",
       "Microsoft            141584.85\n",
       "Huawei               114973.76\n",
       "Dell Technologies     80234.88\n",
       "Meta                  70491.30\n",
       "Sony                  78950.49\n",
       "Hitachi               76580.85\n",
       "Intel                 69301.63\n",
       "IBM                   71411.40\n",
       "Tencent               67768.08\n",
       "Panasonic             59399.54\n",
       "dtype: float64"
      ]
     },
     "execution_count": 4,
     "metadata": {},
     "output_type": "execute_result"
    }
   ],
   "source": [
    "revenue_in_millions * recession_impact"
   ]
  },
  {
   "cell_type": "markdown",
   "metadata": {},
   "source": [
    "Calculate revenue per employee, in dollars\n",
    "\n",
    "Using the series number_of_employees (given in the notebook), your job is \n",
    "to calculate revenue per employee, expressed in dollars (units). \n",
    "Store it in the variable revenue_per_employee."
   ]
  },
  {
   "cell_type": "markdown",
   "metadata": {},
   "source": [
    "<img src = \"series3.png\">"
   ]
  },
  {
   "cell_type": "code",
   "execution_count": 5,
   "metadata": {},
   "outputs": [],
   "source": [
    "number_of_employees = pd.Series([\n",
    "    164000, 266673, 150028, 1290000, 221000, 195000,\n",
    "    165000, 71970, 109700, 368250, 121100, 282100, 112771, 240198\n",
    "], index=companies)"
   ]
  },
  {
   "cell_type": "code",
   "execution_count": null,
   "metadata": {},
   "outputs": [],
   "source": [
    "revenue_per_employee = revenue_in_dollars / number_of_employees"
   ]
  }
 ],
 "metadata": {
  "kernelspec": {
   "display_name": "base",
   "language": "python",
   "name": "python3"
  },
  "language_info": {
   "codemirror_mode": {
    "name": "ipython",
    "version": 3
   },
   "file_extension": ".py",
   "mimetype": "text/x-python",
   "name": "python",
   "nbconvert_exporter": "python",
   "pygments_lexer": "ipython3",
   "version": "3.11.7"
  }
 },
 "nbformat": 4,
 "nbformat_minor": 2
}
