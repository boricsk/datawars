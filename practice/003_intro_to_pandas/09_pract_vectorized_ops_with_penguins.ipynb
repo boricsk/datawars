{
 "cells": [
  {
   "cell_type": "markdown",
   "metadata": {},
   "source": [
    "Itt az ideje, hogy próbára tegye tudását a Pandas sorozat vektorizált műveleteiről. Ebben a laborban egy olyan adatkészlettel fogunk dolgozni, amely a pingvinekről tartalmaz információkat. Minden egyes pingvint különféle attribútumok írnak le, mint például a faj, a sziget, a tetőpont hossza, a tetőpont mélysége, a úszószárny hossza, a testtömeg és a nem.\n",
    "\n",
    "Ebben a laborban a vektorizált műveleteket gyakoroljuk a Panda sorozatokon. Megtanuljuk, hogyan hajtsunk végre számtani műveleteket sorozatokon, és hogyan alkalmazzuk a matematikai függvényeket a sorozatokra.\n",
    "\n",
    "A labor során olyan kódolási tevékenységeket mutatnak be, amelyekhez kódrészleteket kell írnia a sorozaton végzett konkrét műveletek végrehajtásához. Minden tevékenységet egy megoldás követ, amely lehetővé teszi a kód ellenőrzését és a helyes megközelítés megértését.\n",
    "\n",
    "Az egyéni témára épülő tevékenységek mellett lesznek vegyes témájú tevékenységek is, amelyekhez különböző műveletek kombinálása szükséges egy adott eredmény elérése érdekében. Ezek a tevékenységek próbára teszik, hogy képes-e egyszerre több koncepciót alkalmazni.\n",
    "\n",
    "A labor végére alapos ismereteket szerez a Pandas sorozat vektoros műveleteiről, és képes lesz hatékonyan manipulálni és elemezni az adatokat ezekkel a technikákkal."
   ]
  },
  {
   "cell_type": "code",
   "execution_count": 5,
   "metadata": {},
   "outputs": [
    {
     "data": {
      "text/html": [
       "<div>\n",
       "<style scoped>\n",
       "    .dataframe tbody tr th:only-of-type {\n",
       "        vertical-align: middle;\n",
       "    }\n",
       "\n",
       "    .dataframe tbody tr th {\n",
       "        vertical-align: top;\n",
       "    }\n",
       "\n",
       "    .dataframe thead th {\n",
       "        text-align: right;\n",
       "    }\n",
       "</style>\n",
       "<table border=\"1\" class=\"dataframe\">\n",
       "  <thead>\n",
       "    <tr style=\"text-align: right;\">\n",
       "      <th></th>\n",
       "      <th>species</th>\n",
       "      <th>island</th>\n",
       "      <th>bill_length_mm</th>\n",
       "      <th>bill_depth_mm</th>\n",
       "      <th>flipper_length_mm</th>\n",
       "      <th>body_mass_g</th>\n",
       "      <th>sex</th>\n",
       "    </tr>\n",
       "  </thead>\n",
       "  <tbody>\n",
       "    <tr>\n",
       "      <th>0</th>\n",
       "      <td>Adelie</td>\n",
       "      <td>Torgersen</td>\n",
       "      <td>39.1</td>\n",
       "      <td>18.7</td>\n",
       "      <td>181</td>\n",
       "      <td>3750</td>\n",
       "      <td>male</td>\n",
       "    </tr>\n",
       "    <tr>\n",
       "      <th>1</th>\n",
       "      <td>Adelie</td>\n",
       "      <td>Torgersen</td>\n",
       "      <td>39.5</td>\n",
       "      <td>17.4</td>\n",
       "      <td>186</td>\n",
       "      <td>3800</td>\n",
       "      <td>female</td>\n",
       "    </tr>\n",
       "    <tr>\n",
       "      <th>2</th>\n",
       "      <td>Adelie</td>\n",
       "      <td>Torgersen</td>\n",
       "      <td>40.3</td>\n",
       "      <td>18.0</td>\n",
       "      <td>195</td>\n",
       "      <td>3250</td>\n",
       "      <td>female</td>\n",
       "    </tr>\n",
       "    <tr>\n",
       "      <th>3</th>\n",
       "      <td>Adelie</td>\n",
       "      <td>Torgersen</td>\n",
       "      <td>36.7</td>\n",
       "      <td>19.3</td>\n",
       "      <td>193</td>\n",
       "      <td>3450</td>\n",
       "      <td>female</td>\n",
       "    </tr>\n",
       "    <tr>\n",
       "      <th>4</th>\n",
       "      <td>Adelie</td>\n",
       "      <td>Torgersen</td>\n",
       "      <td>39.3</td>\n",
       "      <td>20.6</td>\n",
       "      <td>190</td>\n",
       "      <td>3650</td>\n",
       "      <td>male</td>\n",
       "    </tr>\n",
       "    <tr>\n",
       "      <th>...</th>\n",
       "      <td>...</td>\n",
       "      <td>...</td>\n",
       "      <td>...</td>\n",
       "      <td>...</td>\n",
       "      <td>...</td>\n",
       "      <td>...</td>\n",
       "      <td>...</td>\n",
       "    </tr>\n",
       "    <tr>\n",
       "      <th>328</th>\n",
       "      <td>Chinstrap</td>\n",
       "      <td>Dream</td>\n",
       "      <td>55.8</td>\n",
       "      <td>19.8</td>\n",
       "      <td>207</td>\n",
       "      <td>4000</td>\n",
       "      <td>male</td>\n",
       "    </tr>\n",
       "    <tr>\n",
       "      <th>329</th>\n",
       "      <td>Chinstrap</td>\n",
       "      <td>Dream</td>\n",
       "      <td>43.5</td>\n",
       "      <td>18.1</td>\n",
       "      <td>202</td>\n",
       "      <td>3400</td>\n",
       "      <td>female</td>\n",
       "    </tr>\n",
       "    <tr>\n",
       "      <th>330</th>\n",
       "      <td>Chinstrap</td>\n",
       "      <td>Dream</td>\n",
       "      <td>49.6</td>\n",
       "      <td>18.2</td>\n",
       "      <td>193</td>\n",
       "      <td>3775</td>\n",
       "      <td>male</td>\n",
       "    </tr>\n",
       "    <tr>\n",
       "      <th>331</th>\n",
       "      <td>Chinstrap</td>\n",
       "      <td>Dream</td>\n",
       "      <td>50.8</td>\n",
       "      <td>19.0</td>\n",
       "      <td>210</td>\n",
       "      <td>4100</td>\n",
       "      <td>male</td>\n",
       "    </tr>\n",
       "    <tr>\n",
       "      <th>332</th>\n",
       "      <td>Chinstrap</td>\n",
       "      <td>Dream</td>\n",
       "      <td>50.2</td>\n",
       "      <td>18.7</td>\n",
       "      <td>198</td>\n",
       "      <td>3775</td>\n",
       "      <td>female</td>\n",
       "    </tr>\n",
       "  </tbody>\n",
       "</table>\n",
       "<p>333 rows × 7 columns</p>\n",
       "</div>"
      ],
      "text/plain": [
       "       species     island  bill_length_mm  bill_depth_mm  flipper_length_mm  \\\n",
       "0       Adelie  Torgersen            39.1           18.7                181   \n",
       "1       Adelie  Torgersen            39.5           17.4                186   \n",
       "2       Adelie  Torgersen            40.3           18.0                195   \n",
       "3       Adelie  Torgersen            36.7           19.3                193   \n",
       "4       Adelie  Torgersen            39.3           20.6                190   \n",
       "..         ...        ...             ...            ...                ...   \n",
       "328  Chinstrap      Dream            55.8           19.8                207   \n",
       "329  Chinstrap      Dream            43.5           18.1                202   \n",
       "330  Chinstrap      Dream            49.6           18.2                193   \n",
       "331  Chinstrap      Dream            50.8           19.0                210   \n",
       "332  Chinstrap      Dream            50.2           18.7                198   \n",
       "\n",
       "     body_mass_g     sex  \n",
       "0           3750    male  \n",
       "1           3800  female  \n",
       "2           3250  female  \n",
       "3           3450  female  \n",
       "4           3650    male  \n",
       "..           ...     ...  \n",
       "328         4000    male  \n",
       "329         3400  female  \n",
       "330         3775    male  \n",
       "331         4100    male  \n",
       "332         3775  female  \n",
       "\n",
       "[333 rows x 7 columns]"
      ]
     },
     "execution_count": 5,
     "metadata": {},
     "output_type": "execute_result"
    }
   ],
   "source": [
    "import pandas as pd\n",
    "source = r'https://raw.githubusercontent.com/dataprofessor/data/master/penguins_cleaned.csv'\n",
    "df = pd.read_csv(source)\n",
    "df"
   ]
  },
  {
   "cell_type": "code",
   "execution_count": 7,
   "metadata": {},
   "outputs": [],
   "source": [
    "# Convert all columns to pandas Series\n",
    "species = df['species']\n",
    "island = df['island']\n",
    "culmen_length_mm = df['bill_length_mm']\n",
    "culmen_depth_mm = df['bill_depth_mm']\n",
    "flipper_length_mm = df['flipper_length_mm']\n",
    "body_mass_g = df['body_mass_g']\n",
    "gender = df['sex']"
   ]
  },
  {
   "cell_type": "markdown",
   "metadata": {},
   "source": [
    "Add a constant value of 100 to the body_mass_g series\n",
    "\n",
    "Create a new series called body_mass_g_plus_100 by adding a constant value of 100 to the body_mass_g series."
   ]
  },
  {
   "cell_type": "code",
   "execution_count": 8,
   "metadata": {},
   "outputs": [],
   "source": [
    "body_mass_g_plus_100 = body_mass_g + 100"
   ]
  },
  {
   "cell_type": "markdown",
   "metadata": {},
   "source": [
    "Subtract the culmen_length_mm series from the flipper_length_mm series\n",
    "\n",
    "Subtract the culmen_length_mm series from the flipper_length_mm series and assign the result to a new series called length_difference."
   ]
  },
  {
   "cell_type": "code",
   "execution_count": 9,
   "metadata": {},
   "outputs": [],
   "source": [
    "length_difference = flipper_length_mm - culmen_length_mm"
   ]
  },
  {
   "cell_type": "markdown",
   "metadata": {},
   "source": [
    "Multiply the culmen_depth_mm series by 2\n",
    "\n",
    "Multiply the culmen_depth_mm series by 2 and assign the result to a new series called double_culmen_depth_mm."
   ]
  },
  {
   "cell_type": "code",
   "execution_count": 10,
   "metadata": {},
   "outputs": [],
   "source": [
    "double_culmen_depth_mm = culmen_depth_mm * 2"
   ]
  },
  {
   "cell_type": "markdown",
   "metadata": {},
   "source": [
    "Raise the flipper_length_mm series to the power of 2\n",
    "\n",
    "Create a new series called flipper_length_mm_squared by raising the flipper_length_mm series to the power of 2."
   ]
  },
  {
   "cell_type": "code",
   "execution_count": 11,
   "metadata": {},
   "outputs": [],
   "source": [
    "flipper_length_mm_squared = flipper_length_mm ** 2"
   ]
  },
  {
   "cell_type": "markdown",
   "metadata": {},
   "source": [
    "Calculate the mean of the culmen_length_mm series and subtract it from each value in the series\n",
    "\n",
    "Find the mean of the culmen_length_mm series and subtract it from each value in the series. Assign the result to a new series called culmen_length_mm_mean_centered."
   ]
  },
  {
   "cell_type": "code",
   "execution_count": 12,
   "metadata": {},
   "outputs": [],
   "source": [
    "culmen_length_mm_mean_centered = culmen_length_mm - culmen_length_mm.mean()"
   ]
  },
  {
   "cell_type": "markdown",
   "metadata": {},
   "source": [
    "Concatenate the species and gender series, separated by a hyphen -\n",
    "\n",
    "Create a new series called species_and_gender by concatenating the species and gender series, separated by a hyphen (-)."
   ]
  },
  {
   "cell_type": "code",
   "execution_count": 13,
   "metadata": {},
   "outputs": [
    {
     "data": {
      "text/plain": [
       "0    Adelie-male\n",
       "dtype: object"
      ]
     },
     "execution_count": 13,
     "metadata": {},
     "output_type": "execute_result"
    }
   ],
   "source": [
    "species_and_gender = species + '-' + gender\n",
    "species_and_gender.head(1)"
   ]
  },
  {
   "cell_type": "markdown",
   "metadata": {},
   "source": [
    "Perform element-wise addition of culmen_length_mm and culmen_depth_mm\n",
    "\n",
    "Add culmen_length_mm and culmen_depth_mm together and assign the result to a new variable called culmen_length_plus_depth_mm."
   ]
  },
  {
   "cell_type": "code",
   "execution_count": 14,
   "metadata": {},
   "outputs": [],
   "source": [
    "culmen_length_plus_depth_mm = culmen_length_mm + culmen_depth_mm"
   ]
  },
  {
   "cell_type": "markdown",
   "metadata": {},
   "source": [
    "Sort culmen_length_mm in descending order\n",
    "\n",
    "Create a new series called culmen_length_mm_sorted by sorting culmen_length_mm in descending order."
   ]
  },
  {
   "cell_type": "code",
   "execution_count": 15,
   "metadata": {},
   "outputs": [],
   "source": [
    "culmen_length_mm_sorted = culmen_length_mm.sort_values(ascending=False)"
   ]
  },
  {
   "cell_type": "markdown",
   "metadata": {},
   "source": [
    "Divide flipper_length_mm by culmen_length_mm\n",
    "\n",
    "Find the ratio of each penguin's flipper length to its culmen length and assign the result to a new variable called length_ratio."
   ]
  },
  {
   "cell_type": "code",
   "execution_count": 16,
   "metadata": {},
   "outputs": [],
   "source": [
    "length_ratio = flipper_length_mm / culmen_length_mm"
   ]
  }
 ],
 "metadata": {
  "kernelspec": {
   "display_name": "base",
   "language": "python",
   "name": "python3"
  },
  "language_info": {
   "codemirror_mode": {
    "name": "ipython",
    "version": 3
   },
   "file_extension": ".py",
   "mimetype": "text/x-python",
   "name": "python",
   "nbconvert_exporter": "python",
   "pygments_lexer": "ipython3",
   "version": "3.11.7"
  }
 },
 "nbformat": 4,
 "nbformat_minor": 2
}
