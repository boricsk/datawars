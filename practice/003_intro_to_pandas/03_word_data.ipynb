{
 "cells": [
  {
   "cell_type": "markdown",
   "metadata": {},
   "source": [
    "Ebben a laborban pandák segítségével fedezheti fel a Világbank gazdasági, politikai és társadalmi mutatóira vonatkozó adatait a világ országaira vonatkozóan. Az adatok a Kaggle-től származnak.\n",
    "\n",
    "A Világbank adatai számos különböző kategóriába sorolhatók, többek között:\n",
    "\n",
    "     Gazdaság: Ez a kategória a GDP-re, a népességre, az inflációra és a munkanélküliségre vonatkozó adatokat tartalmazza.\n",
    "     Kormányzat: Ez a kategória a kormányzati kiadásokra, adókra és adósságra vonatkozó adatokat tartalmazza.\n",
    "     Szociális: Ez a kategória az oktatásra, az egészségre és a szegénységre vonatkozó adatokat tartalmazza.\n",
    "\n",
    "Az adatok a world_data.xls nevű excel fájlban tárolódnak. Ebben a laborban megtanulhatja, hogyan:\n",
    "\n",
    "     Hozzon létre panda sorozatot\n",
    "     Sorozat alapvető attribútumai, például alak, méret és adattípus\n",
    "     elérheti a panda sorozat adatait\n",
    "     alapvető statisztikai műveletek elvégzése pandasorozatokon\n",
    "\n",
    "A labor végére a pandák segítségével feltárhatja és elemzi a Világbank gazdasági, politikai és társadalmi mutatóira vonatkozó adatait a világ országaira vonatkozóan."
   ]
  },
  {
   "cell_type": "code",
   "execution_count": 11,
   "metadata": {},
   "outputs": [
    {
     "data": {
      "text/html": [
       "<div>\n",
       "<style scoped>\n",
       "    .dataframe tbody tr th:only-of-type {\n",
       "        vertical-align: middle;\n",
       "    }\n",
       "\n",
       "    .dataframe tbody tr th {\n",
       "        vertical-align: top;\n",
       "    }\n",
       "\n",
       "    .dataframe thead th {\n",
       "        text-align: right;\n",
       "    }\n",
       "</style>\n",
       "<table border=\"1\" class=\"dataframe\">\n",
       "  <thead>\n",
       "    <tr style=\"text-align: right;\">\n",
       "      <th></th>\n",
       "      <th>Country Name</th>\n",
       "      <th>Region Code</th>\n",
       "      <th>Country Code</th>\n",
       "      <th>GDP, PPP (current international $)</th>\n",
       "      <th>Population, total</th>\n",
       "      <th>Population CGR 1960-2015</th>\n",
       "      <th>Internet users (per 100 people)</th>\n",
       "      <th>Popltn Largest City % of Urban Pop</th>\n",
       "      <th>2014 Life expectancy at birth, total (years)</th>\n",
       "      <th>Literacy rate, adult female (% of females ages 15 and above)</th>\n",
       "      <th>Exports of goods and services (% of GDP)</th>\n",
       "    </tr>\n",
       "  </thead>\n",
       "  <tbody>\n",
       "    <tr>\n",
       "      <th>0</th>\n",
       "      <td>Aruba</td>\n",
       "      <td>MA</td>\n",
       "      <td>ABW</td>\n",
       "      <td>NaN</td>\n",
       "      <td>103889.0</td>\n",
       "      <td>0.011897</td>\n",
       "      <td>88.661227</td>\n",
       "      <td>NaN</td>\n",
       "      <td>75.451098</td>\n",
       "      <td>97.513962</td>\n",
       "      <td>NaN</td>\n",
       "    </tr>\n",
       "    <tr>\n",
       "      <th>1</th>\n",
       "      <td>Andorra</td>\n",
       "      <td>EU</td>\n",
       "      <td>AND</td>\n",
       "      <td>NaN</td>\n",
       "      <td>70473.0</td>\n",
       "      <td>0.030622</td>\n",
       "      <td>96.910000</td>\n",
       "      <td>NaN</td>\n",
       "      <td>NaN</td>\n",
       "      <td>NaN</td>\n",
       "      <td>NaN</td>\n",
       "    </tr>\n",
       "    <tr>\n",
       "      <th>2</th>\n",
       "      <td>Afghanistan</td>\n",
       "      <td>ME</td>\n",
       "      <td>AFG</td>\n",
       "      <td>6.291267e+10</td>\n",
       "      <td>32526562.0</td>\n",
       "      <td>0.023646</td>\n",
       "      <td>8.260000</td>\n",
       "      <td>0.533629</td>\n",
       "      <td>60.374463</td>\n",
       "      <td>23.873850</td>\n",
       "      <td>0.073278</td>\n",
       "    </tr>\n",
       "    <tr>\n",
       "      <th>3</th>\n",
       "      <td>Angola</td>\n",
       "      <td>AF</td>\n",
       "      <td>AGO</td>\n",
       "      <td>1.844377e+11</td>\n",
       "      <td>25021974.0</td>\n",
       "      <td>0.028724</td>\n",
       "      <td>12.400000</td>\n",
       "      <td>0.499538</td>\n",
       "      <td>52.266878</td>\n",
       "      <td>60.744801</td>\n",
       "      <td>0.373074</td>\n",
       "    </tr>\n",
       "    <tr>\n",
       "      <th>4</th>\n",
       "      <td>Albania</td>\n",
       "      <td>EU</td>\n",
       "      <td>ALB</td>\n",
       "      <td>3.266324e+10</td>\n",
       "      <td>2889167.0</td>\n",
       "      <td>0.010702</td>\n",
       "      <td>63.252933</td>\n",
       "      <td>0.273431</td>\n",
       "      <td>77.830463</td>\n",
       "      <td>96.769691</td>\n",
       "      <td>0.271050</td>\n",
       "    </tr>\n",
       "    <tr>\n",
       "      <th>...</th>\n",
       "      <td>...</td>\n",
       "      <td>...</td>\n",
       "      <td>...</td>\n",
       "      <td>...</td>\n",
       "      <td>...</td>\n",
       "      <td>...</td>\n",
       "      <td>...</td>\n",
       "      <td>...</td>\n",
       "      <td>...</td>\n",
       "      <td>...</td>\n",
       "      <td>...</td>\n",
       "    </tr>\n",
       "    <tr>\n",
       "      <th>259</th>\n",
       "      <td>Yemen, Rep.</td>\n",
       "      <td>ME</td>\n",
       "      <td>YEM</td>\n",
       "      <td>NaN</td>\n",
       "      <td>26832215.0</td>\n",
       "      <td>0.030407</td>\n",
       "      <td>25.099514</td>\n",
       "      <td>0.318983</td>\n",
       "      <td>63.818195</td>\n",
       "      <td>54.850632</td>\n",
       "      <td>NaN</td>\n",
       "    </tr>\n",
       "    <tr>\n",
       "      <th>260</th>\n",
       "      <td>South Africa</td>\n",
       "      <td>AF</td>\n",
       "      <td>ZAF</td>\n",
       "      <td>7.235160e+11</td>\n",
       "      <td>54956920.0</td>\n",
       "      <td>0.021135</td>\n",
       "      <td>51.919116</td>\n",
       "      <td>0.263915</td>\n",
       "      <td>57.182122</td>\n",
       "      <td>93.428932</td>\n",
       "      <td>0.308972</td>\n",
       "    </tr>\n",
       "    <tr>\n",
       "      <th>261</th>\n",
       "      <td>Congo, Dem. Rep.</td>\n",
       "      <td>AF</td>\n",
       "      <td>COD</td>\n",
       "      <td>6.048226e+10</td>\n",
       "      <td>77266814.0</td>\n",
       "      <td>0.029945</td>\n",
       "      <td>3.800000</td>\n",
       "      <td>0.352896</td>\n",
       "      <td>58.659195</td>\n",
       "      <td>65.897346</td>\n",
       "      <td>0.294904</td>\n",
       "    </tr>\n",
       "    <tr>\n",
       "      <th>262</th>\n",
       "      <td>Zambia</td>\n",
       "      <td>AF</td>\n",
       "      <td>ZMB</td>\n",
       "      <td>6.245841e+10</td>\n",
       "      <td>16211767.0</td>\n",
       "      <td>0.030843</td>\n",
       "      <td>21.000000</td>\n",
       "      <td>0.328521</td>\n",
       "      <td>60.047049</td>\n",
       "      <td>80.566971</td>\n",
       "      <td>NaN</td>\n",
       "    </tr>\n",
       "    <tr>\n",
       "      <th>263</th>\n",
       "      <td>Zimbabwe</td>\n",
       "      <td>AF</td>\n",
       "      <td>ZWE</td>\n",
       "      <td>2.798488e+10</td>\n",
       "      <td>15602751.0</td>\n",
       "      <td>0.026249</td>\n",
       "      <td>16.360000</td>\n",
       "      <td>0.297209</td>\n",
       "      <td>57.498317</td>\n",
       "      <td>85.285133</td>\n",
       "      <td>0.262450</td>\n",
       "    </tr>\n",
       "  </tbody>\n",
       "</table>\n",
       "<p>264 rows × 11 columns</p>\n",
       "</div>"
      ],
      "text/plain": [
       "         Country Name Region Code Country Code  \\\n",
       "0               Aruba          MA          ABW   \n",
       "1             Andorra          EU          AND   \n",
       "2         Afghanistan          ME          AFG   \n",
       "3              Angola          AF          AGO   \n",
       "4             Albania          EU          ALB   \n",
       "..                ...         ...          ...   \n",
       "259       Yemen, Rep.          ME          YEM   \n",
       "260      South Africa          AF          ZAF   \n",
       "261  Congo, Dem. Rep.          AF          COD   \n",
       "262            Zambia          AF          ZMB   \n",
       "263          Zimbabwe          AF          ZWE   \n",
       "\n",
       "     GDP, PPP (current international $)  Population, total  \\\n",
       "0                                   NaN           103889.0   \n",
       "1                                   NaN            70473.0   \n",
       "2                          6.291267e+10         32526562.0   \n",
       "3                          1.844377e+11         25021974.0   \n",
       "4                          3.266324e+10          2889167.0   \n",
       "..                                  ...                ...   \n",
       "259                                 NaN         26832215.0   \n",
       "260                        7.235160e+11         54956920.0   \n",
       "261                        6.048226e+10         77266814.0   \n",
       "262                        6.245841e+10         16211767.0   \n",
       "263                        2.798488e+10         15602751.0   \n",
       "\n",
       "     Population CGR 1960-2015  Internet users (per 100 people)  \\\n",
       "0                    0.011897                        88.661227   \n",
       "1                    0.030622                        96.910000   \n",
       "2                    0.023646                         8.260000   \n",
       "3                    0.028724                        12.400000   \n",
       "4                    0.010702                        63.252933   \n",
       "..                        ...                              ...   \n",
       "259                  0.030407                        25.099514   \n",
       "260                  0.021135                        51.919116   \n",
       "261                  0.029945                         3.800000   \n",
       "262                  0.030843                        21.000000   \n",
       "263                  0.026249                        16.360000   \n",
       "\n",
       "     Popltn Largest City % of Urban Pop  \\\n",
       "0                                   NaN   \n",
       "1                                   NaN   \n",
       "2                              0.533629   \n",
       "3                              0.499538   \n",
       "4                              0.273431   \n",
       "..                                  ...   \n",
       "259                            0.318983   \n",
       "260                            0.263915   \n",
       "261                            0.352896   \n",
       "262                            0.328521   \n",
       "263                            0.297209   \n",
       "\n",
       "     2014 Life expectancy at birth, total (years)  \\\n",
       "0                                       75.451098   \n",
       "1                                             NaN   \n",
       "2                                       60.374463   \n",
       "3                                       52.266878   \n",
       "4                                       77.830463   \n",
       "..                                            ...   \n",
       "259                                     63.818195   \n",
       "260                                     57.182122   \n",
       "261                                     58.659195   \n",
       "262                                     60.047049   \n",
       "263                                     57.498317   \n",
       "\n",
       "     Literacy rate, adult female (% of females ages 15 and above)  \\\n",
       "0                                            97.513962              \n",
       "1                                                  NaN              \n",
       "2                                            23.873850              \n",
       "3                                            60.744801              \n",
       "4                                            96.769691              \n",
       "..                                                 ...              \n",
       "259                                          54.850632              \n",
       "260                                          93.428932              \n",
       "261                                          65.897346              \n",
       "262                                          80.566971              \n",
       "263                                          85.285133              \n",
       "\n",
       "     Exports of goods and services (% of GDP)  \n",
       "0                                         NaN  \n",
       "1                                         NaN  \n",
       "2                                    0.073278  \n",
       "3                                    0.373074  \n",
       "4                                    0.271050  \n",
       "..                                        ...  \n",
       "259                                       NaN  \n",
       "260                                  0.308972  \n",
       "261                                  0.294904  \n",
       "262                                       NaN  \n",
       "263                                  0.262450  \n",
       "\n",
       "[264 rows x 11 columns]"
      ]
     },
     "execution_count": 11,
     "metadata": {},
     "output_type": "execute_result"
    }
   ],
   "source": [
    "import pandas as pd\n",
    "\n",
    "basepath = r'D:\\DataWars\\source'\n",
    "filename = r'\\world_bank.xlsx'\n",
    "sheet = 'Countries in Alpha Order'\n",
    "\n",
    "df = pd.read_excel(basepath + filename, sheet_name=sheet)\n",
    "df"
   ]
  },
  {
   "cell_type": "code",
   "execution_count": 13,
   "metadata": {},
   "outputs": [
    {
     "data": {
      "text/plain": [
       "Index(['Country Name', 'Region Code', 'Country Code',\n",
       "       'GDP, PPP (current international $)', 'Population, total',\n",
       "       'Population CGR 1960-2015', 'Internet users (per 100 people)',\n",
       "       'Popltn Largest City % of Urban Pop',\n",
       "       '2014 Life expectancy at birth, total (years)',\n",
       "       'Literacy rate, adult female (% of females ages 15 and above)',\n",
       "       'Exports of goods and services (% of GDP)'],\n",
       "      dtype='object')"
      ]
     },
     "execution_count": 13,
     "metadata": {},
     "output_type": "execute_result"
    }
   ],
   "source": [
    "df.columns"
   ]
  },
  {
   "cell_type": "markdown",
   "metadata": {},
   "source": [
    "Creating pandas series from the column names"
   ]
  },
  {
   "cell_type": "code",
   "execution_count": 15,
   "metadata": {},
   "outputs": [],
   "source": [
    "# Lista készítés az oszlopok adataiból\n",
    "country_name = pd.Series(df['Country Name'])\n",
    "country_code = pd.Series(df['Country Code'])\n",
    "population = pd.Series(df['Population, total'])\n",
    "gdp = pd.Series(df['GDP, PPP (current international $)'])\n",
    "internet_users = pd.Series(df['Internet users (per 100 people)'])\n",
    "life_expectancy = pd.Series(df['2014 Life expectancy at birth, total (years)'])\n",
    "literacy_rate = pd.Series(df['Literacy rate, adult female (% of females ages 15 and above)'])\n",
    "exports = pd.Series(df['Exports of goods and services (% of GDP)'])"
   ]
  },
  {
   "cell_type": "code",
   "execution_count": 16,
   "metadata": {},
   "outputs": [
    {
     "data": {
      "text/plain": [
       "0          Aruba\n",
       "1        Andorra\n",
       "2    Afghanistan\n",
       "3         Angola\n",
       "4        Albania\n",
       "Name: Country Name, dtype: object"
      ]
     },
     "execution_count": 16,
     "metadata": {},
     "output_type": "execute_result"
    }
   ],
   "source": [
    "country_name.head()"
   ]
  },
  {
   "cell_type": "markdown",
   "metadata": {},
   "source": [
    "Milyen adat tipusa van a country_name-nek?"
   ]
  },
  {
   "cell_type": "code",
   "execution_count": 18,
   "metadata": {},
   "outputs": [
    {
     "name": "stdout",
     "output_type": "stream",
     "text": [
      "object\n"
     ]
    }
   ],
   "source": [
    "print(country_name.dtype)"
   ]
  },
  {
   "cell_type": "markdown",
   "metadata": {},
   "source": [
    "Mekkora a gdp lista?"
   ]
  },
  {
   "cell_type": "code",
   "execution_count": 20,
   "metadata": {},
   "outputs": [
    {
     "data": {
      "text/plain": [
       "264"
      ]
     },
     "execution_count": 20,
     "metadata": {},
     "output_type": "execute_result"
    }
   ],
   "source": [
    "len(gdp) #vagy\n",
    "gdp.size"
   ]
  },
  {
   "cell_type": "markdown",
   "metadata": {},
   "source": [
    "What is the data type of the internet_users series?"
   ]
  },
  {
   "cell_type": "code",
   "execution_count": 21,
   "metadata": {},
   "outputs": [
    {
     "name": "stdout",
     "output_type": "stream",
     "text": [
      "float64\n"
     ]
    }
   ],
   "source": [
    "print(internet_users.dtype)"
   ]
  },
  {
   "cell_type": "markdown",
   "metadata": {},
   "source": [
    "What is the value of the first element in the population series?"
   ]
  },
  {
   "cell_type": "code",
   "execution_count": 23,
   "metadata": {},
   "outputs": [
    {
     "data": {
      "text/plain": [
       "103889.0"
      ]
     },
     "execution_count": 23,
     "metadata": {},
     "output_type": "execute_result"
    }
   ],
   "source": [
    "population.iloc[0]"
   ]
  },
  {
   "cell_type": "markdown",
   "metadata": {},
   "source": [
    "What is the value of the last element in the life_expectancy series?"
   ]
  },
  {
   "cell_type": "code",
   "execution_count": 25,
   "metadata": {},
   "outputs": [
    {
     "data": {
      "text/plain": [
       "57.498317073170746"
      ]
     },
     "execution_count": 25,
     "metadata": {},
     "output_type": "execute_result"
    }
   ],
   "source": [
    "life_expectancy.iloc[-1]"
   ]
  },
  {
   "cell_type": "markdown",
   "metadata": {},
   "source": [
    "What is the value of the element with index 29 in the literacy_rate series?"
   ]
  },
  {
   "cell_type": "code",
   "execution_count": 27,
   "metadata": {},
   "outputs": [
    {
     "data": {
      "text/plain": [
       "95.4420318603516"
      ]
     },
     "execution_count": 27,
     "metadata": {},
     "output_type": "execute_result"
    }
   ],
   "source": [
    "literacy_rate.iloc[29]"
   ]
  },
  {
   "cell_type": "markdown",
   "metadata": {},
   "source": [
    "What is the value of the last element in the gdp series?"
   ]
  },
  {
   "cell_type": "code",
   "execution_count": 28,
   "metadata": {},
   "outputs": [
    {
     "data": {
      "text/plain": [
       "27984877194.652447"
      ]
     },
     "execution_count": 28,
     "metadata": {},
     "output_type": "execute_result"
    }
   ],
   "source": [
    "gdp.iloc[-1]"
   ]
  },
  {
   "cell_type": "markdown",
   "metadata": {},
   "source": [
    "What is the mean of the internet_users series?"
   ]
  },
  {
   "cell_type": "code",
   "execution_count": 29,
   "metadata": {},
   "outputs": [
    {
     "data": {
      "text/plain": [
       "47.55657102325722"
      ]
     },
     "execution_count": 29,
     "metadata": {},
     "output_type": "execute_result"
    }
   ],
   "source": [
    "internet_users.mean()"
   ]
  },
  {
   "cell_type": "markdown",
   "metadata": {},
   "source": [
    "What is the standard deviation of the internet_users series?"
   ]
  },
  {
   "cell_type": "code",
   "execution_count": 30,
   "metadata": {},
   "outputs": [
    {
     "data": {
      "text/plain": [
       "27.691717353487636"
      ]
     },
     "execution_count": 30,
     "metadata": {},
     "output_type": "execute_result"
    }
   ],
   "source": [
    "internet_users.std()"
   ]
  },
  {
   "cell_type": "markdown",
   "metadata": {},
   "source": [
    "What is the median of the exports series?"
   ]
  },
  {
   "cell_type": "code",
   "execution_count": 31,
   "metadata": {},
   "outputs": [
    {
     "data": {
      "text/plain": [
       "0.30183071080490165"
      ]
     },
     "execution_count": 31,
     "metadata": {},
     "output_type": "execute_result"
    }
   ],
   "source": [
    "exports.median()"
   ]
  },
  {
   "cell_type": "markdown",
   "metadata": {},
   "source": [
    "What is the minimum value in the life_expectancy series"
   ]
  },
  {
   "cell_type": "code",
   "execution_count": 32,
   "metadata": {},
   "outputs": [
    {
     "data": {
      "text/plain": [
       "48.934731707317084"
      ]
     },
     "execution_count": 32,
     "metadata": {},
     "output_type": "execute_result"
    }
   ],
   "source": [
    "life_expectancy.min()"
   ]
  },
  {
   "cell_type": "markdown",
   "metadata": {},
   "source": [
    "What is the average literacy rate of all countries"
   ]
  },
  {
   "cell_type": "code",
   "execution_count": 33,
   "metadata": {},
   "outputs": [
    {
     "data": {
      "text/plain": [
       "80.91936549162253"
      ]
     },
     "execution_count": 33,
     "metadata": {},
     "output_type": "execute_result"
    }
   ],
   "source": [
    "literacy_rate.mean()"
   ]
  },
  {
   "cell_type": "markdown",
   "metadata": {},
   "source": [
    "Sort the country_name series in ascending order and assign the result to a new variable called country_name_sorted."
   ]
  },
  {
   "cell_type": "code",
   "execution_count": 34,
   "metadata": {},
   "outputs": [],
   "source": [
    "country_name_sorted = country_name.sort_values()"
   ]
  },
  {
   "cell_type": "markdown",
   "metadata": {},
   "source": [
    "Both the series country_name and literacy_rate have the same number of elements and the elements are in the same order with respect to index number. \n",
    "Arrange the country name as per ascending order of literacy rate. \n",
    "Assign the result of country name to new variable called country_name_sorted_by_literacy_rate and the result of literacy rate to new variable called literacy_rate_sorted.\n",
    "\n",
    "Example: If the country name is ['India', 'China', 'Japan'] and literacy rate is [80, 90, 70], then the result should be ['Japan', 'India', 'China'] and [70, 80, 90]."
   ]
  },
  {
   "cell_type": "code",
   "execution_count": 36,
   "metadata": {},
   "outputs": [
    {
     "data": {
      "text/plain": [
       "171                             Niger\n",
       "156                              Mali\n",
       "82                             Guinea\n",
       "2                         Afghanistan\n",
       "32           Central African Republic\n",
       "                    ...              \n",
       "248                     United States\n",
       "250    St. Vincent and the Grenadines\n",
       "252            British Virgin Islands\n",
       "253             Virgin Islands (U.S.)\n",
       "257                             World\n",
       "Name: Country Name, Length: 264, dtype: object"
      ]
     },
     "execution_count": 36,
     "metadata": {},
     "output_type": "execute_result"
    }
   ],
   "source": [
    "literacy_rate_sorted = literacy_rate.sort_values()\n",
    "country_name_sorted_by_literacy_rate = country_name[literacy_rate_sorted.index]\n",
    "\n",
    "literacy_rate_sorted\n",
    "country_name_sorted_by_literacy_rate"
   ]
  }
 ],
 "metadata": {
  "kernelspec": {
   "display_name": "base",
   "language": "python",
   "name": "python3"
  },
  "language_info": {
   "codemirror_mode": {
    "name": "ipython",
    "version": 3
   },
   "file_extension": ".py",
   "mimetype": "text/x-python",
   "name": "python",
   "nbconvert_exporter": "python",
   "pygments_lexer": "ipython3",
   "version": "3.11.7"
  }
 },
 "nbformat": 4,
 "nbformat_minor": 2
}
