{
 "cells": [
  {
   "cell_type": "markdown",
   "metadata": {},
   "source": [
    "In this project you'll practice your Series filtering skills.\n",
    "\n",
    "Before we get started, let's introduce the datasets used. Make sure your lab is running!\n",
    "\n",
    "Datasets\n",
    "\n",
    "Both datasets used for this project were taken from the publicly available and Open Source RDatasets repository.\n",
    "Age of First Marriage\n",
    "\n",
    "The first one is titled Age at first marriage of 5,534 US women (source). It reads:\n",
    "\n",
    "    Age at first marriage of 5,534 US women who responded to the National Survey of Family Growth (NSFG) conducted by the CDC in the 2006 and 2010 cycle.\n",
    "\n",
    "There are a total of 5,534 observations.\n",
    "\n",
    "S&P500 Returns (1990's)\n",
    "\n",
    "The second one is titled Returns of the Standard and Poors 500 (source) contains daily returns for S&P500 in the 1990's (1991-1999). It contains 2,780 values.\n",
    "Reading the data\n",
    "\n",
    "We can use the pandas built-in read_csv method to read the data that is stored in CSV format. Most commonly, read_csv is used to read data into DataFrames, but as this project deals with Series, we pass the parameter squeeze=True to make it a series. Bottom line is: don't worry about it for now, both datasets should be available for you in the variables age_marriage and sp500.\n",
    "\n",
    "We can also display a quick histogram about our data to understand how it is distributed. This is completely optional."
   ]
  },
  {
   "cell_type": "code",
   "execution_count": null,
   "metadata": {},
   "outputs": [],
   "source": [
    "import pandas as pd\n",
    "import seaborn as sns\n",
    "import matplotlib.pyplot as plt\n",
    "from matplotlib.patches import Rectangle\n",
    "#D:\\DataWars\\source\\Rdatasets-master\\csv\\openintro\n",
    "age_marriage = pd.read_csv(r'..\\..\\source\\Rdatasets-master\\csv\\openintro\\age_at_mar.csv', index_col=0).squeeze(\"columns\")\n",
    "\n",
    "'''\n",
    "A squeeze metódus egy pandas.Series objektumot ad vissza, ha az eredeti adat \n",
    "egyetlen oszlopos DataFrame vagy egy pandas.Series\n",
    "a squeeze metódust hívja meg az eredményen. Itt a \"columns\" paraméterrel hívja \n",
    "meg a squeeze metódust, ami azt jelenti, hogy az eredmény egy pandas.Series lesz.\n",
    "\n",
    "'''"
   ]
  },
  {
   "cell_type": "code",
   "execution_count": 2,
   "metadata": {},
   "outputs": [
    {
     "name": "stdout",
     "output_type": "stream",
     "text": [
      "(5534,)\n"
     ]
    }
   ],
   "source": [
    "age_marriage.head()\n",
    "print(age_marriage.shape)"
   ]
  },
  {
   "cell_type": "code",
   "execution_count": 3,
   "metadata": {},
   "outputs": [],
   "source": [
    "#fig, ax = plt.subplots(figsize=(14, 7))\n",
    "#sns.histplot(age_marriage, ax=ax)"
   ]
  },
  {
   "cell_type": "code",
   "execution_count": null,
   "metadata": {},
   "outputs": [],
   "source": [
    "sp500 = pd.read_csv(r'..\\..\\source\\Rdatasets-master\\csv\\MASS\\SP500.csv', index_col=0).squeeze(\"columns\") \n",
    "sp500.head()"
   ]
  },
  {
   "cell_type": "markdown",
   "metadata": {},
   "source": [
    "Rename the series accordingly\n",
    "\n",
    "Rename both series with the names specified below, given their variables:\n",
    "\n",
    "    age_marriage: should be named \"Age of First Marriage\"\n",
    "    sp500: should be named \"S&P500 Returns 90s\""
   ]
  },
  {
   "cell_type": "code",
   "execution_count": 5,
   "metadata": {},
   "outputs": [],
   "source": [
    "age_marriage.name = \"Age of First Marriage\"\n",
    "sp500.name = \"S&P500 Returns 90s\""
   ]
  },
  {
   "cell_type": "markdown",
   "metadata": {},
   "source": [
    "What's the maximum Age of marriage?"
   ]
  },
  {
   "cell_type": "code",
   "execution_count": null,
   "metadata": {},
   "outputs": [],
   "source": [
    "age_marriage.max()"
   ]
  },
  {
   "cell_type": "markdown",
   "metadata": {},
   "source": [
    "What's the median Age of Marriage?"
   ]
  },
  {
   "cell_type": "code",
   "execution_count": null,
   "metadata": {},
   "outputs": [],
   "source": [
    "age_marriage.median()"
   ]
  },
  {
   "cell_type": "markdown",
   "metadata": {},
   "source": [
    "What's the minimum return from S&P500?\n",
    "\n",
    "Enter the value with up 2 decimals of precision. Example, if the value is -11.8718, enter only -11.87."
   ]
  },
  {
   "cell_type": "code",
   "execution_count": null,
   "metadata": {},
   "outputs": [],
   "source": [
    "sp500.min()"
   ]
  },
  {
   "cell_type": "markdown",
   "metadata": {},
   "source": [
    "How many Women marry at age 21?\n",
    "\n",
    "21 is the most common age for marriage (you can check that using the .mode() method). How many women married at that age?"
   ]
  },
  {
   "cell_type": "code",
   "execution_count": 9,
   "metadata": {},
   "outputs": [
    {
     "data": {
      "text/plain": [
       "495"
      ]
     },
     "execution_count": 9,
     "metadata": {},
     "output_type": "execute_result"
    }
   ],
   "source": [
    "len(age_marriage[age_marriage == 21])"
   ]
  },
  {
   "cell_type": "markdown",
   "metadata": {},
   "source": [
    "How many Women marry at 39y/o or older?"
   ]
  },
  {
   "cell_type": "code",
   "execution_count": 11,
   "metadata": {},
   "outputs": [
    {
     "data": {
      "text/plain": [
       "39"
      ]
     },
     "execution_count": 11,
     "metadata": {},
     "output_type": "execute_result"
    }
   ],
   "source": [
    "len(age_marriage[age_marriage >= 39])"
   ]
  },
  {
   "cell_type": "markdown",
   "metadata": {},
   "source": [
    "How many returns are less or equals than -2?"
   ]
  },
  {
   "cell_type": "code",
   "execution_count": 13,
   "metadata": {},
   "outputs": [
    {
     "data": {
      "text/plain": [
       "63"
      ]
     },
     "execution_count": 13,
     "metadata": {},
     "output_type": "execute_result"
    }
   ],
   "source": [
    "len(sp500[sp500 <= -2 ])"
   ]
  },
  {
   "cell_type": "markdown",
   "metadata": {},
   "source": [
    "Advanced Selection with Boolean Operators\n",
    "\n",
    "Now it's time to combine conditionals using boolean operators to create more advanced filters. This time, we'll ask you to define new variables that will be checked dynamically.\n",
    "\n",
    "Select all women below 20 or above 39\n",
    "\n",
    "Perform a selection of all the values in age_marriage that are below 20 or above 39. Store your results in the variable age_20_39.\n"
   ]
  },
  {
   "cell_type": "code",
   "execution_count": 18,
   "metadata": {},
   "outputs": [
    {
     "name": "stderr",
     "output_type": "stream",
     "text": [
      "c:\\Users\\chris\\anaconda3\\Lib\\site-packages\\seaborn\\_oldcore.py:1119: FutureWarning: use_inf_as_na option is deprecated and will be removed in a future version. Convert inf values to NaN before operating instead.\n",
      "  with pd.option_context('mode.use_inf_as_na', True):\n"
     ]
    },
    {
     "data": {
      "text/plain": [
       "<matplotlib.patches.Rectangle at 0x1d6275752d0>"
      ]
     },
     "execution_count": 18,
     "metadata": {},
     "output_type": "execute_result"
    },
    {
     "data": {
      "image/png": "[encoded data removed]",
      "text/plain": [
       "<Figure size 1400x700 with 1 Axes>"
      ]
     },
     "metadata": {},
     "output_type": "display_data"
    }
   ],
   "source": [
    "fig, ax = plt.subplots(figsize=(14, 7))\n",
    "sns.histplot(age_marriage, ax=ax)\n",
    "ax.add_patch(Rectangle((10, 0), 9, 450, alpha=.3, color='red'))\n",
    "ax.add_patch(Rectangle((39, 0), 5, 450, alpha=.3, color='red'))"
   ]
  },
  {
   "cell_type": "code",
   "execution_count": 19,
   "metadata": {},
   "outputs": [
    {
     "data": {
      "text/plain": [
       "rownames\n",
       "14      40\n",
       "35      19\n",
       "74      19\n",
       "76      17\n",
       "84      19\n",
       "        ..\n",
       "5517    16\n",
       "5520    18\n",
       "5527    19\n",
       "5531    19\n",
       "5534    19\n",
       "Name: Age of First Marriage, Length: 1206, dtype: int64"
      ]
     },
     "execution_count": 19,
     "metadata": {},
     "output_type": "execute_result"
    }
   ],
   "source": [
    "age_marriage[(age_marriage < 20) | (age_marriage > 39)]"
   ]
  },
  {
   "cell_type": "markdown",
   "metadata": {},
   "source": [
    "Select all women whose ages are even, and are older than 30 y/o\n",
    "\n",
    "Perform a selection of all the values that are greater than 30 and even. Store your result in the variable age_30_even."
   ]
  },
  {
   "cell_type": "code",
   "execution_count": 20,
   "metadata": {},
   "outputs": [
    {
     "data": {
      "text/plain": [
       "rownames\n",
       "1       32\n",
       "5       32\n",
       "14      40\n",
       "24      34\n",
       "55      32\n",
       "        ..\n",
       "5477    32\n",
       "5488    40\n",
       "5510    32\n",
       "5516    34\n",
       "5528    34\n",
       "Name: Age of First Marriage, Length: 172, dtype: int64"
      ]
     },
     "execution_count": 20,
     "metadata": {},
     "output_type": "execute_result"
    }
   ],
   "source": [
    "age_marriage[(age_marriage % 2 == 0) & (age_marriage > 30)]"
   ]
  },
  {
   "cell_type": "markdown",
   "metadata": {},
   "source": [
    "Select the S&P500 returns between 1.5 and 3\n",
    "\n",
    "Select all the S&P500 returns that are greater than 1.5 and lower than 3. Store your results in the variable sp_15_to_3."
   ]
  },
  {
   "cell_type": "code",
   "execution_count": 21,
   "metadata": {},
   "outputs": [
    {
     "name": "stderr",
     "output_type": "stream",
     "text": [
      "c:\\Users\\chris\\anaconda3\\Lib\\site-packages\\seaborn\\_oldcore.py:1119: FutureWarning: use_inf_as_na option is deprecated and will be removed in a future version. Convert inf values to NaN before operating instead.\n",
      "  with pd.option_context('mode.use_inf_as_na', True):\n"
     ]
    },
    {
     "data": {
      "text/plain": [
       "<matplotlib.patches.Rectangle at 0x1d627c62a90>"
      ]
     },
     "execution_count": 21,
     "metadata": {},
     "output_type": "execute_result"
    },
    {
     "data": {
      "image/png": "[encoded data removed]",
      "text/plain": [
       "<Figure size 1400x700 with 1 Axes>"
      ]
     },
     "metadata": {},
     "output_type": "display_data"
    }
   ],
   "source": [
    "ig, ax = plt.subplots(figsize=(14, 7))\n",
    "sns.histplot(sp500, ax=ax)\n",
    "ax.add_patch(Rectangle((1, 0), 1.5, 250, alpha=.3, color='red'))"
   ]
  },
  {
   "cell_type": "code",
   "execution_count": 23,
   "metadata": {},
   "outputs": [
    {
     "data": {
      "text/plain": [
       "rownames\n",
       "21      1.871048\n",
       "91      2.351291\n",
       "102     1.697397\n",
       "188     1.673790\n",
       "189     2.863366\n",
       "          ...   \n",
       "2715    2.199155\n",
       "2738    2.174014\n",
       "2748    2.318141\n",
       "2765    1.941508\n",
       "2775    2.409438\n",
       "Name: S&P500 Returns 90s, Length: 123, dtype: float64"
      ]
     },
     "execution_count": 23,
     "metadata": {},
     "output_type": "execute_result"
    }
   ],
   "source": [
    "sp500[(sp500 > 1.5)&(sp500 < 3)]"
   ]
  },
  {
   "cell_type": "markdown",
   "metadata": {},
   "source": [
    "How many positive S&P500 returns are there?"
   ]
  },
  {
   "cell_type": "code",
   "execution_count": 25,
   "metadata": {},
   "outputs": [
    {
     "data": {
      "text/plain": [
       "1474"
      ]
     },
     "execution_count": 25,
     "metadata": {},
     "output_type": "execute_result"
    }
   ],
   "source": [
    "len(sp500[sp500 > 0])"
   ]
  }
 ],
 "metadata": {
  "kernelspec": {
   "display_name": "base",
   "language": "python",
   "name": "python3"
  },
  "language_info": {
   "codemirror_mode": {
    "name": "ipython",
    "version": 3
   },
   "file_extension": ".py",
   "mimetype": "text/x-python",
   "name": "python",
   "nbconvert_exporter": "python",
   "pygments_lexer": "ipython3",
   "version": "3.11.7"
  }
 },
 "nbformat": 4,
 "nbformat_minor": 2
}
