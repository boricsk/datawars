{
 "cells": [
  {
   "cell_type": "markdown",
   "metadata": {},
   "source": [
    "Az általunk használt adatok az NBA játékosainak statisztikáihoz kapcsolódnak 1985 óta. Bár ez a gyakorlat a sorozatokra vonatkozik, adatainkat DataFrame-ként kezdjük el olvasni. Ha még nem tudja, mi az a DataFrame, ne aggódjon... ez valóban hasznos lesz a jövőben. Az egyetlen dolog, amit most tudnia kell, hogy a DataFrame minden oszlopa egy sorozat. És kivonunk néhány sorozatot a df-ből:"
   ]
  },
  {
   "cell_type": "code",
   "execution_count": 2,
   "metadata": {},
   "outputs": [
    {
     "data": {
      "text/html": [
       "<div>\n",
       "<style scoped>\n",
       "    .dataframe tbody tr th:only-of-type {\n",
       "        vertical-align: middle;\n",
       "    }\n",
       "\n",
       "    .dataframe tbody tr th {\n",
       "        vertical-align: top;\n",
       "    }\n",
       "\n",
       "    .dataframe thead th {\n",
       "        text-align: right;\n",
       "    }\n",
       "</style>\n",
       "<table border=\"1\" class=\"dataframe\">\n",
       "  <thead>\n",
       "    <tr style=\"text-align: right;\">\n",
       "      <th></th>\n",
       "      <th>Games Played</th>\n",
       "      <th>MIN</th>\n",
       "      <th>PTS</th>\n",
       "      <th>FGM</th>\n",
       "      <th>FGA</th>\n",
       "      <th>FG%</th>\n",
       "      <th>3PM</th>\n",
       "      <th>3PA</th>\n",
       "      <th>3P%</th>\n",
       "      <th>FTM</th>\n",
       "      <th>...</th>\n",
       "      <th>Age</th>\n",
       "      <th>Birth_Place</th>\n",
       "      <th>Birthdate</th>\n",
       "      <th>Collage</th>\n",
       "      <th>Experience</th>\n",
       "      <th>Height</th>\n",
       "      <th>Pos</th>\n",
       "      <th>Team</th>\n",
       "      <th>Weight</th>\n",
       "      <th>BMI</th>\n",
       "    </tr>\n",
       "    <tr>\n",
       "      <th>Name</th>\n",
       "      <th></th>\n",
       "      <th></th>\n",
       "      <th></th>\n",
       "      <th></th>\n",
       "      <th></th>\n",
       "      <th></th>\n",
       "      <th></th>\n",
       "      <th></th>\n",
       "      <th></th>\n",
       "      <th></th>\n",
       "      <th></th>\n",
       "      <th></th>\n",
       "      <th></th>\n",
       "      <th></th>\n",
       "      <th></th>\n",
       "      <th></th>\n",
       "      <th></th>\n",
       "      <th></th>\n",
       "      <th></th>\n",
       "      <th></th>\n",
       "      <th></th>\n",
       "    </tr>\n",
       "  </thead>\n",
       "  <tbody>\n",
       "    <tr>\n",
       "      <th>AJ Price</th>\n",
       "      <td>26</td>\n",
       "      <td>324</td>\n",
       "      <td>133</td>\n",
       "      <td>51</td>\n",
       "      <td>137</td>\n",
       "      <td>37.2</td>\n",
       "      <td>15</td>\n",
       "      <td>57</td>\n",
       "      <td>26.3</td>\n",
       "      <td>16</td>\n",
       "      <td>...</td>\n",
       "      <td>29.0</td>\n",
       "      <td>us</td>\n",
       "      <td>October 7, 1986</td>\n",
       "      <td>University of Connecticut</td>\n",
       "      <td>5</td>\n",
       "      <td>185.0</td>\n",
       "      <td>PG</td>\n",
       "      <td>PHO</td>\n",
       "      <td>81.45</td>\n",
       "      <td>23.798393</td>\n",
       "    </tr>\n",
       "    <tr>\n",
       "      <th>Aaron Brooks</th>\n",
       "      <td>82</td>\n",
       "      <td>1885</td>\n",
       "      <td>954</td>\n",
       "      <td>344</td>\n",
       "      <td>817</td>\n",
       "      <td>42.1</td>\n",
       "      <td>121</td>\n",
       "      <td>313</td>\n",
       "      <td>38.7</td>\n",
       "      <td>145</td>\n",
       "      <td>...</td>\n",
       "      <td>30.0</td>\n",
       "      <td>us</td>\n",
       "      <td>January 14, 1985</td>\n",
       "      <td>University of Oregon</td>\n",
       "      <td>6</td>\n",
       "      <td>180.0</td>\n",
       "      <td>PG</td>\n",
       "      <td>CHI</td>\n",
       "      <td>72.45</td>\n",
       "      <td>22.361111</td>\n",
       "    </tr>\n",
       "    <tr>\n",
       "      <th>Aaron Gordon</th>\n",
       "      <td>47</td>\n",
       "      <td>797</td>\n",
       "      <td>243</td>\n",
       "      <td>93</td>\n",
       "      <td>208</td>\n",
       "      <td>44.7</td>\n",
       "      <td>13</td>\n",
       "      <td>48</td>\n",
       "      <td>27.1</td>\n",
       "      <td>44</td>\n",
       "      <td>...</td>\n",
       "      <td>20.0</td>\n",
       "      <td>us</td>\n",
       "      <td>September 16, 1995</td>\n",
       "      <td>University of Arizona</td>\n",
       "      <td>R</td>\n",
       "      <td>202.5</td>\n",
       "      <td>PF</td>\n",
       "      <td>ORL</td>\n",
       "      <td>99.00</td>\n",
       "      <td>24.142661</td>\n",
       "    </tr>\n",
       "    <tr>\n",
       "      <th>Adreian Payne</th>\n",
       "      <td>32</td>\n",
       "      <td>740</td>\n",
       "      <td>213</td>\n",
       "      <td>91</td>\n",
       "      <td>220</td>\n",
       "      <td>41.4</td>\n",
       "      <td>1</td>\n",
       "      <td>9</td>\n",
       "      <td>11.1</td>\n",
       "      <td>30</td>\n",
       "      <td>...</td>\n",
       "      <td>24.0</td>\n",
       "      <td>us</td>\n",
       "      <td>February 19, 1991</td>\n",
       "      <td>Michigan State University</td>\n",
       "      <td>R</td>\n",
       "      <td>205.0</td>\n",
       "      <td>PF</td>\n",
       "      <td>ATL</td>\n",
       "      <td>106.65</td>\n",
       "      <td>25.377751</td>\n",
       "    </tr>\n",
       "    <tr>\n",
       "      <th>Al Horford</th>\n",
       "      <td>76</td>\n",
       "      <td>2318</td>\n",
       "      <td>1156</td>\n",
       "      <td>519</td>\n",
       "      <td>965</td>\n",
       "      <td>53.8</td>\n",
       "      <td>11</td>\n",
       "      <td>36</td>\n",
       "      <td>30.6</td>\n",
       "      <td>107</td>\n",
       "      <td>...</td>\n",
       "      <td>29.0</td>\n",
       "      <td>do</td>\n",
       "      <td>June 3, 1986</td>\n",
       "      <td>University of Florida</td>\n",
       "      <td>7</td>\n",
       "      <td>205.0</td>\n",
       "      <td>C</td>\n",
       "      <td>ATL</td>\n",
       "      <td>110.25</td>\n",
       "      <td>26.234384</td>\n",
       "    </tr>\n",
       "  </tbody>\n",
       "</table>\n",
       "<p>5 rows × 33 columns</p>\n",
       "</div>"
      ],
      "text/plain": [
       "               Games Played   MIN   PTS  FGM  FGA   FG%  3PM  3PA   3P%  FTM  \\\n",
       "Name                                                                           \n",
       "AJ Price                 26   324   133   51  137  37.2   15   57  26.3   16   \n",
       "Aaron Brooks             82  1885   954  344  817  42.1  121  313  38.7  145   \n",
       "Aaron Gordon             47   797   243   93  208  44.7   13   48  27.1   44   \n",
       "Adreian Payne            32   740   213   91  220  41.4    1    9  11.1   30   \n",
       "Al Horford               76  2318  1156  519  965  53.8   11   36  30.6  107   \n",
       "\n",
       "               ...   Age  Birth_Place           Birthdate  \\\n",
       "Name           ...                                          \n",
       "AJ Price       ...  29.0           us     October 7, 1986   \n",
       "Aaron Brooks   ...  30.0           us    January 14, 1985   \n",
       "Aaron Gordon   ...  20.0           us  September 16, 1995   \n",
       "Adreian Payne  ...  24.0           us   February 19, 1991   \n",
       "Al Horford     ...  29.0           do        June 3, 1986   \n",
       "\n",
       "                                 Collage  Experience  Height  Pos  Team  \\\n",
       "Name                                                                      \n",
       "AJ Price       University of Connecticut           5   185.0   PG   PHO   \n",
       "Aaron Brooks        University of Oregon           6   180.0   PG   CHI   \n",
       "Aaron Gordon       University of Arizona           R   202.5   PF   ORL   \n",
       "Adreian Payne  Michigan State University           R   205.0   PF   ATL   \n",
       "Al Horford         University of Florida           7   205.0    C   ATL   \n",
       "\n",
       "               Weight        BMI  \n",
       "Name                              \n",
       "AJ Price        81.45  23.798393  \n",
       "Aaron Brooks    72.45  22.361111  \n",
       "Aaron Gordon    99.00  24.142661  \n",
       "Adreian Payne  106.65  25.377751  \n",
       "Al Horford     110.25  26.234384  \n",
       "\n",
       "[5 rows x 33 columns]"
      ]
     },
     "execution_count": 2,
     "metadata": {},
     "output_type": "execute_result"
    }
   ],
   "source": [
    "import pandas as pd\n",
    "source = r'https://raw.githubusercontent.com/prasertcbs/basic-dataset/master/nba_players_stats.csv'\n",
    "df = pd.read_csv(source, index_col='Name')\n",
    "df.head()"
   ]
  },
  {
   "cell_type": "code",
   "execution_count": 3,
   "metadata": {},
   "outputs": [],
   "source": [
    "# Game info\n",
    "games_played = df['Games Played']\n",
    "minutes_played = df['MIN']\n",
    "\n",
    "# Field Goals info\n",
    "field_goals = df['FG%']\n",
    "field_goals_attempts = df['FGA']\n",
    "\n",
    "# Free Throws info\n",
    "free_throws = df['FTM']\n",
    "free_throws_attempts = df['FTA']"
   ]
  },
  {
   "cell_type": "markdown",
   "metadata": {},
   "source": [
    "Calculate field goal accuracy\n",
    "\n",
    "Calculate the \"Field Goal accuracy\" of a player by dividing their field goals by their total attempts then multiply by 100. Store the result in the variable field_goal_perc."
   ]
  },
  {
   "cell_type": "code",
   "execution_count": 4,
   "metadata": {},
   "outputs": [],
   "source": [
    "field_goal_perc = (field_goals / field_goals_attempts) * 100"
   ]
  },
  {
   "cell_type": "markdown",
   "metadata": {},
   "source": [
    "What's the FG% of Michael Jordan\n",
    "\n",
    "Use the series created in the previous activity, field_goal_perc, to answer: what's the FG% of Michael Jordan?\n",
    "\n",
    "    Remember, MJ's name in this dataset is Michael Jordan* because he was (obviously) inducted in the HoF.\n",
    "\n",
    "Enter your result with up to three decimal points(don't round-off). That is, if the value is 0.618324, enter 0.618 (including the 0 and the dot .)."
   ]
  },
  {
   "cell_type": "code",
   "execution_count": null,
   "metadata": {},
   "outputs": [],
   "source": [
    "field_goal_perc['Michael Jordan*']"
   ]
  },
  {
   "cell_type": "markdown",
   "metadata": {},
   "source": [
    "Field goals per Game\n",
    "\n",
    "Calculate \"Field Goals per Game\" using the series field_goals and games_played. Store your results in the variable field_goals_per_game"
   ]
  },
  {
   "cell_type": "code",
   "execution_count": null,
   "metadata": {},
   "outputs": [],
   "source": [
    "field_goals_per_game = field_goals / games_played"
   ]
  },
  {
   "cell_type": "markdown",
   "metadata": {},
   "source": [
    "Which player has the highest 'Field Goal per Game' value?\n",
    "\n",
    "All stars here...\n",
    "\n",
    "Larry Bird\n",
    "\n",
    "Michael Jordan\n",
    "\n",
    "Magic Johnson\n",
    "\n",
    "LeBron James"
   ]
  },
  {
   "cell_type": "code",
   "execution_count": null,
   "metadata": {},
   "outputs": [],
   "source": [
    "field_goals_per_game.sort_values(ascending=False).head(1)"
   ]
  },
  {
   "cell_type": "markdown",
   "metadata": {},
   "source": [
    "Calculate 'Total Points'\n",
    "\n",
    "In the NBA lingo, field goals account for all the \"goals\" scored by a player, EXCEPT free throws. So, if we want to calculate the total number of points scored by a player, we must add field goals and free throws. Field goals are a combination of 2-point and 3-point goals. For this exercise, you can safely assume that all \"field goals\" have a value of 2.\n",
    "\n",
    "Calculate Total Points scored by a player, by adding the series containing field goals and free throws. Store your results in the variable total_points."
   ]
  },
  {
   "cell_type": "code",
   "execution_count": 8,
   "metadata": {},
   "outputs": [],
   "source": [
    "total_points = (field_goals * 2) + free_throws"
   ]
  },
  {
   "cell_type": "markdown",
   "metadata": {},
   "source": [
    "Who's the player with the most Total Points?\n",
    "\n",
    "Who's the player that, according to our dataset, has scored the most points in the NBA history?\n",
    "\n",
    "Shaquille O'Neal\n",
    "\n",
    "Michael Jordan\n",
    "\n",
    "Karl Malone\n",
    "\n",
    "Kobe Bryant"
   ]
  },
  {
   "cell_type": "code",
   "execution_count": 9,
   "metadata": {},
   "outputs": [
    {
     "data": {
      "text/plain": [
       "Name\n",
       "James Harden    803.0\n",
       "dtype: float64"
      ]
     },
     "execution_count": 9,
     "metadata": {},
     "output_type": "execute_result"
    }
   ],
   "source": [
    "total_points.sort_values(ascending = False).head(1)"
   ]
  },
  {
   "cell_type": "markdown",
   "metadata": {},
   "source": [
    "Using the series that you previously calculated, total_points, calculate \"Total points per minute\". Store your results in the variable points_per_minute.\n",
    "\n",
    "    Important. This activity relies on total_points. Make sure you have completed that one correctly."
   ]
  },
  {
   "cell_type": "code",
   "execution_count": 10,
   "metadata": {},
   "outputs": [],
   "source": [
    "points_per_minute = total_points / minutes_played"
   ]
  },
  {
   "cell_type": "markdown",
   "metadata": {},
   "source": [
    "Who has a better Points per Minute score; MJ or Kevin Durant?\n",
    "\n",
    "Kevin Durant\n",
    "\n",
    "Michael Jordan"
   ]
  },
  {
   "cell_type": "code",
   "execution_count": null,
   "metadata": {},
   "outputs": [],
   "source": [
    "points_per_minute['Michael Jordan*']\n",
    "points_per_minute['Kevin Durant']"
   ]
  },
  {
   "cell_type": "markdown",
   "metadata": {},
   "source": [
    "Calculate FT\n",
    "\n",
    "FT is the proportion of scored Free Throws divided by the total attempts. Basically, the accuracy of Free Throws. Store your results in ft_perc."
   ]
  },
  {
   "cell_type": "code",
   "execution_count": null,
   "metadata": {},
   "outputs": [],
   "source": [
    "ft_perc = free_throws / free_throws_attempts"
   ]
  },
  {
   "cell_type": "markdown",
   "metadata": {},
   "source": [
    "Who's the player with best FT% record: MJ or Larry Bird?\n",
    "\n",
    "A battle of titans. Who had a better FT% record?\n",
    "\n",
    "Larry Bird\n",
    "\n",
    "Michael Jordan"
   ]
  },
  {
   "cell_type": "code",
   "execution_count": null,
   "metadata": {},
   "outputs": [],
   "source": [
    "ft_perc['Michael Jordan*']\n",
    "ft_perc['Larry Bird']"
   ]
  },
  {
   "cell_type": "markdown",
   "metadata": {},
   "source": [
    "Find the top 25% players by 'free throw accuracy'\n",
    "\n",
    "Create a boolean series that contains True values for those players that are in the top 25% by free throw efficiency (using the preivously calculated) ft_perc series. Store your results in the variable ft_top_25.\n"
   ]
  },
  {
   "cell_type": "code",
   "execution_count": null,
   "metadata": {},
   "outputs": [],
   "source": [
    "ft_top_25 = ft_perc >= ft_perc.quantile(0.75)"
   ]
  },
  {
   "cell_type": "markdown",
   "metadata": {},
   "source": [
    "How many players are in the top 25% by free throw accuracy?\n",
    "\n",
    "Answer using the previously calcualted series ft_top_25."
   ]
  },
  {
   "cell_type": "code",
   "execution_count": null,
   "metadata": {},
   "outputs": [],
   "source": [
    "len(ft_top_25[ft_top_25 == True])"
   ]
  },
  {
   "cell_type": "markdown",
   "metadata": {},
   "source": [
    "Find those players that scored 0 points in their history\n",
    "\n",
    "Create a boolean series that contains True values for those players that have scored 0 total points. Store your results in the variable players_0_points."
   ]
  },
  {
   "cell_type": "code",
   "execution_count": null,
   "metadata": {},
   "outputs": [],
   "source": [
    "players_0_points = total_points == 0"
   ]
  },
  {
   "cell_type": "markdown",
   "metadata": {},
   "source": [
    "How many players have scored 0 points?\n",
    "\n",
    "Using your previous series, answer: how many players registered 0 points?"
   ]
  },
  {
   "cell_type": "code",
   "execution_count": null,
   "metadata": {},
   "outputs": [],
   "source": [
    "len(players_0_points[players_0_points == True])"
   ]
  }
 ],
 "metadata": {
  "kernelspec": {
   "display_name": "base",
   "language": "python",
   "name": "python3"
  },
  "language_info": {
   "codemirror_mode": {
    "name": "ipython",
    "version": 3
   },
   "file_extension": ".py",
   "mimetype": "text/x-python",
   "name": "python",
   "nbconvert_exporter": "python",
   "pygments_lexer": "ipython3",
   "version": "3.11.7"
  }
 },
 "nbformat": 4,
 "nbformat_minor": 2
}
