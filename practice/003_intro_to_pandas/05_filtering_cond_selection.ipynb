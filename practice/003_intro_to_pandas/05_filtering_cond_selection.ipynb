{
 "cells": [
  {
   "cell_type": "markdown",
   "metadata": {},
   "source": [
    "Most itt az ideje gyakorolni a feltételes kijelölést a sorozattal. Ugyanazokat az adatokat fogjuk felhasználni, mint korábban a Vállalatok bevételeinél.\n",
    "A feltételes kijelölés olyan, mint a \"szűrés\" vagy a \"lekérdezés\" (ha ismeri az SQL-t). Ez lehetővé teszi számunkra, hogy a következő típusú kérdésekre válaszoljunk:\n",
    "\n",
    "     mely cégek kerestek X dollárnál többet?\n",
    "     mely cégek kerestek X dollárnál kevesebbet?\n",
    "     milyen cégek csináltak X és $Y között?"
   ]
  },
  {
   "cell_type": "markdown",
   "metadata": {},
   "source": [
    "Logikai tömbök\n",
    "\n",
    "Elkezdjük bemutatni a logikai tömbök fogalmát (ami viszont a NumPy koncepciója, de ennek befejezéséhez nem szükséges ismernie a NumPy-t).\n",
    "\n",
    "Ez az elgondolás az elején kissé furcsán hangozhat, de bízzon bennünk, a következő részben mindennek lesz értelme.\n",
    "\n",
    "A logikai tömbök egy olyan kijelölési mód, amelyben átadjuk a sorozat teljes indexét, és jelezzük, hogy mely elemeket szeretnénk kijelölni, és melyeket kihagyjuk. Ezt a logikai értékek átadásával jelezzük: igaz és hamis.\n",
    "\n",
    "Nézzünk egy példát, hogy világosabb legyen. Logikai tömböket fogunk használni csak az amerikai vállalatok kiválasztásához. Vagyis: Apple, Alphabet, Microsoft, Dell, Meta, Intel és IBM.\n",
    "\n",
    "A logikai tömbök használatával a True értéket minden egyes vállalatnál át kell adnunk, és a False értéket a többi vállalatnak. \\\n",
    "<img src = 'log_array.jpg'>"
   ]
  },
  {
   "cell_type": "code",
   "execution_count": 2,
   "metadata": {},
   "outputs": [],
   "source": [
    "import pandas as pd\n",
    "companies = [\n",
    "    'Apple', 'Samsung', 'Alphabet', 'Foxconn',\n",
    "    'Microsoft', 'Huawei', 'Dell Technologies',\n",
    "    'Meta', 'Sony', 'Hitachi', 'Intel',\n",
    "    'IBM', 'Tencent', 'Panasonic'\n",
    "]\n",
    "\n",
    "s = pd.Series([\n",
    "    274515, 200734, 182527, 181945, 143015,\n",
    "    129184, 92224, 85965, 84893, 82345,\n",
    "    77867, 73620, 69864, 63191],\n",
    "    index=companies,\n",
    "    name=\"Top Technology Companies by Revenue\")"
   ]
  },
  {
   "cell_type": "markdown",
   "metadata": {},
   "source": [
    "Kérjük, vegye figyelembe, hogy az átadott logikai értékek listájának (vagy tömbjének) EQUAL hosszúságúnak kell lennie a sorozatindexével. Igaz vagy hamis értéket kell átadnunk az index ÖSSZES értékéhez. Ha nem vagyunk kíváncsiak egy elem kiválasztására, csak a False értéket adjuk meg.\n",
    "\n",
    "Most úgy tűnhet, hogy ez az adatkiválasztás \"nem hatékony\" módja. Mi történik, ha 1 millió rekordja van? Mindegyik rekordhoz igaz vagy hamis értéket kell beírnia? Természetesen nem! A következő részben világossá válik, hogy miért fontosak a logikai tömbök.\n"
   ]
  },
  {
   "cell_type": "code",
   "execution_count": 3,
   "metadata": {},
   "outputs": [
    {
     "data": {
      "text/plain": [
       "Apple                274515\n",
       "Alphabet             182527\n",
       "Microsoft            143015\n",
       "Dell Technologies     92224\n",
       "Meta                  85965\n",
       "Intel                 77867\n",
       "IBM                   73620\n",
       "Name: Top Technology Companies by Revenue, dtype: int64"
      ]
     },
     "execution_count": 3,
     "metadata": {},
     "output_type": "execute_result"
    }
   ],
   "source": [
    "#Boolean arrays\n",
    "s.loc[[\n",
    "    True,      # Apple\n",
    "    False,     # Samsung\n",
    "    True,      # Alphabet\n",
    "    False,     # Foxconn\n",
    "    True,      # Microsoft\n",
    "    False,     # Huawei\n",
    "    True,      # Dell\n",
    "    True,      # Meta\n",
    "    False,     # Sony\n",
    "    False,     # Hitachi\n",
    "    True,      # Intel\n",
    "    True,      # IBM\n",
    "    False,     # Tencent\n",
    "    False,     # Panasonic\n",
    "]]"
   ]
  },
  {
   "cell_type": "markdown",
   "metadata": {},
   "source": [
    "Csak a japán cégeket válassza ki\n",
    "\n",
    "Hozzon létre egy logikai tömböt, amely csak a sorozatunkban szereplő japán vállalatokat fogja kiválasztani:\n",
    "\n",
    "     Sony\n",
    "     Hitachi\n",
    "     Panasonic\n",
    "\n",
    "Tárolja a tömböt a japanese_boolean_array változóban.\n",
    "\n",
    "Ugyanezen tömb segítségével válassza ki a vállalatokat a sorozatból, és tárolja őket egy másik japanese_companies nevű változóban.\n"
   ]
  },
  {
   "cell_type": "code",
   "execution_count": 8,
   "metadata": {},
   "outputs": [],
   "source": [
    "japanese_boolean_array = [\n",
    "    False,      # Apple\n",
    "    False,     # Samsung\n",
    "    False,      # Alphabet\n",
    "    False,     # Foxconn\n",
    "    False,      # Microsoft\n",
    "    False,     # Huawei\n",
    "    False,      # Dell\n",
    "    False,      # Meta\n",
    "    True,     # Sony\n",
    "    True,     # Hitachi\n",
    "    False,      # Intel\n",
    "    False,      # IBM\n",
    "    False,     # Tencent\n",
    "    True,     # Panasonic\n",
    "]\n",
    "#japanese_boolean_array"
   ]
  },
  {
   "cell_type": "code",
   "execution_count": 9,
   "metadata": {},
   "outputs": [],
   "source": [
    "#A Japán cégek\n",
    "japanese_companies = s.loc[japanese_boolean_array]"
   ]
  },
  {
   "cell_type": "markdown",
   "metadata": {},
   "source": [
    "Most van az, amikor ezek a logikai tömbök igazán hasznosak lesznek (és remélhetőleg végre kattintanak).\n",
    "\n",
    "Kiderült, hogy a sorozatok elfogadják az összehasonlító operátorokat (vagy logikai operátorokat), például \"nagyobb, mint\" (>), \"kisebb, mint\" (<) stb. Az érdekes tulajdonság az, hogy ezen operátorok bármelyikének sorozatra való alkalmazása eredményeképpen egy logikai tömb!.\n",
    "\n",
    "Lássunk egy példát: a jegyzetfüzetben van egy példa az s > 100_000 kifejezésre. Ez alapvetően arra vonatkozik, hogy a sorozat mely értékei \"nagyobbak\" 100 000-nél (ami viszont azt jelenti, hogy hány cég bevétele haladja meg a 100 milliárd dollárt).\n",
    "\n",
    "Ennek a kifejezésnek az eredménye a logikai sorozat:\n"
   ]
  },
  {
   "cell_type": "code",
   "execution_count": null,
   "metadata": {},
   "outputs": [],
   "source": [
    "'''\n",
    "Apple                 True\n",
    "Samsung               True\n",
    "Alphabet              True\n",
    "Foxconn               True\n",
    "Microsoft             True\n",
    "Huawei                True\n",
    "Dell Technologies    False\n",
    "Meta                 False\n",
    "Sony                 False\n",
    "Hitachi              False\n",
    "Intel                False\n",
    "IBM                  False\n",
    "Tencent              False\n",
    "Panasonic            False\n",
    "\n",
    "'''"
   ]
  },
  {
   "cell_type": "markdown",
   "metadata": {},
   "source": [
    "Kombinálhatjuk ezt a \"feltételes\" kifejezést a korábban látott kiválasztási módszerrel, hogy egy nagyon hatékony szűrő- és lekérdező rendszert állítsunk össze.\n",
    "\n",
    "Példa, kérdezzük meg:\n",
    "\n",
    "Melyek azok a cégek, amelyek bevétele meghaladja a 100 milliárd dollárt?\n",
    "\n",
    "Csak kombinálnunk kell a .loc kifejezést a logikai tömbünkkel:"
   ]
  },
  {
   "cell_type": "code",
   "execution_count": null,
   "metadata": {},
   "outputs": [],
   "source": [
    "'''\n",
    "s.loc[s > 100_000]\n",
    "Apple        274515\n",
    "Samsung      200734\n",
    "Alphabet     182527\n",
    "Foxconn      181945\n",
    "Microsoft    143015\n",
    "Huawei       129184\n",
    "Name: Top Technology Companies by Revenue, dtype: int64\n",
    "'''\n"
   ]
  }
 ],
 "metadata": {
  "kernelspec": {
   "display_name": "base",
   "language": "python",
   "name": "python3"
  },
  "language_info": {
   "codemirror_mode": {
    "name": "ipython",
    "version": 3
   },
   "file_extension": ".py",
   "mimetype": "text/x-python",
   "name": "python",
   "nbconvert_exporter": "python",
   "pygments_lexer": "ipython3",
   "version": "3.11.7"
  }
 },
 "nbformat": 4,
 "nbformat_minor": 2
}
