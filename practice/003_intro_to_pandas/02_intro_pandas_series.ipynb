{
 "cells": [
  {
   "cell_type": "markdown",
   "metadata": {},
   "source": [
    "Inkább használjunk egy példát. Vessen egy pillantást a következő \"táblázatra\", amely a legjobb vállalatok listáját tartalmazza (technológiában) és bevételeiket (dollármilliókban):\n",
    "<img src=\"fig1.jpg\">"
   ]
  },
  {
   "cell_type": "markdown",
   "metadata": {},
   "source": [
    "A pandák sorozata segít nekünk az adatok megjelenítésében. Itt az ideje, hogy bekapcsolja a labort, és irány a Notebook, ahol meglátjuk, hogyan működik a sorozat.\n",
    "\n",
    "A sorozat létrehozásának szintaxisa a következő:\n"
   ]
  },
  {
   "cell_type": "code",
   "execution_count": 1,
   "metadata": {},
   "outputs": [],
   "source": [
    "import pandas as pd\n",
    "#pd.Series(data, index, name=\"A name\")\n"
   ]
  },
  {
   "cell_type": "markdown",
   "metadata": {},
   "source": [
    "A sorozat fő összetevői a következők:\n",
    "\n",
    "     adatok: ez az az adat, amit ábrázolni akarunk, és nyilván mondhatnánk a sorozat \"legfontosabb\" komponensét. Példánkban az adatok a cégek bevételei.\n",
    "     index: az index az általunk tárolt adatok \"címkéit\" jelzi. Az index segítségével később „hivatkozunk” az adatokra. Az indexek nem kötelezőek; A pandák alapértelmezett szekvenciális indexet rendelnek hozzá, ha nem adunk meg ilyet.\n",
    "     név: egy sorozat tartalmazhat \"nevet\"; ennek több értelme lesz, ha elkezdjük használni a DataFrames-et. Egyelőre csak extra \"dokumentációnak\" kell gondolni; nagyobb átláthatóság, amikor a kóddal dolgozik. A nevek nem kötelezőek.\n",
    "\n",
    "Végül fontos megjegyezni, hogy a sorozatok „erősen be vannak írva”: ez azt jelenti, hogy van hozzájuk társított (kényszerített objektumtípus). Nem úgy, mint a Python szótáraknál, ahol keverhetjük a típusokat. Ebben az esetben látni fogja, hogy a sorozat int64 típusú (az ábrázolás alján a név után azt írja, hogy dtype: int64). Egyelőre ne törődj vele, ez alapvetően egy \"egész számokat\" tartalmazó sorozat.\n"
   ]
  },
  {
   "cell_type": "code",
   "execution_count": 2,
   "metadata": {},
   "outputs": [],
   "source": [
    "companies = [\n",
    "    'Apple', 'Samsung', 'Alphabet', 'Foxconn',\n",
    "    'Microsoft', 'Huawei', 'Dell Technologies',\n",
    "    'Meta', 'Sony', 'Hitachi', 'Intel',\n",
    "    'IBM', 'Tencent', 'Panasonic'\n",
    "]\n",
    "\n",
    "s = pd.Series([\n",
    "    274515, 200734, 182527, 181945, 143015,\n",
    "    129184, 92224, 85965, 84893, 82345,\n",
    "    77867, 73620, 69864, 63191],\n",
    "    index=companies,\n",
    "    name=\"Top Technology Companies by Revenue\")"
   ]
  },
  {
   "cell_type": "code",
   "execution_count": 3,
   "metadata": {},
   "outputs": [
    {
     "data": {
      "text/plain": [
       "Apple                274515\n",
       "Samsung              200734\n",
       "Alphabet             182527\n",
       "Foxconn              181945\n",
       "Microsoft            143015\n",
       "Huawei               129184\n",
       "Dell Technologies     92224\n",
       "Meta                  85965\n",
       "Sony                  84893\n",
       "Hitachi               82345\n",
       "Intel                 77867\n",
       "IBM                   73620\n",
       "Tencent               69864\n",
       "Panasonic             63191\n",
       "Name: Top Technology Companies by Revenue, dtype: int64"
      ]
     },
     "execution_count": 3,
     "metadata": {},
     "output_type": "execute_result"
    }
   ],
   "source": [
    "s"
   ]
  },
  {
   "cell_type": "markdown",
   "metadata": {},
   "source": [
    "Ellenőrizze tudását: készítsen sorozatot\n",
    "\n",
    "Hozzon létre egy sorozatot a my_series változó alatt, amely három elemet tartalmaz: 9, 11 és -5. A sorozat indexe legyen ['a', 'b', 'c'], a neve pedig \"My First Series\"."
   ]
  },
  {
   "cell_type": "code",
   "execution_count": 4,
   "metadata": {},
   "outputs": [],
   "source": [
    "serial_index = ['a', 'b', 'c']\n",
    "my_series = pd.Series([9, 11, -5], index=serial_index, name=\"My First Series\")"
   ]
  },
  {
   "cell_type": "code",
   "execution_count": 5,
   "metadata": {},
   "outputs": [
    {
     "data": {
      "text/plain": [
       "a     9\n",
       "b    11\n",
       "c    -5\n",
       "dtype: int64"
      ]
     },
     "execution_count": 5,
     "metadata": {},
     "output_type": "execute_result"
    }
   ],
   "source": [
    "my_series"
   ]
  },
  {
   "cell_type": "markdown",
   "metadata": {},
   "source": [
    "Basic selection and location\n",
    "\n",
    "Series are very flexible about querying/selecting data. You can get data by the index (get the revenue of Apple), by position (get the 5th element) and also by multiple of those."
   ]
  },
  {
   "cell_type": "markdown",
   "metadata": {},
   "source": [
    "Selecting by index\n",
    "\n",
    "We use the Series' index to reference and locate the data associated with a given label.\n",
    "\n",
    "For example, to get the revenue of Apple, we can do: s[\"Apple\"]. That works, as you can see in the notebook. But you'll also see that we use a .loc attribute, making it: s.loc[\"Apple\"]. This is the preferred method to reference values. It might make little sense for now, but it will once we start dealing with DataFrames.\n",
    "\n",
    "Selecting by position\n",
    "\n",
    "We can also select elements by their \"order\". After all, as we mentioned in the previous section, Series are ordered data structures. So we can select an element by its position: for example, the 'first\", \"last\", \"third\", or \"253rd\" element. To select an element by its position, we use the .iloc attribute. The beauty of .iloc is that, as selection in Python lists, it accepts negative numbers to reference elements from the end of the series. That means that .iloc[-1] returns the LAST element in the series."
   ]
  },
  {
   "cell_type": "code",
   "execution_count": null,
   "metadata": {},
   "outputs": [],
   "source": [
    "s['Apple']\n",
    "#javasolt\n",
    "s.loc['Apple']\n",
    "\n",
    "#pozíció alapján\n",
    "s.iloc[0]\n",
    "s.iloc[-1] #utolsó"
   ]
  },
  {
   "cell_type": "markdown",
   "metadata": {},
   "source": [
    "Errors in selection:\n",
    "\n",
    "As expected, if you try to retrieve an element that doesn't exist, it'll cause an error. This works pretty similarly as in Python dictionaries and lists. Selecting by index (.loc) fails with a KeyError (like dictionaries) and selecting by position fails with an IndexError as with lists.\n",
    "\n",
    "Most of the time, you can prevent these errors using the membership operator in, which checks if a given element is part of the index."
   ]
  },
  {
   "cell_type": "code",
   "execution_count": null,
   "metadata": {},
   "outputs": [],
   "source": [
    "# this code will fail\n",
    "s.loc[\"Non existent company\"]\n",
    "\n",
    "# This code also fails, 132 it's out of boundaries\n",
    "# (there are not so many elements in the Series)\n",
    "s.iloc[132]"
   ]
  },
  {
   "cell_type": "markdown",
   "metadata": {},
   "source": [
    "We could prevent these errors using the membership check in:"
   ]
  },
  {
   "cell_type": "code",
   "execution_count": null,
   "metadata": {},
   "outputs": [],
   "source": [
    "\"Apple\" in s\n",
    "\"Snapchat\" in s"
   ]
  },
  {
   "cell_type": "markdown",
   "metadata": {},
   "source": [
    " Check your knowledge: location by index\n",
    "\n",
    "Select the revenue of Intel and store it in a variable named intel_revenue:"
   ]
  },
  {
   "cell_type": "code",
   "execution_count": null,
   "metadata": {},
   "outputs": [],
   "source": [
    "intel_revenue = s.loc['Intel'] #nem iloc"
   ]
  },
  {
   "cell_type": "markdown",
   "metadata": {},
   "source": [
    " Check your knowledge: location by position\n",
    "\n",
    "Select the revenue of the \"second to last\" element in our series s and store it in a variable named second_to_last:"
   ]
  },
  {
   "cell_type": "code",
   "execution_count": null,
   "metadata": {},
   "outputs": [],
   "source": [
    "second_to_last = s.iloc[-2]"
   ]
  },
  {
   "cell_type": "markdown",
   "metadata": {},
   "source": [
    "Check your knowledge: multiple selection\n",
    "\n",
    "Use multiple label selection to retrieve the revenues of the companies:\n",
    "\n",
    "    Samsung\n",
    "    Dell Technologies\n",
    "    Panasonic\n",
    "    Microsoft\n"
   ]
  },
  {
   "cell_type": "code",
   "execution_count": null,
   "metadata": {},
   "outputs": [],
   "source": [
    "sub_series = s.loc[['Samsung', 'Dell Technologies','Panasonic', 'Microsoft' ]]"
   ]
  },
  {
   "cell_type": "markdown",
   "metadata": {},
   "source": [
    "Multiple selection\n",
    "\n",
    "So far, Series look like glorified dictionaries. But this single feature will set them apart.\n",
    "\n",
    "With both, index selection and positional selection, you can pass multiple elements to be returned. This is extremely convenient.\n",
    "\n",
    "Pay attention to the value returned: another Series, a \"sub-series,\" we could say, only with the values requested. In Pandas you'll see this pattern everywhere: Series selection returns other series, DataFrames selection (in future lessons) returns other DataFrames or other Series, etc.\n",
    "\n",
    "Let's see it in action. To select several elements (by index/label), we just pass a list of the labels:"
   ]
  },
  {
   "cell_type": "code",
   "execution_count": null,
   "metadata": {},
   "outputs": [],
   "source": [
    "s[['Apple', 'Intel', 'Sony']]\n",
    "s.iloc[[0, 5, -1]]"
   ]
  },
  {
   "cell_type": "markdown",
   "metadata": {},
   "source": [
    "Series Attributes and Methods\n",
    "\n",
    "Series contain a lot of useful attributes and methods to interact with them. Probably the two most common ones you'll see all the time are .head() and .tail(). This just returns 5 elements either from the beginning of the series (.head()) or from the end of it (.tail()). This is useful when you're working with real data (possibly MILLIONS of values). You can also pass a number of elements to return: .head(3) and .tail(2).\n",
    "\n",
    "Main attributes\n",
    "\n",
    "Once a series is constructed (somehow), we can access all the attributes separately. Namely:\n",
    "\n",
    "    The data of the series: using the .values attribute\n",
    "    The index: using .index\n",
    "    The name: using .name\n",
    "    The type assigned: using .dtype\n",
    "    The number of elements: using .size"
   ]
  },
  {
   "cell_type": "code",
   "execution_count": null,
   "metadata": {},
   "outputs": [],
   "source": [
    "s.head()\n",
    "s.tail()\n",
    "\n",
    "#Mögöttes adatok\n",
    "s.values\n",
    "\n",
    "#Az index\n",
    "s.index\n",
    "\n",
    "#A név\n",
    "s.name\n",
    "\n",
    "#Adattipus\n",
    "s.dtype\n",
    "\n",
    "#Méret\n",
    "s.size\n",
    "len(s)"
   ]
  },
  {
   "cell_type": "markdown",
   "metadata": {},
   "source": [
    "Statistical methods\n",
    "\n",
    "But that's not all about attributes and Series. As you might already know, we use Pandas for data processing. And a significant component of data processing is understanding its statistical implications.\n",
    "\n",
    "The .describe() method gives you quick summary statistics of your series.\n",
    "\n",
    "There are also individual methods for each of the values returned by .describe(): .max(), .min(), .mean(), .median(), etc.\n",
    "\n",
    "There's also a quantile() method to check for specific quantiles (or percentiles). For example, to get the 75th percentile, you can use: s.quantile(.75)."
   ]
  },
  {
   "cell_type": "code",
   "execution_count": null,
   "metadata": {},
   "outputs": [],
   "source": [
    "#Rövid statisztikai elemzés az adathalmazról\n",
    "s.describe()\n",
    "\n",
    "#Átlag\n",
    "s.mean()\n",
    "\n",
    "#Median, helyzeti középérték, amelytől mérve az elemek távolságainak összege\n",
    "#minimális\n",
    "s.median()\n",
    "\n",
    "#Standard deviation\n",
    "s.std()\n",
    "s.min()\n",
    "s.max()\n",
    "\"\"\"\n",
    "Létezik egy quantile() metódus is az adott kvantilisek (vagy percentilisek) \n",
    "ellenőrzésére. Például a 75. percentilis megszerzéséhez használhatja a \n",
    "következőt: s.quantile(.75).\n",
    "\"\"\"\n",
    "s.quantile(.75)\n"
   ]
  },
  {
   "cell_type": "markdown",
   "metadata": {},
   "source": [
    "Sorting Series\n",
    "\n",
    "Sorting series is extremely simple. This is another great feature of pandas in general.\n",
    "\n",
    "But with Sorting, we'll introduce two important concepts:\n",
    "Sorting by values or Index\n",
    "\n",
    "First, what are we sorting by? The values? Or the index? Well, we'll be able to sort by both attributes: using the .sort_values() and .sort_index() methods.\n",
    "\n",
    "Check the examples in the notebook. To sort the values of the series (that is, the revenue), we use the .sort_values() method. To sort the series by its index (in this case, lexicographically by the company's name, we use the .sort_index() method. The default sorting method is in \"ascending\" order. To sort in descending order, you must pass the ascending=False parameter (to either method)."
   ]
  },
  {
   "cell_type": "code",
   "execution_count": null,
   "metadata": {},
   "outputs": [],
   "source": [
    "#Érték szerinti rendezés\n",
    "s.sort_values()\n",
    "\n",
    "#Index szerinti rendezés\n",
    "s.sort_index()\n",
    "\n",
    "#Csökkenő rendezés\n",
    "s.sort_values(ascending=False).head()\n",
    "s.sort_index(ascending=False).head()"
   ]
  },
  {
   "cell_type": "markdown",
   "metadata": {},
   "source": [
    "What company has the largest revenue?"
   ]
  },
  {
   "cell_type": "code",
   "execution_count": null,
   "metadata": {},
   "outputs": [],
   "source": [
    "s.sort_values()"
   ]
  },
  {
   "cell_type": "markdown",
   "metadata": {},
   "source": [
    "Sort company names lexicographically. Which one comes first?"
   ]
  },
  {
   "cell_type": "code",
   "execution_count": null,
   "metadata": {},
   "outputs": [],
   "source": [
    "s.sort_index()"
   ]
  },
  {
   "cell_type": "markdown",
   "metadata": {},
   "source": [
    "<span style = \"color:rgb(191, 228, 228); background-color: grey\">\n",
    "Állandóság (Inmutability)\n",
    "\n",
    "A második fontos fogalom a megváltoztathatatlanság, és ez NEM csak egy sorozat fogalom; ez egy széles körben elterjedt fogalom a pandákban és általában az adattudományban. Ebben az esetben látni fogja, hogy amikor \"sort rendezünk\", VALÓBAN nem magát a sorozatot rendezzük. Visszatért egy ÚJ sorozat. Az alapul szolgáló sorozat NEM változott; NEM mutált.\n",
    "\n",
    "Ez általánosságban FONTOS fogalom az adattudományban. Nem akarjuk megváltoztatni/mutálni a dolgokat, mivel nehezebb követni ezeket a változásokat.\n",
    "\n",
    "Ha véletlenül mutáltatni szeretné a sorozatát, ebben az esetben rendezni szeretné és módosítani szeretné a mögöttes sorozatot (ebben az esetben s-ben), akkor át kell adnia az inplace=True attribútumot. Amikor ezt teszi, látni fogja, hogy a metódus ezúttal nem ad vissza semmit, csak az alapul szolgáló sorozatot (s-ben megváltozott), hogy a kívánt sorrendben tartalmazza az adatokat.\n",
    "\n",
    "Ismételten a változtathatatlanságot részesítjük előnyben és bátorítjuk, ezért próbáljunk meg megváltoztathatatlan módszereket használni, amennyire csak lehetséges. Például jó, ha létrehoz egy második változót az értékekkel rendezve (s_sorted_values) és anélkül, hogy megváltoztatná az s-t.\n",
    "</span>"
   ]
  },
  {
   "cell_type": "markdown",
   "metadata": {},
   "source": [
    "A sorozatokat bevétel szerint, növekvő sorrendben rendezzük, és az eredetit mutáljuk. Figyelje meg, hogy a metódus nem ad vissza semmit:"
   ]
  },
  {
   "cell_type": "code",
   "execution_count": null,
   "metadata": {},
   "outputs": [],
   "source": [
    "s.sort_values(inplace=True)"
   ]
  },
  {
   "cell_type": "markdown",
   "metadata": {},
   "source": [
    "Sort American Companies by Revenue\n",
    "\n",
    "Create a new variable american_companies_desc that contains the results of sorting american_companies by revenue (this is, by value) in descending order."
   ]
  },
  {
   "cell_type": "code",
   "execution_count": null,
   "metadata": {},
   "outputs": [],
   "source": [
    "american_companies_desc = american_companies.sort_values(ascending=False)"
   ]
  },
  {
   "cell_type": "markdown",
   "metadata": {},
   "source": [
    "Sort (and mutate) international companies\n",
    "\n",
    "Now it's time to do what we told you NOT to do, but we need practice it. There's a new series defined named international_companies. Your task is to sort them by Revenue in descending order (larger to smaller) but doing it in place, that is, modifying the series.\n",
    "\n",
    "If you make a mistake, you can always re-run the cell that generates the Series."
   ]
  },
  {
   "cell_type": "code",
   "execution_count": null,
   "metadata": {},
   "outputs": [],
   "source": [
    "# Run this cell to complete the activity\n",
    "international_companies = s[[\n",
    "    \"Sony\", \"Tencent\", \"Panasonic\",\n",
    "    \"Samsung\", \"Hitachi\", \"Foxconn\", \"Huawei\"\n",
    "]]\n",
    "international_companies"
   ]
  },
  {
   "cell_type": "code",
   "execution_count": null,
   "metadata": {},
   "outputs": [],
   "source": [
    "international_companies.sort_values(ascending=False, inplace=True)"
   ]
  },
  {
   "cell_type": "markdown",
   "metadata": {},
   "source": [
    "Modifying series\n",
    "\n",
    "Modifying series is something we hardly want to do. As mentioned in the previous section, we try to be \"immutable\". So changing series is usually not recommended.\n",
    "\n",
    "But still, it's possible to modify series by changing values, adding or removing elements. This works in the same way as with Python dictionaries.\n",
    "\n",
    "For example, to modify an existing value, we can just \"step over it\", let's say we want to set IBM's revenue to $0. We can just do:"
   ]
  },
  {
   "cell_type": "code",
   "execution_count": null,
   "metadata": {},
   "outputs": [],
   "source": [
    "#Érték módosítás\n",
    "s['IBM'] = 0\n",
    "\n",
    "#Érték hozzáadása\n",
    "s['Tesla'] = 21450\n",
    "\n",
    "#Törlés\n",
    "del s['Tesla']\n"
   ]
  },
  {
   "cell_type": "markdown",
   "metadata": {},
   "source": [
    " Insert Amazon's Revenue (469822)"
   ]
  },
  {
   "cell_type": "code",
   "execution_count": null,
   "metadata": {},
   "outputs": [],
   "source": [
    "s['Amazon'] = 469822"
   ]
  },
  {
   "cell_type": "markdown",
   "metadata": {},
   "source": [
    "Delete the revenue of Meta"
   ]
  },
  {
   "cell_type": "code",
   "execution_count": null,
   "metadata": {},
   "outputs": [],
   "source": [
    "del s['Meta']"
   ]
  },
  {
   "cell_type": "markdown",
   "metadata": {},
   "source": [
    "Concatenating Series (immutable)\n",
    "\n",
    "Finally, if you want to \"concatenate\" two series, you can use the concat() method s.concat(dataframe1 or series1, dataframe2 or series2) as shown in the example in the notebook. In this case, the method returns a new series or dataframe with the values of the two series/dataframe concatenated."
   ]
  },
  {
   "cell_type": "code",
   "execution_count": null,
   "metadata": {},
   "outputs": [],
   "source": [
    "another_s = pd.Series([21_450, 4_120], index=['Tesla', 'Snapchat'])\n",
    "s_new = pd.concat([s, another_s])"
   ]
  }
 ],
 "metadata": {
  "kernelspec": {
   "display_name": "base",
   "language": "python",
   "name": "python3"
  },
  "language_info": {
   "codemirror_mode": {
    "name": "ipython",
    "version": 3
   },
   "file_extension": ".py",
   "mimetype": "text/x-python",
   "name": "python",
   "nbconvert_exporter": "python",
   "pygments_lexer": "ipython3",
   "version": "3.11.7"
  }
 },
 "nbformat": 4,
 "nbformat_minor": 2
}
