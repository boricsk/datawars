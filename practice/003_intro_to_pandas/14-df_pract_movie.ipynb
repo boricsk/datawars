{
 "cells": [
  {
   "cell_type": "markdown",
   "metadata": {},
   "source": [
    "Ebben a laborban egy tényleges adatkészlettel fog foglalkozni, különféle adatkezelési technikákat alkalmazva. Célunk a film adatkészlete lesz, beleértve az olyan információkat, mint a film címe, a megjelenés éve, a költségvetés, a bruttó bevétel stb.\n",
    "\n",
    "Ez a labor a következőkre terjed ki:\n",
    "\n",
    "     Új oszlopok létrehozása egy adatkeretben alapvető aritmetikai műveletek (összeadás, kivonás, osztás) elvégzésével a meglévő oszlopokon.\n",
    "     Új oszlopok létrehozása egy adatkeretben logikai műveletek (kisebb, mint <, nagyobb, mint >, egyenlő == stb.) alkalmazásával a meglévő oszlopokon.\n",
    "     Sorok törlése meghatározott feltételek alapján.\n",
    "     Egy vagy több oszlop eltávolítása a feltételek alapján.\n",
    "\n",
    "Kezdjük adatkészletünk betöltésével.\n",
    "\n",
    "Ezt a pandas.read_csv() függvény használatával teheti meg, hogy betöltse az adatkészletet egy pandas adatkeretbe. Ezután tárolja az adatkeretet egy nameddf változóban.\n",
    "\n",
    "Itt van egy minta kód:\n",
    "\n",
    "import pandákat pd-ként\n",
    "\n",
    "df = pd.read_csv(\"filmek.csv\")\n",
    "df\n",
    "\n",
    "     FONTOS MEGJEGYZÉS: Ügyeljen arra, hogy a laborban végzett összes tevékenységet sorrendben végezze el. Minden tevékenység az előtte lévőre épül, így egy tevékenység kihagyása megakadályozza a további előrehaladást. A sikeres tanulási élmény érdekében minden feladatot teljesen teljesítsen, mielőtt a következőre lépne.\n"
   ]
  },
  {
   "cell_type": "code",
   "execution_count": 4,
   "metadata": {},
   "outputs": [],
   "source": [
    "import pandas as pd\n",
    "basepath = r'../../source/Rdatasets-master/csv/ggplot2movies'\n",
    "filename = r'/movies.csv'\n",
    "#df_original = pd.read_csv(basepath + filename, parse_dates=True)"
   ]
  },
  {
   "cell_type": "markdown",
   "metadata": {},
   "source": [
    "Create a new column revenue\n",
    "\n",
    "Add a new column named revenue to the dataframe df. This new column should reflect the difference between the values in the gross and budget columns."
   ]
  },
  {
   "cell_type": "code",
   "execution_count": null,
   "metadata": {},
   "outputs": [],
   "source": [
    "df['revenue'] = df['gross'] - df['budget']"
   ]
  },
  {
   "cell_type": "markdown",
   "metadata": {},
   "source": [
    "Hozzon létre egy új százalékos_profit oszlopot\n",
    "\n",
    "Hozzon létre egy új oszlopot százalékos_nyereség néven. Értékét úgy számítja ki, hogy a bevétel és a bruttó kereset hányadosa, szorozva 100-zal minden sornál. Például, ha a bruttó kereset 200 millió, a bevétel pedig 100 millió, akkor a százalékos_nyereség 50%.\n",
    "\n",
    "     Fejezd ki a profit százalékát százalékban."
   ]
  },
  {
   "cell_type": "code",
   "execution_count": null,
   "metadata": {},
   "outputs": [],
   "source": [
    "df['percentage_profit'] = (df['revenue'] / df['gross']) * 100"
   ]
  },
  {
   "cell_type": "markdown",
   "metadata": {},
   "source": [
    "Hozzon létre egy új oszlopot high_budget_movie\n",
    "\n",
    "Adjon hozzá egy high_budget_movie nevű új oszlopot a dataframe df-hez. Ebben az oszlopban minden filmet igaznak kell jelölnie, ha költségvetése meghaladja a 100 milliót, vagy hamisnak, ha nem."
   ]
  },
  {
   "cell_type": "code",
   "execution_count": null,
   "metadata": {},
   "outputs": [],
   "source": [
    "df['high_budget_movie'] = df['budget'] > 100_000_000"
   ]
  },
  {
   "cell_type": "markdown",
   "metadata": {},
   "source": [
    "Hozzon létre egy új oszlopot sikeres_film\n",
    "\n",
    "Adjon hozzá egy sikeres_film nevű új oszlopot. Rendelje hozzá az Igaz értéket, ha egy film profit%-a meghaladja az 50-et. Ha nem, adja hozzá a False értéket."
   ]
  },
  {
   "cell_type": "code",
   "execution_count": null,
   "metadata": {},
   "outputs": [],
   "source": [
    "df['successful_movie'] = df['percentage_profit'] > 50"
   ]
  },
  {
   "cell_type": "markdown",
   "metadata": {},
   "source": [
    "Magasra értékelt filmek\n",
    "\n",
    "Hozzon létre egy új oszlopot high_rated_movie néven. Ha a film pontszáma több mint 8, jelölje meg True-ként. Ha nem, jelölje be False-ként.\n"
   ]
  },
  {
   "cell_type": "code",
   "execution_count": null,
   "metadata": {},
   "outputs": [],
   "source": [
    "df['high_rated_movie'] = df['score'] > 8"
   ]
  },
  {
   "cell_type": "markdown",
   "metadata": {},
   "source": [
    "Hozzon létre egy új is_new_release oszlopot\n",
    "\n",
    "Hozzon létre egy új oszlopot is_new_release néven. Ebben az oszlopban az Igaz értéket kell jeleznie, ha az év oszlop értéke meghaladja a 2020-at, és a False értéket, ha nem."
   ]
  },
  {
   "cell_type": "code",
   "execution_count": null,
   "metadata": {},
   "outputs": [],
   "source": [
    "df['is_new_release'] = df['year'] > 2020"
   ]
  },
  {
   "cell_type": "markdown",
   "metadata": {},
   "source": [
    "Hozzon létre egy új oszlopot is_long_movie\n",
    "\n",
    "Hozzon létre egy új is_long_movie oszlopot, amely igaz, ha a futásidejű oszlop értéke nagyobb, mint 150 perc, ellenkező esetben pedig False."
   ]
  },
  {
   "cell_type": "code",
   "execution_count": null,
   "metadata": {},
   "outputs": [],
   "source": [
    "df['is_long_movie'] = df['runtime'] > 150"
   ]
  },
  {
   "cell_type": "markdown",
   "metadata": {},
   "source": [
    "Sikertelen film eldobása.\n",
    "\n",
    "Törölje a df adatkeret összes sorát, ahol a sikeres_film oszlop hamis címkével van ellátva. Az inplace attribútum használatával győződjön meg arról, hogy ezek a módosítások állandóak."
   ]
  },
  {
   "cell_type": "code",
   "execution_count": null,
   "metadata": {},
   "outputs": [],
   "source": [
    "index_to_drop = df[df[\"successful_movie\"] == False].index\n",
    "df.drop(index_to_drop, inplace=True)"
   ]
  },
  {
   "cell_type": "code",
   "execution_count": null,
   "metadata": {},
   "outputs": [],
   "source": [
    "df.drop(df[df[\"successful_movie\"] == False].index, inplace=True)"
   ]
  },
  {
   "cell_type": "code",
   "execution_count": null,
   "metadata": {},
   "outputs": [],
   "source": [
    "df = df[df[\"successful_movie\"] == True]"
   ]
  },
  {
   "cell_type": "markdown",
   "metadata": {},
   "source": [
    "Dobd le a nagy költségvetésű filmet\n",
    "\n",
    "Hozzon létre egy új adatkeretet low_budget_df néven úgy, hogy eltávolítja az összes olyan sort az eredeti adatkeretből, ahol a költségvetés értéke meghaladja a 100 milliót. Ne feledje, hogy a változtatások nem érinthetik az eredeti adatkeretet.\n"
   ]
  },
  {
   "cell_type": "code",
   "execution_count": null,
   "metadata": {},
   "outputs": [],
   "source": [
    "low_budget_df = df[df['high_budget_movie'] == False]"
   ]
  },
  {
   "cell_type": "markdown",
   "metadata": {},
   "source": [
    "Alacsony szavazattal rendelkező filmek eltávolítása\n",
    "\n",
    "Távolítsa el az összes olyan sort az adatkeretből, ahol a szavazatok száma 1000 alatt van. Rendelje hozzá ezt a frissített adatkeretet egy új high_voted_df változóhoz. Győződjön meg arról, hogy ezeket a módosításokat nem az eredeti adatkereten hajtja végre.\n"
   ]
  },
  {
   "cell_type": "code",
   "execution_count": null,
   "metadata": {},
   "outputs": [],
   "source": [
    "high_voted_df = df[df['votes'] > 1000]"
   ]
  },
  {
   "cell_type": "markdown",
   "metadata": {},
   "source": [
    "Dobja el az oszlop költségvetését\n",
    "\n",
    "Ha törölni szeretné a költségvetés oszlopot a film adatkeretéből, alkalmazza a drop módszert, és adja meg az oszlop nevét és költségkeretét. Ügyeljen arra, hogy megadja azt a tengelyt, amely megmutatja, hogy oszlopra, nem sorra hivatkozik. Ezenkívül állítsa az inplace paramétert True értékre, így a változás nem ideiglenes, hanem végleges."
   ]
  },
  {
   "cell_type": "code",
   "execution_count": null,
   "metadata": {},
   "outputs": [],
   "source": [
    "df.drop('budget', axis = 1, inplace = True)"
   ]
  },
  {
   "cell_type": "markdown",
   "metadata": {},
   "source": [
    "Húzza ki a rendező és író oszlopokat az adatkeretből.\n",
    "\n",
    "Távolítsa el a rendező és író oszlopokat a df adatkeretből. Ehhez használja a drop módszert, oszlopnévként a rendezőt és az írót kijelölve. Állítsa be a tengelyt annak megerősítésére, hogy ezek oszlopok, nem sorok. Ügyeljen arra, hogy az inplace paramétert False értékre állítsa, így egy new_df nevű új adatkeretet hoz létre anélkül, hogy megváltoztatná az eredetit.\n",
    "\n",
    "Ne feledje, hogy ebben a tevékenységben az Ön feladata egy új adatkeret létrehozása new_df néven.\n"
   ]
  },
  {
   "cell_type": "code",
   "execution_count": null,
   "metadata": {},
   "outputs": [],
   "source": [
    "new_df = df.drop(['director', 'writer'], axis=1, inplace=False)"
   ]
  },
  {
   "cell_type": "markdown",
   "metadata": {},
   "source": [
    "Hagyja ki az alacsony és alacsony szavazatú filmeket\n",
    "\n",
    "Dobja el az összes sort, ahol a pontszám értéke kisebb, mint 5, és a szavazatok értéke kisebb, mint 1000. Húzza ki azokat a sorokat az eredeti df adatkeretből."
   ]
  },
  {
   "cell_type": "code",
   "execution_count": null,
   "metadata": {},
   "outputs": [],
   "source": [
    "df.drop(df[(df['score'] < 5) & (df['votes'] < 1000)].index, inplace = True)"
   ]
  },
  {
   "cell_type": "markdown",
   "metadata": {},
   "source": [
    "A legjobban értékelt filmek\n",
    "\n",
    "Hozzon létre egy új DataFrame-et top_rated_movies néven, amely tartalmazza az öt legjobban értékelt filmet. Rendezze ezt a DataFrame-et a pontszám oszlop alapján csökkenő sorrendben."
   ]
  },
  {
   "cell_type": "code",
   "execution_count": null,
   "metadata": {},
   "outputs": [],
   "source": [
    "top_rated_movies = df.sort_values(by='score', ascending=False).head(5)"
   ]
  },
  {
   "cell_type": "markdown",
   "metadata": {},
   "source": [
    "meghatározott sorok eltávolítása\n",
    "\n",
    "Távolítsa el a 2-es és 10-es indexű sorokat a DataFrame df-ből."
   ]
  },
  {
   "cell_type": "code",
   "execution_count": null,
   "metadata": {},
   "outputs": [],
   "source": [
    "df = df.drop([2,10])"
   ]
  },
  {
   "cell_type": "code",
   "execution_count": null,
   "metadata": {},
   "outputs": [],
   "source": [
    "rows_to_drop = [2, 10]\n",
    "df = df.drop(index=rows_to_drop)"
   ]
  },
  {
   "cell_type": "markdown",
   "metadata": {},
   "source": [
    "Sci-fi kasszasikerek\n",
    "\n",
    "Hozzon létre egy új DataFrame-et sci_fi_blockbusters néven, amely olyan filmeket tartalmaz, amelyek \"sci-fi\" műfajúak, és több mint 150 millió dollár bevétellel rendelkeznek."
   ]
  },
  {
   "cell_type": "code",
   "execution_count": null,
   "metadata": {},
   "outputs": [],
   "source": [
    "sci_fi_blockbusters = df[(df['genre'] == 'Sci-Fi') & (df['gross'] > 150000000)]"
   ]
  },
  {
   "cell_type": "markdown",
   "metadata": {},
   "source": [
    "Filmek kora\n",
    "\n",
    "Hozzon létre egy új, életkor nevű oszlopot, hogy kiszámítsa a film korát években. Keresse meg úgy, hogy kivonja az év oszlopot az aktuális évből.\n",
    "\n",
    "     Tekintsük 2023-at aktuális évnek."
   ]
  },
  {
   "cell_type": "code",
   "execution_count": null,
   "metadata": {},
   "outputs": [],
   "source": [
    "df['age'] = 2023 - df['year']"
   ]
  },
  {
   "cell_type": "markdown",
   "metadata": {},
   "source": [
    "Nyáron bemutatott filmek\n",
    "\n",
    "Hozzon létre egy új DataFrame-et, amely a júniusban, júliusban vagy augusztusban megjelent filmeket tartalmazza. Tárolja az eredményt a dataframe summer_movies fájlban."
   ]
  },
  {
   "cell_type": "code",
   "execution_count": null,
   "metadata": {},
   "outputs": [],
   "source": [
    "summer_movies = df[df['released'].str.contains('June|July|August')]"
   ]
  }
 ],
 "metadata": {
  "kernelspec": {
   "display_name": "Python 3",
   "language": "python",
   "name": "python3"
  },
  "language_info": {
   "codemirror_mode": {
    "name": "ipython",
    "version": 3
   },
   "file_extension": ".py",
   "mimetype": "text/x-python",
   "name": "python",
   "nbconvert_exporter": "python",
   "pygments_lexer": "ipython3",
   "version": "3.12.3"
  }
 },
 "nbformat": 4,
 "nbformat_minor": 2
}
