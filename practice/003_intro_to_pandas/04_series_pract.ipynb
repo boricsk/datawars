{
 "cells": [
  {
   "cell_type": "markdown",
   "metadata": {},
   "source": [
    "Itt az ideje, hogy próbára tegye mindazt, amit a sorozatokról tanult. Kezdjük azzal, hogy bemutatjuk azokat az adatokat, amelyekkel dolgozni fogunk. Győződjön meg arról, hogy elindította a labort, és a Jegyzetfüzet a jobb oldali panelen van.\n",
    "\n",
    "Ebben a projektben az S&P500 (a \"Standard and Poor's 500\" rövidítése) vállalatok \"piaci kapitalizációjával\" fogunk dolgozni. Az S&P 500 egy szabadon lebegő, kapitalizációval súlyozott index, amely az Egyesült Államok legjobb 500 tőzsdén jegyzett részvényét tartalmazza (piaci kapitalizáció szerint az első 500). Egyszerűen fogalmazva: az \"USA piacok legértékesebb vállalatainak\" listája.\n",
    "\n",
    "     Jogi nyilatkozat: az adatok elavultak. Mint azt Ön is tudja, a piacok nagyon gyorsan változnak.\n",
    "\n",
    "De ennek a projektnek van egy csavarja. Két sorozatot fogunk használni egy helyett, amelyet két különböző adatkészletből olvasunk ki. Az első a vállalatok részvényjelképei. Például az Apple, Inc. részvényszimbóluma AAPL (általában $AAPL stílusban). A Facebook szimbóluma az FB ($FB).\n",
    "\n",
    "A második adatkészlet az egyes vállalatok piaci kapitalizációját tartalmazza a szimbólumával. Például az AAPL (Apple Inc.) piaci kapitalizációja 809 508 034 020 USD.\n",
    "\n",
    "Az első dolog, amit a Jegyzetfüzetben látni fog, az az általunk használt mögöttes adatkészletek előnézete: sp500-symbols.csv és sp500-marketcap.csv. Ezután a head Linux parancsot használjuk az egyes fájlok első öt sorába való betekintésre.\n",
    "\n",
    "Ezután importálunk pandákat (importálunk pandákat pd-ként), és a read_csv metódussal sorozatokba töltjük be az adatokat. Még ne törődj vele! SOK read_csv-t fogunk használni ebben a számban, így hamarosan meg fogod szokni.\n",
    "\n",
    "A műveletek végén lesz két sorozata, amely tartalmazza azokat az adatokat, amelyekkel dolgozni fogunk. Az egyik a market_cap (amely szimbólumonként tartalmazza a piaci kapitalizációt), a másik pedig a cégek nevét és azok részvényjelét tartalmazó szimbólumok.\n",
    "\n",
    "Szánjon néhány percet mindkét sorozat megismerésére, majd kezdjük is!"
   ]
  },
  {
   "cell_type": "code",
   "execution_count": null,
   "metadata": {},
   "outputs": [],
   "source": [
    "import pandas as pd\n",
    "market_cap = pd.read_csv(\"sp500-marketcap.csv\", index_col=\"Symbol\")['Market Cap']\n",
    "market_cap.head()"
   ]
  },
  {
   "cell_type": "code",
   "execution_count": null,
   "metadata": {},
   "outputs": [],
   "source": [
    "symbols = pd.read_csv(\"sp500-symbols.csv\", index_col=\"Name\")['Symbol']\n",
    "symbols.head()"
   ]
  },
  {
   "cell_type": "markdown",
   "metadata": {},
   "source": [
    "What's the name of the series contained in the market_cap variable?"
   ]
  },
  {
   "cell_type": "code",
   "execution_count": null,
   "metadata": {},
   "outputs": [],
   "source": [
    "market_cap.name"
   ]
  },
  {
   "cell_type": "markdown",
   "metadata": {},
   "source": [
    "What's the name of the series contained in the symbols variable?"
   ]
  },
  {
   "cell_type": "code",
   "execution_count": null,
   "metadata": {},
   "outputs": [],
   "source": [
    "symbols.name"
   ]
  },
  {
   "cell_type": "markdown",
   "metadata": {},
   "source": [
    "What's the Market Cap of the 88th company in symbols?\n",
    "\n",
    "Warning! The companies might be out of order... so the 88th company in symbols might not be the same as the 88th one in market_cap. We need you to find the 88th company in symbols first, and then the the Market Cap from market_cap for that particular symbol."
   ]
  },
  {
   "cell_type": "code",
   "execution_count": null,
   "metadata": {},
   "outputs": [],
   "source": [
    "symbols.iloc[87] # CPB\n",
    "market_cap[\"CPB\"] # 13467193376\n"
   ]
  },
  {
   "cell_type": "code",
   "execution_count": null,
   "metadata": {},
   "outputs": [],
   "source": [
    "symbol = symbols.iloc[87]\n",
    "market_cap[symbol] # 13467193376\n",
    "\n",
    "# or everything just in the same place:\n",
    "market_cap[symbols.iloc[87]] # 13467193376\n"
   ]
  },
  {
   "cell_type": "code",
   "execution_count": null,
   "metadata": {},
   "outputs": [],
   "source": [
    "def get_market_cap_for_nth_symbol(position):\n",
    "    # Warning! This function uses global vairables (symbols and market_cap)\n",
    "    symbol = symbols.iloc[position]\n",
    "    return market_cap[symbol]\n",
    "\n",
    "get_market_cap_for_nth_symbol(87)  # 13467193376\n"
   ]
  },
  {
   "cell_type": "markdown",
   "metadata": {},
   "source": [
    "Hozzon létre új sorozatot csak a FAANG Stocks segítségével\n",
    "\n",
    "A befektetésben (és a technológiában) van egy közös kifejezés, ami a FAANG cégek. Ez a \"nagy tech\" cégekre utal rövidítésükkel. Például a FAANG a következő cégeket jelenti: Facebook Apple Amazon Netflix és Google (a FAANG-ról és a Big Techről bővebben a Wikipédiában olvashat).\n",
    "\n",
    "     Itt a FAANG néhány vállalat mozaikszójára utal, de vannak más nagy technológiai cégek is, mint például a Microsoft. Tehát a FAANG kifejezés nem a nagy technológiai vállalatok szigorú meghatározása.\n",
    "\n",
    "Az Ön feladata egy új sorozat létrehozása a faang_market_cap változó alatt, amely a következő cégek piaci kapitalizációját tartalmazza:\n",
    "\n",
    "     Amazon.com Inc\n",
    "     Apple Inc.\n",
    "     Microsoft Corp.\n",
    "     Alphabet Inc. A osztály (ez a Google fő részvénye)\n",
    "     Facebook, Inc.\n",
    "     Netflix Inc.\n",
    "\n",
    "Fontos! A készleteknek EBBEN a sorrendben kell lenniük. Először meg kell találnia a vállalatok szimbólumait.\n",
    "\n",
    "Van egy módja annak, hogy mindent egybevonva kombináljunk. Próbálja meg megoldani ezt a feladatot anélkül, hogy megnézné a megoldást; de miután befejezte, vessen egy pillantást rá, mert van egy ügyes trükk elmagyarázva a megoldás végén."
   ]
  },
  {
   "cell_type": "code",
   "execution_count": null,
   "metadata": {},
   "outputs": [],
   "source": [
    "faang_market_cap = market_cap[symbols[['Amazon.com Inc', \n",
    "                     'Apple Inc.',\n",
    "                     'Microsoft Corp.',\n",
    "                     'Alphabet Inc Class A',\n",
    "                     'Facebook, Inc.',\n",
    "                     'Netflix Inc.'\n",
    "                     ]]]"
   ]
  },
  {
   "cell_type": "markdown",
   "metadata": {},
   "source": [
    "Select the market cap of companies in position 1st, 100th, 200th, etc.\n",
    "\n",
    "The S&P500 index contains 500 companies. Create a variable position_companies that contains the market cap of the companies in the positions:\n",
    "\n",
    "    1st\n",
    "    100th\n",
    "    200th\n",
    "    300th\n",
    "    400th\n",
    "    500th\n",
    "\n",
    "Important! This selection should be done under market_cap. Don't use symbols for this particular activity."
   ]
  },
  {
   "cell_type": "code",
   "execution_count": null,
   "metadata": {},
   "outputs": [],
   "source": [
    "position_companies = market_cap.iloc[[\n",
    "    0,99,199,299,399,499\n",
    "]]\n",
    "\n",
    "position_companies"
   ]
  },
  {
   "cell_type": "code",
   "execution_count": null,
   "metadata": {},
   "outputs": [],
   "source": []
  }
 ],
 "metadata": {
  "kernelspec": {
   "display_name": "base",
   "language": "python",
   "name": "python3"
  },
  "language_info": {
   "name": "python",
   "version": "3.11.7"
  }
 },
 "nbformat": 4,
 "nbformat_minor": 2
}
