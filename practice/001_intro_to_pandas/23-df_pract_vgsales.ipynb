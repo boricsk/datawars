{
 "cells": [
  {
   "cell_type": "markdown",
   "metadata": {},
   "source": [
    "#### Bevezetés\n",
    "\n",
    "Ebben a laborban belemerülhet az adatelemzés és -szűrés világába az egyik legerősebb Python-könyvtár, a Pandas segítségével. Valós adatkészlettel fog dolgozni, amely információkat tartalmaz a videojáték-eladásokról. Ez az adatkészlet szolgál majd alapul a Pandas által kínált különféle funkciók és szűrési technikák feltárásához.\n",
    "\n",
    "Az adatkészlet értékes betekintést nyújt a játékiparba, beleértve a játékok rangsorának, platformjainak, megjelenési éveinek, műfajainak, kiadóinak és értékesítésének részleteit a különböző régiókban. Az adatok elemzésével megtudhatja, hogyan hajthat végre szűrési és kiválasztási műveleteket a Pandas DataFrame segítségével, különös tekintettel a két kulcstechnikára: .loc[] és .query().\n",
    "\n",
    "Az adatkészlet oszlopaival kapcsolatos információk az alábbiakban találhatók:\n",
    "\n",
    "     Rang: A játék rangsorolása az eladások alapján.\n",
    "     Név: A játék neve.\n",
    "     Platform: Az a platform, amelyen a játék megjelent (pl. Wii, NES, GB, DS, X360, PS3, PS2).\n",
    "     Év: A játék megjelenésének éve.\n",
    "     Műfaj: A játék műfaja vagy kategóriája (pl. Sport, Platform, Verseny, Szerepjáték, Rejtvény, Egyéb, Shooter, Szimuláció, Akció).\n",
    "     Kiadó: A játék kiadásáért felelős kiadó vagy cég.\n",
    "     NA_Sales: Értékesítés Észak-Amerikában (millió darabban).\n",
    "     EU_Sales: Értékesítés Európában (millió darabban).\n",
    "     JP_Sales: Értékesítés Japánban (millió darabban).\n",
    "     Other_Sales: Értékesítés más régiókban (millió egységben).\n",
    "     Global_Sales: Teljes globális értékesítés (az értékesítések összege az összes régióban) millió darabban.\n",
    "\n",
    "A gyakorlati gyakorlatok és a kódolási feladatok elvégzésével alaposan megértheti, hogyan lehet hatékonyan kinyerni, szűrni és kiválasztani az adatokat a Pandas DataFrames-ből. Megszerzi azokat a készségeket, amelyek az adatok elemzéséhez, a megalapozott döntések meghozatalához és a valós adatkészletekből való értelmes betekintéshez szükségesek.\n",
    "\n",
    "Készüljön fel egy izgalmas utazásra az adatkezelés és -elemzés világába a Pandákkal. Merüljünk el, és fedezzük fel a videojáték-eladási adatok lenyűgöző birodalmát!"
   ]
  },
  {
   "cell_type": "code",
   "execution_count": 34,
   "metadata": {},
   "outputs": [
    {
     "data": {
      "text/html": [
       "<div>\n",
       "<style scoped>\n",
       "    .dataframe tbody tr th:only-of-type {\n",
       "        vertical-align: middle;\n",
       "    }\n",
       "\n",
       "    .dataframe tbody tr th {\n",
       "        vertical-align: top;\n",
       "    }\n",
       "\n",
       "    .dataframe thead th {\n",
       "        text-align: right;\n",
       "    }\n",
       "</style>\n",
       "<table border=\"1\" class=\"dataframe\">\n",
       "  <thead>\n",
       "    <tr style=\"text-align: right;\">\n",
       "      <th></th>\n",
       "      <th>Name</th>\n",
       "      <th>Platform</th>\n",
       "      <th>Year</th>\n",
       "      <th>Genre</th>\n",
       "      <th>Publisher</th>\n",
       "      <th>NA_Sales</th>\n",
       "      <th>EU_Sales</th>\n",
       "      <th>JP_Sales</th>\n",
       "      <th>Other_Sales</th>\n",
       "      <th>Global_Sales</th>\n",
       "      <th>Rank</th>\n",
       "    </tr>\n",
       "  </thead>\n",
       "  <tbody>\n",
       "    <tr>\n",
       "      <th>0</th>\n",
       "      <td>Kaboom!</td>\n",
       "      <td>2600</td>\n",
       "      <td>1980.0</td>\n",
       "      <td>Misc</td>\n",
       "      <td>Activision</td>\n",
       "      <td>1.07</td>\n",
       "      <td>0.07</td>\n",
       "      <td>0.0</td>\n",
       "      <td>0.01</td>\n",
       "      <td>1.15</td>\n",
       "      <td>115.0</td>\n",
       "    </tr>\n",
       "    <tr>\n",
       "      <th>1</th>\n",
       "      <td>Boxing</td>\n",
       "      <td>2600</td>\n",
       "      <td>1980.0</td>\n",
       "      <td>Fighting</td>\n",
       "      <td>Activision</td>\n",
       "      <td>0.72</td>\n",
       "      <td>0.04</td>\n",
       "      <td>0.0</td>\n",
       "      <td>0.01</td>\n",
       "      <td>0.77</td>\n",
       "      <td>77.0</td>\n",
       "    </tr>\n",
       "    <tr>\n",
       "      <th>2</th>\n",
       "      <td>Ice Hockey</td>\n",
       "      <td>2600</td>\n",
       "      <td>1980.0</td>\n",
       "      <td>Sports</td>\n",
       "      <td>Activision</td>\n",
       "      <td>0.46</td>\n",
       "      <td>0.03</td>\n",
       "      <td>0.0</td>\n",
       "      <td>0.01</td>\n",
       "      <td>0.49</td>\n",
       "      <td>49.0</td>\n",
       "    </tr>\n",
       "    <tr>\n",
       "      <th>3</th>\n",
       "      <td>Freeway</td>\n",
       "      <td>2600</td>\n",
       "      <td>1980.0</td>\n",
       "      <td>Action</td>\n",
       "      <td>Activision</td>\n",
       "      <td>0.32</td>\n",
       "      <td>0.02</td>\n",
       "      <td>0.0</td>\n",
       "      <td>0.00</td>\n",
       "      <td>0.34</td>\n",
       "      <td>34.0</td>\n",
       "    </tr>\n",
       "    <tr>\n",
       "      <th>4</th>\n",
       "      <td>Bridge</td>\n",
       "      <td>2600</td>\n",
       "      <td>1980.0</td>\n",
       "      <td>Misc</td>\n",
       "      <td>Activision</td>\n",
       "      <td>0.25</td>\n",
       "      <td>0.02</td>\n",
       "      <td>0.0</td>\n",
       "      <td>0.00</td>\n",
       "      <td>0.27</td>\n",
       "      <td>27.0</td>\n",
       "    </tr>\n",
       "  </tbody>\n",
       "</table>\n",
       "</div>"
      ],
      "text/plain": [
       "         Name Platform    Year     Genre   Publisher  NA_Sales  EU_Sales  \\\n",
       "0     Kaboom!     2600  1980.0      Misc  Activision      1.07      0.07   \n",
       "1      Boxing     2600  1980.0  Fighting  Activision      0.72      0.04   \n",
       "2  Ice Hockey     2600  1980.0    Sports  Activision      0.46      0.03   \n",
       "3     Freeway     2600  1980.0    Action  Activision      0.32      0.02   \n",
       "4      Bridge     2600  1980.0      Misc  Activision      0.25      0.02   \n",
       "\n",
       "   JP_Sales  Other_Sales  Global_Sales   Rank  \n",
       "0       0.0         0.01          1.15  115.0  \n",
       "1       0.0         0.01          0.77   77.0  \n",
       "2       0.0         0.01          0.49   49.0  \n",
       "3       0.0         0.00          0.34   34.0  \n",
       "4       0.0         0.00          0.27   27.0  "
      ]
     },
     "execution_count": 34,
     "metadata": {},
     "output_type": "execute_result"
    }
   ],
   "source": [
    "import pandas as pd\n",
    "source = r'https://raw.githubusercontent.com/raghav-19/Video-Games-Sales-Data-Analysis/master/vgsales.csv'\n",
    "df = pd.read_csv(source)\n",
    "df['Rank'] = (df['Global_Sales'].rank(method='dense')) \n",
    "df.head()\n"
   ]
  },
  {
   "cell_type": "code",
   "execution_count": 33,
   "metadata": {},
   "outputs": [
    {
     "data": {
      "text/html": [
       "<div>\n",
       "<style scoped>\n",
       "    .dataframe tbody tr th:only-of-type {\n",
       "        vertical-align: middle;\n",
       "    }\n",
       "\n",
       "    .dataframe tbody tr th {\n",
       "        vertical-align: top;\n",
       "    }\n",
       "\n",
       "    .dataframe thead th {\n",
       "        text-align: right;\n",
       "    }\n",
       "</style>\n",
       "<table border=\"1\" class=\"dataframe\">\n",
       "  <thead>\n",
       "    <tr style=\"text-align: right;\">\n",
       "      <th></th>\n",
       "      <th>Name</th>\n",
       "      <th>Platform</th>\n",
       "      <th>Year</th>\n",
       "      <th>Genre</th>\n",
       "      <th>Publisher</th>\n",
       "      <th>NA_Sales</th>\n",
       "      <th>EU_Sales</th>\n",
       "      <th>JP_Sales</th>\n",
       "      <th>Other_Sales</th>\n",
       "      <th>Global_Sales</th>\n",
       "      <th>Rank</th>\n",
       "    </tr>\n",
       "  </thead>\n",
       "  <tbody>\n",
       "    <tr>\n",
       "      <th>16534</th>\n",
       "      <td>LEGO Harry Potter: Years 5-7</td>\n",
       "      <td>PC</td>\n",
       "      <td>NaN</td>\n",
       "      <td>Action</td>\n",
       "      <td>Warner Bros. Interactive Entertainment</td>\n",
       "      <td>0.05</td>\n",
       "      <td>0.14</td>\n",
       "      <td>0.0</td>\n",
       "      <td>0.03</td>\n",
       "      <td>0.22</td>\n",
       "      <td>1.0</td>\n",
       "    </tr>\n",
       "    <tr>\n",
       "      <th>16535</th>\n",
       "      <td>Happy Feet Two</td>\n",
       "      <td>DS</td>\n",
       "      <td>NaN</td>\n",
       "      <td>Action</td>\n",
       "      <td>Warner Bros. Interactive Entertainment</td>\n",
       "      <td>0.09</td>\n",
       "      <td>0.02</td>\n",
       "      <td>0.0</td>\n",
       "      <td>0.01</td>\n",
       "      <td>0.12</td>\n",
       "      <td>1.0</td>\n",
       "    </tr>\n",
       "    <tr>\n",
       "      <th>16536</th>\n",
       "      <td>Happy Feet Two</td>\n",
       "      <td>PS3</td>\n",
       "      <td>NaN</td>\n",
       "      <td>Action</td>\n",
       "      <td>Warner Bros. Interactive Entertainment</td>\n",
       "      <td>0.09</td>\n",
       "      <td>0.01</td>\n",
       "      <td>0.0</td>\n",
       "      <td>0.01</td>\n",
       "      <td>0.10</td>\n",
       "      <td>1.0</td>\n",
       "    </tr>\n",
       "    <tr>\n",
       "      <th>16537</th>\n",
       "      <td>Happy Feet Two</td>\n",
       "      <td>X360</td>\n",
       "      <td>NaN</td>\n",
       "      <td>Action</td>\n",
       "      <td>Warner Bros. Interactive Entertainment</td>\n",
       "      <td>0.08</td>\n",
       "      <td>0.01</td>\n",
       "      <td>0.0</td>\n",
       "      <td>0.01</td>\n",
       "      <td>0.10</td>\n",
       "      <td>1.0</td>\n",
       "    </tr>\n",
       "    <tr>\n",
       "      <th>16538</th>\n",
       "      <td>Happy Feet Two</td>\n",
       "      <td>Wii</td>\n",
       "      <td>NaN</td>\n",
       "      <td>Action</td>\n",
       "      <td>Warner Bros. Interactive Entertainment</td>\n",
       "      <td>0.07</td>\n",
       "      <td>0.01</td>\n",
       "      <td>0.0</td>\n",
       "      <td>0.01</td>\n",
       "      <td>0.09</td>\n",
       "      <td>1.0</td>\n",
       "    </tr>\n",
       "  </tbody>\n",
       "</table>\n",
       "</div>"
      ],
      "text/plain": [
       "                               Name Platform  Year   Genre  \\\n",
       "16534  LEGO Harry Potter: Years 5-7       PC   NaN  Action   \n",
       "16535                Happy Feet Two       DS   NaN  Action   \n",
       "16536                Happy Feet Two      PS3   NaN  Action   \n",
       "16537                Happy Feet Two     X360   NaN  Action   \n",
       "16538                Happy Feet Two      Wii   NaN  Action   \n",
       "\n",
       "                                    Publisher  NA_Sales  EU_Sales  JP_Sales  \\\n",
       "16534  Warner Bros. Interactive Entertainment      0.05      0.14       0.0   \n",
       "16535  Warner Bros. Interactive Entertainment      0.09      0.02       0.0   \n",
       "16536  Warner Bros. Interactive Entertainment      0.09      0.01       0.0   \n",
       "16537  Warner Bros. Interactive Entertainment      0.08      0.01       0.0   \n",
       "16538  Warner Bros. Interactive Entertainment      0.07      0.01       0.0   \n",
       "\n",
       "       Other_Sales  Global_Sales  Rank  \n",
       "16534         0.03          0.22   1.0  \n",
       "16535         0.01          0.12   1.0  \n",
       "16536         0.01          0.10   1.0  \n",
       "16537         0.01          0.10   1.0  \n",
       "16538         0.01          0.09   1.0  "
      ]
     },
     "execution_count": 33,
     "metadata": {},
     "output_type": "execute_result"
    }
   ],
   "source": [
    "df.tail()"
   ]
  },
  {
   "cell_type": "markdown",
   "metadata": {},
   "source": [
    "Szűrje le a DataFrame df-et, hogy csak a Sports műfajú játékokat tartalmazza, és az eredményt rendelje hozzá a sports_df-hez.\n"
   ]
  },
  {
   "cell_type": "code",
   "execution_count": null,
   "metadata": {},
   "outputs": [],
   "source": [
    "sports_df = df.loc[df['Genre'] == 'Sports']"
   ]
  },
  {
   "cell_type": "markdown",
   "metadata": {},
   "source": [
    "Szűrje le az adatkészletet olyan játékok lekéréséhez, amelyek eladásai meghaladnak egy bizonyos küszöbértéket Észak-Amerikában\n",
    "\n",
    "Szűrje le a DataFrame df-et, hogy csak olyan játékok szerepeljenek benne, amelyek eladása meghaladja az 1 milliót Észak-Amerikában, és rendelje hozzá az eredményt a na_sales_df-hez.\n"
   ]
  },
  {
   "cell_type": "code",
   "execution_count": null,
   "metadata": {},
   "outputs": [],
   "source": [
    "na_sales_df = df.loc[df['NA_Sales'] > 1]"
   ]
  },
  {
   "cell_type": "markdown",
   "metadata": {},
   "source": [
    "Lekérheti az adott évben egy adott platformon kiadott játékokat\n",
    "\n",
    "Töltse le a PS2 platformon 2005-ben kiadott játékokat, és rendelje hozzá az eredményt a ps2_2005_df-hez.\n"
   ]
  },
  {
   "cell_type": "code",
   "execution_count": null,
   "metadata": {},
   "outputs": [],
   "source": [
    "ps2_2005_df = df.loc[(df['Platform'] == 'PS2') & (df['Year'] == 2005)]"
   ]
  },
  {
   "cell_type": "markdown",
   "metadata": {},
   "source": [
    "A játékok szűrése globális értékesítési tartomány szerint\n",
    "\n",
    "Szűrje le a DataFrame df-et úgy, hogy csak a 20,0 és 30,0 millió közötti globális értékesítésű játékokat tartalmazza (mindkettőt beleértve), és rendelje hozzá az eredményt a global_sales_df-hez.\n"
   ]
  },
  {
   "cell_type": "code",
   "execution_count": null,
   "metadata": {},
   "outputs": [],
   "source": [
    "global_sales_df = df.loc[(df['Global_Sales'] >= 20) & (df['Global_Sales'] <= 30)]"
   ]
  },
  {
   "cell_type": "markdown",
   "metadata": {},
   "source": [
    "A játékok szűrése kiadó és műfaj szerint\n",
    "\n",
    "Szűrje le a DataFrame df-et, hogy csak a Nintendo által közzétett és az Action műfajú játékokat tartalmazza, és az eredményt rendelje hozzá a nintendo_action_df-hez."
   ]
  },
  {
   "cell_type": "code",
   "execution_count": null,
   "metadata": {},
   "outputs": [],
   "source": [
    "nintendo_action_df = df.loc[(df['Publisher'] == 'Nintendo') & (df['Genre'] == 'Action')]"
   ]
  },
  {
   "cell_type": "markdown",
   "metadata": {},
   "source": [
    "Több műfajhoz tartozó játékok letöltése\n",
    "\n",
    "Szerezze be az Action vagy Sports műfajokhoz tartozó összes játékot, és rendelje hozzá az eredményt az action_sports_df-hez.\n"
   ]
  },
  {
   "cell_type": "code",
   "execution_count": null,
   "metadata": {},
   "outputs": [],
   "source": [
    "action_sports_df = df.loc[(df['Genre'] == 'Sports') | (df['Genre'] == 'Action')]"
   ]
  },
  {
   "cell_type": "markdown",
   "metadata": {},
   "source": [
    "Válassza ki a játékokat az adatkészletből több kritérium, például platform, műfaj és értékesítés alapján\n",
    "\n",
    "Szerezd meg az Action és Sports műfajokhoz tartozó és a PS2 platformon megjelent összes játékot 5,0 és 30,0 millió közötti globális eladással, és rendeld hozzá az eredményt a ps2_action_sports_df-hez."
   ]
  },
  {
   "cell_type": "code",
   "execution_count": null,
   "metadata": {},
   "outputs": [],
   "source": [
    "ps2_action_sports_df = df.loc[((df['Genre'] == 'Sports') | (df['Genre'] == 'Action')) & \n",
    "                              (df['Platform'] == 'PS2') & (df['Global_Sales'] >= 5) & (df['Global_Sales'] <= 30)]"
   ]
  },
  {
   "cell_type": "code",
   "execution_count": null,
   "metadata": {},
   "outputs": [],
   "source": [
    "platform_filter = df['Platform'] == 'PS2'\n",
    "genre_filter = df['Genre'].isin(['Action', 'Sports'])\n",
    "sales_filter = (df['Global_Sales'] >= 5.0) & (df['Global_Sales'] <= 30.0)\n",
    "ps2_action_sports_df = df.loc[platform_filter & genre_filter & sales_filter]\n"
   ]
  },
  {
   "cell_type": "markdown",
   "metadata": {},
   "source": [
    "A játékok szűrése globális értékesítési tartomány szerint\n",
    "\n",
    "Szűrje le a DataFrame df-et, hogy csak az 5,0 és 30,0 millió közötti globális értékesítésű játékokat tartalmazza (mindkettőt beleértve), és rendelje hozzá az eredményt a filtered_query_df-hez."
   ]
  },
  {
   "cell_type": "code",
   "execution_count": null,
   "metadata": {},
   "outputs": [],
   "source": [
    "filtered_query_df = df.loc[(df['Global_Sales'] >= 5) & (df['Global_Sales'] <= 30)]"
   ]
  },
  {
   "cell_type": "markdown",
   "metadata": {},
   "source": [
    "A játékok szűrése platform és globális értékesítés szerint\n",
    "\n",
    "Szűrje le a DataFrame df-et, hogy csak a PS2 platformon megjelent, 5,0 milliónál nagyobb globális értékesítési értékű játékokat tartalmazza, és rendelje hozzá az eredményt a query_ps2_df-hez.\n"
   ]
  },
  {
   "cell_type": "code",
   "execution_count": null,
   "metadata": {},
   "outputs": [],
   "source": [
    "query_ps2_df = df.loc[(df['Global_Sales'] >= 5) & (df['Platform'] == 'PS2')]"
   ]
  },
  {
   "cell_type": "markdown",
   "metadata": {},
   "source": [
    "Sorok és oszlopok szűrése a 2000 után megjelent játékokhoz\n",
    "\n",
    "Szűrje az adatkészletet a 2000 után kiadott játékokra, amelyek globális értékesítési értéke meghaladja az 5,0 milliót, de csak a Név, Platform, Év és Global_Sales oszlopokat tartalmazza, és rendelje hozzá az eredményt a query_rows_cols_df értékhez."
   ]
  },
  {
   "cell_type": "code",
   "execution_count": null,
   "metadata": {},
   "outputs": [],
   "source": [
    "query_rows_cols_df = df.loc[(df['Year'] > 2000) & (df['Global_Sales'] > 5)][['Name', 'Platform', 'Year', 'Global_Sales']]"
   ]
  },
  {
   "cell_type": "markdown",
   "metadata": {},
   "source": [
    "Szűrje le az adatkészletet PS4 vagy NES platformmal rendelkező játékokra, és csak a Név, NA_Sales és EU_Sales oszlopokat jelenítse meg\n",
    "\n",
    "Szűrje le az adatkészletet úgy, hogy a PS4 vagy NES platformmal rendelkező játékokat is tartalmazza, és csak a Név, NA_Sales és EU_Sales oszlopokat jelenítse meg, és rendelje hozzá az eredményt a query_rows_cols_df2 értékhez.\n"
   ]
  },
  {
   "cell_type": "code",
   "execution_count": null,
   "metadata": {},
   "outputs": [],
   "source": [
    "query_rows_cols_df2 = df.loc[(df['Platform'] == 'NES') | (df['Platform'] == 'PS4')][['Name', 'NA_Sales', 'EU_Sales']]"
   ]
  },
  {
   "cell_type": "markdown",
   "metadata": {},
   "source": [
    "Szerezze meg a 10 legjobb játék eladási adatait (minden régióban).\n",
    "\n",
    "Szerezze meg a 10 legjobb játék eladási adatait (minden régió), és rendelje hozzá az eredményt a top10_df-hez. A DataFrame csak a Név, NA_Sales, EU_Sales, JP_Sales, Other_Sales és Global_Sales oszlopokat tartalmazza.\n"
   ]
  },
  {
   "cell_type": "code",
   "execution_count": null,
   "metadata": {},
   "outputs": [],
   "source": [
    "# Try your code here\n",
    "top10_df = df.loc[df['Rank'].isin([1,2,3,4,5,6,7,8,9,10])][['Name', 'NA_Sales', 'EU_Sales', 'JP_Sales', 'Other_Sales', 'Global_Sales']]"
   ]
  },
  {
   "cell_type": "markdown",
   "metadata": {},
   "source": [
    "Számítsa ki az átlagos eladásokat Észak-Amerikában (NA_Sales) az Action műfajhoz"
   ]
  },
  {
   "cell_type": "code",
   "execution_count": null,
   "metadata": {},
   "outputs": [],
   "source": [
    "df.loc[df['Genre'] == 'Action']['NA_Sales'].mean()"
   ]
  },
  {
   "cell_type": "markdown",
   "metadata": {},
   "source": [
    "Keresse meg azt a műfajt, amely a legtöbbet értékesítette Japánban (JP_Sales)\n",
    "\n",
    "Írja le a választ karakterláncként! Például, ha a válasz Action, írja be az Action szót.\n"
   ]
  },
  {
   "cell_type": "code",
   "execution_count": null,
   "metadata": {},
   "outputs": [],
   "source": [
    "df.loc[df['JP_Sales'] == df['JP_Sales'].max()]['Genre']"
   ]
  },
  {
   "cell_type": "code",
   "execution_count": null,
   "metadata": {},
   "outputs": [],
   "source": [
    "total_sales_per_genre = df.groupby('Genre')['JP_Sales'].sum()\n",
    "genre_with_highest_sales = total_sales_per_genre.idxmax()\n",
    "genre_with_highest_sales\n"
   ]
  },
  {
   "cell_type": "markdown",
   "metadata": {},
   "source": [
    "Határozza meg az Electronic Arts által kiadott játékok átlagos európai eladásait (EU_Sales)."
   ]
  },
  {
   "cell_type": "code",
   "execution_count": null,
   "metadata": {},
   "outputs": [],
   "source": [
    "df.loc[df['Publisher'] == 'Electronic Arts']['EU_Sales'].mean()"
   ]
  },
  {
   "cell_type": "markdown",
   "metadata": {},
   "source": [
    "Keresse meg a 2005 és 2010 között (beleértve) kiadott összes játékot több feltétellel\n",
    "\n",
    "Keresse meg az összes 2005 és 2010 között (beleértve) kiadott játékokat, amelyek az Action műfajhoz tartoznak, és amelyek összértéke meghaladja az 5 milliót. Rendelje hozzá az eredményt a games_2005_2010-hez.\n"
   ]
  },
  {
   "cell_type": "code",
   "execution_count": null,
   "metadata": {},
   "outputs": [],
   "source": [
    "# Try your code here\n",
    "games_2005_2010 = df.loc[(df['Year'] >= 2005) & (df['Year'] <= 2010) & (df['Global_Sales'] > 5) & (df['Genre'] == 'Action')]"
   ]
  },
  {
   "cell_type": "markdown",
   "metadata": {},
   "source": [
    "Keresse meg a 10 legjobb játékot több szűrővel\n",
    "\n",
    "Keresse meg a 10 legjobb játékot, amelyek Észak-Amerikában a legtöbbet értékesítették (NA_Sales) a 2010 után kiadott Shooter műfaj közül. Rendelje hozzá az eredményt a top_10_shooter_2010-hez. Az eredménynek a következő oszlopokat kell tartalmaznia a megadott sorrendben: Név, NA_Sales, EU_Sales, JP_Sales, Other_Sales, Global_Sales.\n"
   ]
  },
  {
   "cell_type": "code",
   "execution_count": null,
   "metadata": {},
   "outputs": [],
   "source": [
    "# Try your code here\n",
    "top_10_shooter_2010 = df.query('Year > 2010 and Genre == \"Shooter\"').sort_values('NA_Sales', ascending=False).head(10)[['Name', 'NA_Sales', 'EU_Sales', 'JP_Sales', 'Other_Sales', 'Global_Sales']]"
   ]
  },
  {
   "cell_type": "code",
   "execution_count": null,
   "metadata": {},
   "outputs": [],
   "source": [
    "top_10_shooter_2010 = df.loc[(df['Year'] > 2010) & (df['Genre'] == 'Shooter')].sort_values('NA_Sales', ascending=False).head(10)[['Name', 'NA_Sales', 'EU_Sales', 'JP_Sales', 'Other_Sales', 'Global_Sales']]\n"
   ]
  }
 ],
 "metadata": {
  "kernelspec": {
   "display_name": "Python 3",
   "language": "python",
   "name": "python3"
  },
  "language_info": {
   "codemirror_mode": {
    "name": "ipython",
    "version": 3
   },
   "file_extension": ".py",
   "mimetype": "text/x-python",
   "name": "python",
   "nbconvert_exporter": "python",
   "pygments_lexer": "ipython3",
   "version": "3.12.3"
  }
 },
 "nbformat": 4,
 "nbformat_minor": 2
}
