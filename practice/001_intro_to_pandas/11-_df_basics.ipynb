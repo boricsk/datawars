{
 "cells": [
  {
   "cell_type": "markdown",
   "metadata": {},
   "source": [
    "Mi az a DataFrame?\n",
    "\n",
    "Egyszerűen fogalmazva, a DataFrame-ek a Python módszerei az adatok táblázatos formában történő megjelenítésére.\n",
    "\n",
    "A Python hatékony adatelemzési könyvtárának – pandas with DataFrames – használatával hatékony módszert kínál a nagy mennyiségű strukturált adatkezelésre.\n",
    "Hasonló az Excelhez?\n",
    "\n",
    "<img src=\"df_spreadsheet.png\" height = \"200\" weight = \"400\"><br>\n",
    "Ahogy az Excel táblázatokat, a Python panda adatkereteket használ. Skálázhatósága és sebessége miatt gyakran előnyben részesítik a Pythont az Excellel szemben.\n",
    "Hogyan épül fel a DataFrame?\n",
    "\n",
    "Tehát hogyan néz ki egy DataFrame? <br>Sorokból és oszlopokból áll, így kétdimenziós. Vessünk egy pillantást alább:\n",
    "<img src=\"df_components.png\"><br>\n",
    "Látjuk, hogy az indexünk a vállalatokból áll, de egy index számokból is állhat.\n",
    "\n",
    "     Az index olyan, mint egy cím: sorok és oszlopok megkeresésére is használható.\n",
    "\n",
    "Erről majd később.\n",
    "\n",
    "Tehát ugorjunk a Jupyter jegyzetfüzetünkbe, és hozzuk létre a DataFrame-et ebből a példából.\n",
    "\n",
    "A mai labor adatkészlete információkat tartalmaz a világ legjobb technológiai vállalatairól, az alábbiak szerint:\n",
    "\n",
    "<img src=\"tech_table.png\"><br>\n",
    "\n",
    "A DataFrame öt oszlopot tartalmaz: - Bevétel - Alkalmazottak - Ágazat - Alapítás dátuma - Ország\n",
    "\n",
    "Az adatkeret létrehozásának szintaxisa a következő:\n",
    "\n",
    "<code>\n",
    "import pandas as pd\n",
    "\n",
    "pd.DataFrame(data, index)\n",
    "</code>\n",
    "\n",
    "data: Ezek az adatok az adatkészletünkből.\n",
    "\n",
    "index: Ez olyan, mint az általunk tárolt adatok címe.\n",
    "\n"
   ]
  },
  {
   "cell_type": "code",
   "execution_count": 1,
   "metadata": {},
   "outputs": [],
   "source": [
    "import pandas as pd"
   ]
  },
  {
   "cell_type": "code",
   "execution_count": 2,
   "metadata": {},
   "outputs": [],
   "source": [
    "#Üres df\n",
    "df = pd.DataFrame()"
   ]
  },
  {
   "cell_type": "code",
   "execution_count": 3,
   "metadata": {},
   "outputs": [],
   "source": [
    "#Az adatok\n",
    "data = {'Revenue': [274515,200734,182527,181945,143015,129184,92224,85965,84893,\n",
    "                    82345,77867,73620,69864,63191],\n",
    "        'Employees': [147000,267937,135301,878429,163000,197000,158000,58604,\n",
    "                      109700,350864,110600,364800,85858,243540],\n",
    "        'Sector': ['Consumer Electronics','Consumer Electronics','Software Services',\n",
    "                   'Chip Manufacturing','Software Services','Consumer Electronics',\n",
    "                   'Consumer Electronics','Software Services','Consumer Electronics',\n",
    "                   'Consumer Electronics','Chip Manufacturing','Software Services',\n",
    "                   'Software Services','Consumer Electronics'],\n",
    "        'Founding Date':['01-04-1976','13-01-1969','04-09-1998','20-02-1974',\n",
    "                         '04-04-1975','15-09-1987','01-02-1984','04-02-2004',\n",
    "                         '07-04-1946','01-01-1910','18-07-1968','16-06-1911',\n",
    "                         '11-11-1998','07-03-1918'],\n",
    "        'Country':['USA','South Korea','USA','Taiwan','USA','China','USA','USA',\n",
    "                   'Japan','Japan','USA','USA','China','Japan']} \n",
    "index = ['Apple','Samsung','Alphabet','Foxconn','Microsoft','Huawei',\n",
    "         'Dell Technologies','Meta','Sony','Hitachi','Intel','IBM',\n",
    "         'Tencent','Panasonic']"
   ]
  },
  {
   "cell_type": "code",
   "execution_count": 4,
   "metadata": {},
   "outputs": [],
   "source": [
    "df = pd.DataFrame(data, index)"
   ]
  },
  {
   "cell_type": "code",
   "execution_count": 5,
   "metadata": {},
   "outputs": [
    {
     "data": {
      "text/html": [
       "<div>\n",
       "<style scoped>\n",
       "    .dataframe tbody tr th:only-of-type {\n",
       "        vertical-align: middle;\n",
       "    }\n",
       "\n",
       "    .dataframe tbody tr th {\n",
       "        vertical-align: top;\n",
       "    }\n",
       "\n",
       "    .dataframe thead th {\n",
       "        text-align: right;\n",
       "    }\n",
       "</style>\n",
       "<table border=\"1\" class=\"dataframe\">\n",
       "  <thead>\n",
       "    <tr style=\"text-align: right;\">\n",
       "      <th></th>\n",
       "      <th>Revenue</th>\n",
       "      <th>Employees</th>\n",
       "      <th>Sector</th>\n",
       "      <th>Founding Date</th>\n",
       "      <th>Country</th>\n",
       "    </tr>\n",
       "  </thead>\n",
       "  <tbody>\n",
       "    <tr>\n",
       "      <th>Apple</th>\n",
       "      <td>274515</td>\n",
       "      <td>147000</td>\n",
       "      <td>Consumer Electronics</td>\n",
       "      <td>01-04-1976</td>\n",
       "      <td>USA</td>\n",
       "    </tr>\n",
       "    <tr>\n",
       "      <th>Samsung</th>\n",
       "      <td>200734</td>\n",
       "      <td>267937</td>\n",
       "      <td>Consumer Electronics</td>\n",
       "      <td>13-01-1969</td>\n",
       "      <td>South Korea</td>\n",
       "    </tr>\n",
       "    <tr>\n",
       "      <th>Alphabet</th>\n",
       "      <td>182527</td>\n",
       "      <td>135301</td>\n",
       "      <td>Software Services</td>\n",
       "      <td>04-09-1998</td>\n",
       "      <td>USA</td>\n",
       "    </tr>\n",
       "    <tr>\n",
       "      <th>Foxconn</th>\n",
       "      <td>181945</td>\n",
       "      <td>878429</td>\n",
       "      <td>Chip Manufacturing</td>\n",
       "      <td>20-02-1974</td>\n",
       "      <td>Taiwan</td>\n",
       "    </tr>\n",
       "    <tr>\n",
       "      <th>Microsoft</th>\n",
       "      <td>143015</td>\n",
       "      <td>163000</td>\n",
       "      <td>Software Services</td>\n",
       "      <td>04-04-1975</td>\n",
       "      <td>USA</td>\n",
       "    </tr>\n",
       "  </tbody>\n",
       "</table>\n",
       "</div>"
      ],
      "text/plain": [
       "           Revenue  Employees                Sector Founding Date      Country\n",
       "Apple       274515     147000  Consumer Electronics    01-04-1976          USA\n",
       "Samsung     200734     267937  Consumer Electronics    13-01-1969  South Korea\n",
       "Alphabet    182527     135301     Software Services    04-09-1998          USA\n",
       "Foxconn     181945     878429    Chip Manufacturing    20-02-1974       Taiwan\n",
       "Microsoft   143015     163000     Software Services    04-04-1975          USA"
      ]
     },
     "execution_count": 5,
     "metadata": {},
     "output_type": "execute_result"
    }
   ],
   "source": [
    "df.head()"
   ]
  },
  {
   "cell_type": "markdown",
   "metadata": {},
   "source": [
    "Alapvető navigációs és böngészési technikák\n",
    "\n",
    "Szóval, hogyan használjuk ki igazán a pandák DataFrames erejét?\n",
    "\n",
    "Nézzünk meg néhány funkciót:\n",
    "\n",
    "a) head\n",
    "\n",
    "A head() metódus megjeleníti a DataFrame első néhány sorát, így könnyebben áttekinthető az általános szerkezet és a tartalom. Alapértelmezés szerint az első öt sort fogja megjeleníteni.\n",
    "\n",
    "<code>\n",
    "df.head()\n",
    "</code>\n",
    "\n",
    "Tovább bővíthetjük adatkészletünket, és megadhatjuk a .head(n) sorok számát a zárójelben, az alábbiak szerint:\n",
    "\n",
    "<code>\n",
    "df.head(10)\n",
    "</code>\n",
    "\n",
    "Ez a funkció különösen hasznos, mivel gyorsan ellenőrizheti a DataFrame-et a head() metódussal, hogy megbizonyosodjon arról, hogy az összes adat megfelelően és az elvárásoknak megfelelően kerül tárolásra."
   ]
  },
  {
   "cell_type": "code",
   "execution_count": 6,
   "metadata": {},
   "outputs": [
    {
     "data": {
      "text/html": [
       "<div>\n",
       "<style scoped>\n",
       "    .dataframe tbody tr th:only-of-type {\n",
       "        vertical-align: middle;\n",
       "    }\n",
       "\n",
       "    .dataframe tbody tr th {\n",
       "        vertical-align: top;\n",
       "    }\n",
       "\n",
       "    .dataframe thead th {\n",
       "        text-align: right;\n",
       "    }\n",
       "</style>\n",
       "<table border=\"1\" class=\"dataframe\">\n",
       "  <thead>\n",
       "    <tr style=\"text-align: right;\">\n",
       "      <th></th>\n",
       "      <th>Revenue</th>\n",
       "      <th>Employees</th>\n",
       "      <th>Sector</th>\n",
       "      <th>Founding Date</th>\n",
       "      <th>Country</th>\n",
       "    </tr>\n",
       "  </thead>\n",
       "  <tbody>\n",
       "    <tr>\n",
       "      <th>Apple</th>\n",
       "      <td>274515</td>\n",
       "      <td>147000</td>\n",
       "      <td>Consumer Electronics</td>\n",
       "      <td>01-04-1976</td>\n",
       "      <td>USA</td>\n",
       "    </tr>\n",
       "    <tr>\n",
       "      <th>Samsung</th>\n",
       "      <td>200734</td>\n",
       "      <td>267937</td>\n",
       "      <td>Consumer Electronics</td>\n",
       "      <td>13-01-1969</td>\n",
       "      <td>South Korea</td>\n",
       "    </tr>\n",
       "    <tr>\n",
       "      <th>Alphabet</th>\n",
       "      <td>182527</td>\n",
       "      <td>135301</td>\n",
       "      <td>Software Services</td>\n",
       "      <td>04-09-1998</td>\n",
       "      <td>USA</td>\n",
       "    </tr>\n",
       "    <tr>\n",
       "      <th>Foxconn</th>\n",
       "      <td>181945</td>\n",
       "      <td>878429</td>\n",
       "      <td>Chip Manufacturing</td>\n",
       "      <td>20-02-1974</td>\n",
       "      <td>Taiwan</td>\n",
       "    </tr>\n",
       "    <tr>\n",
       "      <th>Microsoft</th>\n",
       "      <td>143015</td>\n",
       "      <td>163000</td>\n",
       "      <td>Software Services</td>\n",
       "      <td>04-04-1975</td>\n",
       "      <td>USA</td>\n",
       "    </tr>\n",
       "    <tr>\n",
       "      <th>Huawei</th>\n",
       "      <td>129184</td>\n",
       "      <td>197000</td>\n",
       "      <td>Consumer Electronics</td>\n",
       "      <td>15-09-1987</td>\n",
       "      <td>China</td>\n",
       "    </tr>\n",
       "    <tr>\n",
       "      <th>Dell Technologies</th>\n",
       "      <td>92224</td>\n",
       "      <td>158000</td>\n",
       "      <td>Consumer Electronics</td>\n",
       "      <td>01-02-1984</td>\n",
       "      <td>USA</td>\n",
       "    </tr>\n",
       "    <tr>\n",
       "      <th>Meta</th>\n",
       "      <td>85965</td>\n",
       "      <td>58604</td>\n",
       "      <td>Software Services</td>\n",
       "      <td>04-02-2004</td>\n",
       "      <td>USA</td>\n",
       "    </tr>\n",
       "    <tr>\n",
       "      <th>Sony</th>\n",
       "      <td>84893</td>\n",
       "      <td>109700</td>\n",
       "      <td>Consumer Electronics</td>\n",
       "      <td>07-04-1946</td>\n",
       "      <td>Japan</td>\n",
       "    </tr>\n",
       "    <tr>\n",
       "      <th>Hitachi</th>\n",
       "      <td>82345</td>\n",
       "      <td>350864</td>\n",
       "      <td>Consumer Electronics</td>\n",
       "      <td>01-01-1910</td>\n",
       "      <td>Japan</td>\n",
       "    </tr>\n",
       "  </tbody>\n",
       "</table>\n",
       "</div>"
      ],
      "text/plain": [
       "                   Revenue  Employees                Sector Founding Date  \\\n",
       "Apple               274515     147000  Consumer Electronics    01-04-1976   \n",
       "Samsung             200734     267937  Consumer Electronics    13-01-1969   \n",
       "Alphabet            182527     135301     Software Services    04-09-1998   \n",
       "Foxconn             181945     878429    Chip Manufacturing    20-02-1974   \n",
       "Microsoft           143015     163000     Software Services    04-04-1975   \n",
       "Huawei              129184     197000  Consumer Electronics    15-09-1987   \n",
       "Dell Technologies    92224     158000  Consumer Electronics    01-02-1984   \n",
       "Meta                 85965      58604     Software Services    04-02-2004   \n",
       "Sony                 84893     109700  Consumer Electronics    07-04-1946   \n",
       "Hitachi              82345     350864  Consumer Electronics    01-01-1910   \n",
       "\n",
       "                       Country  \n",
       "Apple                      USA  \n",
       "Samsung            South Korea  \n",
       "Alphabet                   USA  \n",
       "Foxconn                 Taiwan  \n",
       "Microsoft                  USA  \n",
       "Huawei                   China  \n",
       "Dell Technologies          USA  \n",
       "Meta                       USA  \n",
       "Sony                     Japan  \n",
       "Hitachi                  Japan  "
      ]
     },
     "execution_count": 6,
     "metadata": {},
     "output_type": "execute_result"
    }
   ],
   "source": [
    "df.head(10)"
   ]
  },
  {
   "cell_type": "markdown",
   "metadata": {},
   "source": [
    "b) tail\n",
    "\n",
    "A tail() metódus hasonló a head() metódushoz, kivéve, hogy megjeleníti a DataFrame utolsó néhány sorát. .\n",
    "\n",
    "df.tail()\n",
    "\n",
    "Szintén a head()-hez hasonlóan a .tail(n)-nel megadhatjuk a megjeleníteni kívánt sorok számát.\n",
    "\n",
    "df.tail(10)\n",
    "\n",
    "     Ez hasznos az adatkészlettel kapcsolatos problémák gyors azonosításához, mivel minden hiba valószínűleg a végén, nem pedig az elején található."
   ]
  },
  {
   "cell_type": "code",
   "execution_count": 7,
   "metadata": {},
   "outputs": [
    {
     "data": {
      "text/html": [
       "<div>\n",
       "<style scoped>\n",
       "    .dataframe tbody tr th:only-of-type {\n",
       "        vertical-align: middle;\n",
       "    }\n",
       "\n",
       "    .dataframe tbody tr th {\n",
       "        vertical-align: top;\n",
       "    }\n",
       "\n",
       "    .dataframe thead th {\n",
       "        text-align: right;\n",
       "    }\n",
       "</style>\n",
       "<table border=\"1\" class=\"dataframe\">\n",
       "  <thead>\n",
       "    <tr style=\"text-align: right;\">\n",
       "      <th></th>\n",
       "      <th>Revenue</th>\n",
       "      <th>Employees</th>\n",
       "      <th>Sector</th>\n",
       "      <th>Founding Date</th>\n",
       "      <th>Country</th>\n",
       "    </tr>\n",
       "  </thead>\n",
       "  <tbody>\n",
       "    <tr>\n",
       "      <th>Hitachi</th>\n",
       "      <td>82345</td>\n",
       "      <td>350864</td>\n",
       "      <td>Consumer Electronics</td>\n",
       "      <td>01-01-1910</td>\n",
       "      <td>Japan</td>\n",
       "    </tr>\n",
       "    <tr>\n",
       "      <th>Intel</th>\n",
       "      <td>77867</td>\n",
       "      <td>110600</td>\n",
       "      <td>Chip Manufacturing</td>\n",
       "      <td>18-07-1968</td>\n",
       "      <td>USA</td>\n",
       "    </tr>\n",
       "    <tr>\n",
       "      <th>IBM</th>\n",
       "      <td>73620</td>\n",
       "      <td>364800</td>\n",
       "      <td>Software Services</td>\n",
       "      <td>16-06-1911</td>\n",
       "      <td>USA</td>\n",
       "    </tr>\n",
       "    <tr>\n",
       "      <th>Tencent</th>\n",
       "      <td>69864</td>\n",
       "      <td>85858</td>\n",
       "      <td>Software Services</td>\n",
       "      <td>11-11-1998</td>\n",
       "      <td>China</td>\n",
       "    </tr>\n",
       "    <tr>\n",
       "      <th>Panasonic</th>\n",
       "      <td>63191</td>\n",
       "      <td>243540</td>\n",
       "      <td>Consumer Electronics</td>\n",
       "      <td>07-03-1918</td>\n",
       "      <td>Japan</td>\n",
       "    </tr>\n",
       "  </tbody>\n",
       "</table>\n",
       "</div>"
      ],
      "text/plain": [
       "           Revenue  Employees                Sector Founding Date Country\n",
       "Hitachi      82345     350864  Consumer Electronics    01-01-1910   Japan\n",
       "Intel        77867     110600    Chip Manufacturing    18-07-1968     USA\n",
       "IBM          73620     364800     Software Services    16-06-1911     USA\n",
       "Tencent      69864      85858     Software Services    11-11-1998   China\n",
       "Panasonic    63191     243540  Consumer Electronics    07-03-1918   Japan"
      ]
     },
     "execution_count": 7,
     "metadata": {},
     "output_type": "execute_result"
    }
   ],
   "source": [
    "df.tail()"
   ]
  },
  {
   "cell_type": "markdown",
   "metadata": {},
   "source": [
    "c) info\n",
    "\n",
    "Az info() metódus visszaadja a DataFrame összes oszlopának listáját a nevükkel, az adattípusokkal, az értékek számával és a memóriahasználattal együtt.\n",
    "\n",
    "df.info()\n",
    "\n",
    "     Így könnyen betekintést nyerhet abba, hogy mennyi helyet foglalnak el az egyes oszlopok, és segíthet azonosítani a lehetséges problémákat, például a hiányzó értékeket vagy a helytelen adattípusokat.\n"
   ]
  },
  {
   "cell_type": "code",
   "execution_count": 8,
   "metadata": {},
   "outputs": [
    {
     "name": "stdout",
     "output_type": "stream",
     "text": [
      "<class 'pandas.core.frame.DataFrame'>\n",
      "Index: 14 entries, Apple to Panasonic\n",
      "Data columns (total 5 columns):\n",
      " #   Column         Non-Null Count  Dtype \n",
      "---  ------         --------------  ----- \n",
      " 0   Revenue        14 non-null     int64 \n",
      " 1   Employees      14 non-null     int64 \n",
      " 2   Sector         14 non-null     object\n",
      " 3   Founding Date  14 non-null     object\n",
      " 4   Country        14 non-null     object\n",
      "dtypes: int64(2), object(3)\n",
      "memory usage: 672.0+ bytes\n"
     ]
    }
   ],
   "source": [
    "df.info()"
   ]
  },
  {
   "cell_type": "markdown",
   "metadata": {},
   "source": [
    "d) shape\n",
    "\n",
    "A shape metódus egy sorokat és oszlopokat (sorok, oszlopok) ad vissza a DataFrame-ünkben.\n",
    "\n",
    "df.shape\n",
    "\n",
    "     Ez gyors betekintést nyújt a DataFrame dimenzióiba.\n"
   ]
  },
  {
   "cell_type": "code",
   "execution_count": 10,
   "metadata": {},
   "outputs": [
    {
     "data": {
      "text/plain": [
       "(14, 5)"
      ]
     },
     "execution_count": 10,
     "metadata": {},
     "output_type": "execute_result"
    }
   ],
   "source": [
    "df.shape"
   ]
  },
  {
   "cell_type": "markdown",
   "metadata": {},
   "source": [
    "e) describe\n",
    "\n",
    "A descibe() metódus leíró statisztikákat jelenít meg a DataFrame numerikus oszlopaihoz, beleértve az átlagot, a mediánt, a szórást, valamint a minimum és maximum értékeket.\n",
    "\n",
    "df.describe()\n",
    "\n",
    "     Ez nagyon hasznos lehet az értékek eloszlásának megértéséhez egy adott adatkészletben vagy oszlopban anélkül, hogy az egyes statisztikákat manuálisan kellene kiszámítani."
   ]
  },
  {
   "cell_type": "code",
   "execution_count": 12,
   "metadata": {},
   "outputs": [
    {
     "data": {
      "text/html": [
       "<div>\n",
       "<style scoped>\n",
       "    .dataframe tbody tr th:only-of-type {\n",
       "        vertical-align: middle;\n",
       "    }\n",
       "\n",
       "    .dataframe tbody tr th {\n",
       "        vertical-align: top;\n",
       "    }\n",
       "\n",
       "    .dataframe thead th {\n",
       "        text-align: right;\n",
       "    }\n",
       "</style>\n",
       "<table border=\"1\" class=\"dataframe\">\n",
       "  <thead>\n",
       "    <tr style=\"text-align: right;\">\n",
       "      <th></th>\n",
       "      <th>Revenue</th>\n",
       "      <th>Employees</th>\n",
       "    </tr>\n",
       "  </thead>\n",
       "  <tbody>\n",
       "    <tr>\n",
       "      <th>count</th>\n",
       "      <td>14.000000</td>\n",
       "      <td>14.000000</td>\n",
       "    </tr>\n",
       "    <tr>\n",
       "      <th>mean</th>\n",
       "      <td>124420.642857</td>\n",
       "      <td>233616.642857</td>\n",
       "    </tr>\n",
       "    <tr>\n",
       "      <th>std</th>\n",
       "      <td>63686.481231</td>\n",
       "      <td>207583.087389</td>\n",
       "    </tr>\n",
       "    <tr>\n",
       "      <th>min</th>\n",
       "      <td>63191.000000</td>\n",
       "      <td>58604.000000</td>\n",
       "    </tr>\n",
       "    <tr>\n",
       "      <th>25%</th>\n",
       "      <td>78986.500000</td>\n",
       "      <td>116775.250000</td>\n",
       "    </tr>\n",
       "    <tr>\n",
       "      <th>50%</th>\n",
       "      <td>89094.500000</td>\n",
       "      <td>160500.000000</td>\n",
       "    </tr>\n",
       "    <tr>\n",
       "      <th>75%</th>\n",
       "      <td>172212.500000</td>\n",
       "      <td>261837.750000</td>\n",
       "    </tr>\n",
       "    <tr>\n",
       "      <th>max</th>\n",
       "      <td>274515.000000</td>\n",
       "      <td>878429.000000</td>\n",
       "    </tr>\n",
       "  </tbody>\n",
       "</table>\n",
       "</div>"
      ],
      "text/plain": [
       "             Revenue      Employees\n",
       "count      14.000000      14.000000\n",
       "mean   124420.642857  233616.642857\n",
       "std     63686.481231  207583.087389\n",
       "min     63191.000000   58604.000000\n",
       "25%     78986.500000  116775.250000\n",
       "50%     89094.500000  160500.000000\n",
       "75%    172212.500000  261837.750000\n",
       "max    274515.000000  878429.000000"
      ]
     },
     "execution_count": 12,
     "metadata": {},
     "output_type": "execute_result"
    }
   ],
   "source": [
    "df.describe()"
   ]
  },
  {
   "cell_type": "markdown",
   "metadata": {},
   "source": [
    "f) nunique\n",
    "\n",
    "A nunique() metódus megszámolja a különböző elemek számát.\n",
    "\n",
    "df.nunique()\n",
    "\n",
    "     Ez nagyon hasznos lehet például az oszlopban található kategóriák számának megértéséhez."
   ]
  },
  {
   "cell_type": "code",
   "execution_count": 13,
   "metadata": {},
   "outputs": [
    {
     "data": {
      "text/plain": [
       "Revenue          14\n",
       "Employees        14\n",
       "Sector            3\n",
       "Founding Date    14\n",
       "Country           5\n",
       "dtype: int64"
      ]
     },
     "execution_count": 13,
     "metadata": {},
     "output_type": "execute_result"
    }
   ],
   "source": [
    "df.nunique()"
   ]
  },
  {
   "cell_type": "markdown",
   "metadata": {},
   "source": [
    "g) isnull\n",
    "\n",
    "Az isnull() metódus hiányzó értékeket észlelt egy DataFrame objektum létrehozásával, amelynek logikai értéke True a NULL értékekhez, egyébként pedig False.\n",
    "\n",
    "df.isnull()\n",
    "\n",
    "Ezt egy lépéssel tovább tehetjük, ha a sum() függvényt alkalmazzuk, hogy összesen NULL értéket kapjunk a DataFrame-ben.\n",
    "\n",
    "df.isnull().sum()"
   ]
  },
  {
   "cell_type": "code",
   "execution_count": 14,
   "metadata": {},
   "outputs": [
    {
     "data": {
      "text/html": [
       "<div>\n",
       "<style scoped>\n",
       "    .dataframe tbody tr th:only-of-type {\n",
       "        vertical-align: middle;\n",
       "    }\n",
       "\n",
       "    .dataframe tbody tr th {\n",
       "        vertical-align: top;\n",
       "    }\n",
       "\n",
       "    .dataframe thead th {\n",
       "        text-align: right;\n",
       "    }\n",
       "</style>\n",
       "<table border=\"1\" class=\"dataframe\">\n",
       "  <thead>\n",
       "    <tr style=\"text-align: right;\">\n",
       "      <th></th>\n",
       "      <th>Revenue</th>\n",
       "      <th>Employees</th>\n",
       "      <th>Sector</th>\n",
       "      <th>Founding Date</th>\n",
       "      <th>Country</th>\n",
       "    </tr>\n",
       "  </thead>\n",
       "  <tbody>\n",
       "    <tr>\n",
       "      <th>Apple</th>\n",
       "      <td>False</td>\n",
       "      <td>False</td>\n",
       "      <td>False</td>\n",
       "      <td>False</td>\n",
       "      <td>False</td>\n",
       "    </tr>\n",
       "    <tr>\n",
       "      <th>Samsung</th>\n",
       "      <td>False</td>\n",
       "      <td>False</td>\n",
       "      <td>False</td>\n",
       "      <td>False</td>\n",
       "      <td>False</td>\n",
       "    </tr>\n",
       "    <tr>\n",
       "      <th>Alphabet</th>\n",
       "      <td>False</td>\n",
       "      <td>False</td>\n",
       "      <td>False</td>\n",
       "      <td>False</td>\n",
       "      <td>False</td>\n",
       "    </tr>\n",
       "    <tr>\n",
       "      <th>Foxconn</th>\n",
       "      <td>False</td>\n",
       "      <td>False</td>\n",
       "      <td>False</td>\n",
       "      <td>False</td>\n",
       "      <td>False</td>\n",
       "    </tr>\n",
       "    <tr>\n",
       "      <th>Microsoft</th>\n",
       "      <td>False</td>\n",
       "      <td>False</td>\n",
       "      <td>False</td>\n",
       "      <td>False</td>\n",
       "      <td>False</td>\n",
       "    </tr>\n",
       "    <tr>\n",
       "      <th>Huawei</th>\n",
       "      <td>False</td>\n",
       "      <td>False</td>\n",
       "      <td>False</td>\n",
       "      <td>False</td>\n",
       "      <td>False</td>\n",
       "    </tr>\n",
       "    <tr>\n",
       "      <th>Dell Technologies</th>\n",
       "      <td>False</td>\n",
       "      <td>False</td>\n",
       "      <td>False</td>\n",
       "      <td>False</td>\n",
       "      <td>False</td>\n",
       "    </tr>\n",
       "    <tr>\n",
       "      <th>Meta</th>\n",
       "      <td>False</td>\n",
       "      <td>False</td>\n",
       "      <td>False</td>\n",
       "      <td>False</td>\n",
       "      <td>False</td>\n",
       "    </tr>\n",
       "    <tr>\n",
       "      <th>Sony</th>\n",
       "      <td>False</td>\n",
       "      <td>False</td>\n",
       "      <td>False</td>\n",
       "      <td>False</td>\n",
       "      <td>False</td>\n",
       "    </tr>\n",
       "    <tr>\n",
       "      <th>Hitachi</th>\n",
       "      <td>False</td>\n",
       "      <td>False</td>\n",
       "      <td>False</td>\n",
       "      <td>False</td>\n",
       "      <td>False</td>\n",
       "    </tr>\n",
       "    <tr>\n",
       "      <th>Intel</th>\n",
       "      <td>False</td>\n",
       "      <td>False</td>\n",
       "      <td>False</td>\n",
       "      <td>False</td>\n",
       "      <td>False</td>\n",
       "    </tr>\n",
       "    <tr>\n",
       "      <th>IBM</th>\n",
       "      <td>False</td>\n",
       "      <td>False</td>\n",
       "      <td>False</td>\n",
       "      <td>False</td>\n",
       "      <td>False</td>\n",
       "    </tr>\n",
       "    <tr>\n",
       "      <th>Tencent</th>\n",
       "      <td>False</td>\n",
       "      <td>False</td>\n",
       "      <td>False</td>\n",
       "      <td>False</td>\n",
       "      <td>False</td>\n",
       "    </tr>\n",
       "    <tr>\n",
       "      <th>Panasonic</th>\n",
       "      <td>False</td>\n",
       "      <td>False</td>\n",
       "      <td>False</td>\n",
       "      <td>False</td>\n",
       "      <td>False</td>\n",
       "    </tr>\n",
       "  </tbody>\n",
       "</table>\n",
       "</div>"
      ],
      "text/plain": [
       "                   Revenue  Employees  Sector  Founding Date  Country\n",
       "Apple                False      False   False          False    False\n",
       "Samsung              False      False   False          False    False\n",
       "Alphabet             False      False   False          False    False\n",
       "Foxconn              False      False   False          False    False\n",
       "Microsoft            False      False   False          False    False\n",
       "Huawei               False      False   False          False    False\n",
       "Dell Technologies    False      False   False          False    False\n",
       "Meta                 False      False   False          False    False\n",
       "Sony                 False      False   False          False    False\n",
       "Hitachi              False      False   False          False    False\n",
       "Intel                False      False   False          False    False\n",
       "IBM                  False      False   False          False    False\n",
       "Tencent              False      False   False          False    False\n",
       "Panasonic            False      False   False          False    False"
      ]
     },
     "execution_count": 14,
     "metadata": {},
     "output_type": "execute_result"
    }
   ],
   "source": [
    "df.isnull()"
   ]
  },
  {
   "cell_type": "code",
   "execution_count": 15,
   "metadata": {},
   "outputs": [
    {
     "data": {
      "text/plain": [
       "Revenue          0\n",
       "Employees        0\n",
       "Sector           0\n",
       "Founding Date    0\n",
       "Country          0\n",
       "dtype: int64"
      ]
     },
     "execution_count": 15,
     "metadata": {},
     "output_type": "execute_result"
    }
   ],
   "source": [
    "df.isnull().sum()"
   ]
  },
  {
   "cell_type": "markdown",
   "metadata": {},
   "source": [
    "Oszlop kiválasztása:\n",
    "\n",
    "Mielőtt elkezdené ezt a részt, fontos, hogy különbséget tudjunk tenni a sorozat és a DataFrame között.\n",
    "\n",
    "     A sorozat egyetlen oszlop a DataFrame-ben\n",
    "     A DataFrame egy teljes adattábla.\n",
    "\n",
    "Nézzük meg, hogyan választhatjuk ki ezeket a tételeket:\n",
    "a) Válasszon ki egy oszlopot\n",
    "\n",
    "A [] operátor használható egy adott oszlop kiválasztására egy DataFrame-en belül. A kimenet egy sorozat.\n",
    "\n",
    "df['oszlop_neve']"
   ]
  },
  {
   "cell_type": "code",
   "execution_count": 16,
   "metadata": {},
   "outputs": [
    {
     "data": {
      "text/plain": [
       "Apple                274515\n",
       "Samsung              200734\n",
       "Alphabet             182527\n",
       "Foxconn              181945\n",
       "Microsoft            143015\n",
       "Huawei               129184\n",
       "Dell Technologies     92224\n",
       "Meta                  85965\n",
       "Sony                  84893\n",
       "Hitachi               82345\n",
       "Intel                 77867\n",
       "IBM                   73620\n",
       "Tencent               69864\n",
       "Panasonic             63191\n",
       "Name: Revenue, dtype: int64"
      ]
     },
     "execution_count": 16,
     "metadata": {},
     "output_type": "execute_result"
    }
   ],
   "source": [
    "df['Revenue']"
   ]
  },
  {
   "cell_type": "markdown",
   "metadata": {},
   "source": [
    "b) Válasszon egy oszlopot, és alkalmazza a módszereket\n",
    "\n",
    "A DataFrame-ek azt is lehetővé teszik a felhasználó számára, hogy metódusokat alkalmazzon az oszlopokon, ezek a függvények a sum(), mean(), min(), max(), median() és így tovább.\n",
    "\n",
    "df['oszlop_neve'].sum()\n"
   ]
  },
  {
   "cell_type": "code",
   "execution_count": 17,
   "metadata": {},
   "outputs": [
    {
     "data": {
      "text/plain": [
       "1741889"
      ]
     },
     "execution_count": 17,
     "metadata": {},
     "output_type": "execute_result"
    }
   ],
   "source": [
    "df['Revenue'].sum()"
   ]
  },
  {
   "cell_type": "markdown",
   "metadata": {},
   "source": [
    "c) Válassza ki a Több oszlopot\n",
    "\n",
    "Több oszlop kijelöléséhez használja a [] operátort az oszlopnevek listájával argumentumként. Ezzel egy másik DataFrame-et hoz létre.\n",
    "\n",
    "df[['oszlop_neve_1', 'oszlop_neve_2','oszlop_neve_3']]\n",
    "\n",
    "Ezt az új DataFrame-et elmenthetjük új változónévvel, hogy később visszatérhessünk hozzá.\n",
    "\n",
    "new_df = df[['oszlop_neve_1', 'oszlop_neve_2','oszlop_neve_3']]"
   ]
  },
  {
   "cell_type": "code",
   "execution_count": 19,
   "metadata": {},
   "outputs": [
    {
     "data": {
      "text/html": [
       "<div>\n",
       "<style scoped>\n",
       "    .dataframe tbody tr th:only-of-type {\n",
       "        vertical-align: middle;\n",
       "    }\n",
       "\n",
       "    .dataframe tbody tr th {\n",
       "        vertical-align: top;\n",
       "    }\n",
       "\n",
       "    .dataframe thead th {\n",
       "        text-align: right;\n",
       "    }\n",
       "</style>\n",
       "<table border=\"1\" class=\"dataframe\">\n",
       "  <thead>\n",
       "    <tr style=\"text-align: right;\">\n",
       "      <th></th>\n",
       "      <th>Revenue</th>\n",
       "      <th>Sector</th>\n",
       "    </tr>\n",
       "  </thead>\n",
       "  <tbody>\n",
       "    <tr>\n",
       "      <th>Apple</th>\n",
       "      <td>274515</td>\n",
       "      <td>Consumer Electronics</td>\n",
       "    </tr>\n",
       "    <tr>\n",
       "      <th>Samsung</th>\n",
       "      <td>200734</td>\n",
       "      <td>Consumer Electronics</td>\n",
       "    </tr>\n",
       "    <tr>\n",
       "      <th>Alphabet</th>\n",
       "      <td>182527</td>\n",
       "      <td>Software Services</td>\n",
       "    </tr>\n",
       "    <tr>\n",
       "      <th>Foxconn</th>\n",
       "      <td>181945</td>\n",
       "      <td>Chip Manufacturing</td>\n",
       "    </tr>\n",
       "    <tr>\n",
       "      <th>Microsoft</th>\n",
       "      <td>143015</td>\n",
       "      <td>Software Services</td>\n",
       "    </tr>\n",
       "    <tr>\n",
       "      <th>Huawei</th>\n",
       "      <td>129184</td>\n",
       "      <td>Consumer Electronics</td>\n",
       "    </tr>\n",
       "    <tr>\n",
       "      <th>Dell Technologies</th>\n",
       "      <td>92224</td>\n",
       "      <td>Consumer Electronics</td>\n",
       "    </tr>\n",
       "    <tr>\n",
       "      <th>Meta</th>\n",
       "      <td>85965</td>\n",
       "      <td>Software Services</td>\n",
       "    </tr>\n",
       "    <tr>\n",
       "      <th>Sony</th>\n",
       "      <td>84893</td>\n",
       "      <td>Consumer Electronics</td>\n",
       "    </tr>\n",
       "    <tr>\n",
       "      <th>Hitachi</th>\n",
       "      <td>82345</td>\n",
       "      <td>Consumer Electronics</td>\n",
       "    </tr>\n",
       "    <tr>\n",
       "      <th>Intel</th>\n",
       "      <td>77867</td>\n",
       "      <td>Chip Manufacturing</td>\n",
       "    </tr>\n",
       "    <tr>\n",
       "      <th>IBM</th>\n",
       "      <td>73620</td>\n",
       "      <td>Software Services</td>\n",
       "    </tr>\n",
       "    <tr>\n",
       "      <th>Tencent</th>\n",
       "      <td>69864</td>\n",
       "      <td>Software Services</td>\n",
       "    </tr>\n",
       "    <tr>\n",
       "      <th>Panasonic</th>\n",
       "      <td>63191</td>\n",
       "      <td>Consumer Electronics</td>\n",
       "    </tr>\n",
       "  </tbody>\n",
       "</table>\n",
       "</div>"
      ],
      "text/plain": [
       "                   Revenue                Sector\n",
       "Apple               274515  Consumer Electronics\n",
       "Samsung             200734  Consumer Electronics\n",
       "Alphabet            182527     Software Services\n",
       "Foxconn             181945    Chip Manufacturing\n",
       "Microsoft           143015     Software Services\n",
       "Huawei              129184  Consumer Electronics\n",
       "Dell Technologies    92224  Consumer Electronics\n",
       "Meta                 85965     Software Services\n",
       "Sony                 84893  Consumer Electronics\n",
       "Hitachi              82345  Consumer Electronics\n",
       "Intel                77867    Chip Manufacturing\n",
       "IBM                  73620     Software Services\n",
       "Tencent              69864     Software Services\n",
       "Panasonic            63191  Consumer Electronics"
      ]
     },
     "execution_count": 19,
     "metadata": {},
     "output_type": "execute_result"
    }
   ],
   "source": [
    "df[['Revenue', 'Sector']]"
   ]
  },
  {
   "cell_type": "markdown",
   "metadata": {},
   "source": [
    "d) Select Multiple Columns and Apply Methods\n",
    "\n",
    "We can take a shortcut and apply methods on more than one column at the same time.\n",
    "\n",
    "df[['column_name_1', 'column_name_2','column_name_3']].mean()\n"
   ]
  },
  {
   "cell_type": "code",
   "execution_count": 21,
   "metadata": {},
   "outputs": [
    {
     "data": {
      "text/plain": [
       "Revenue      124420.642857\n",
       "Employees    233616.642857\n",
       "dtype: float64"
      ]
     },
     "execution_count": 21,
     "metadata": {},
     "output_type": "execute_result"
    }
   ],
   "source": [
    "df[['Revenue', 'Employees']].mean()"
   ]
  },
  {
   "cell_type": "markdown",
   "metadata": {},
   "source": [
    "Kiválasztás Index alapján - loc\n",
    "\n",
    "Index kijelölés A .loc egy Python DataFrames metódus, amely lehetővé teszi a felhasználók számára, hogy a DataFrame sorait és oszlopait címkéik vagy egész pozícióik alapján jelöljék ki.\n",
    "\n",
    "     Leggyakrabban akkor használatos, amikor a felhasználónak hozzá kell férnie egy DataFrame bizonyos elemeihez, például ki kell jelölnie az összes sort egy adott címkével vagy értékekkel egy adott oszlopban.\n",
    "\n",
    "df.loc[sor_címke, oszlopcímke]\n",
    "\n",
    "Az összes adat meghívásához használhatjuk a : row_label vagy column_label helyett.\n",
    "\n",
    "df.loc[:, oszlopcímke]\n",
    "\n",
    "df.loc[sor_címke,:]\n",
    "\n",
    "Több oszlopot is átadhatunk az oszlopcímke helyett, vagy több sort a sorcímke helyett.\n",
    "\n",
    "df.loc[['sor_neve_1', 'sor_neve_2','sor_neve_3'], oszlopcímke]\n",
    "\n",
    "df.loc[sor_címke,['oszlop_neve_1', 'oszlop_neve_2','oszlop_neve_3']]"
   ]
  },
  {
   "cell_type": "code",
   "execution_count": 22,
   "metadata": {},
   "outputs": [
    {
     "data": {
      "text/plain": [
       "200734"
      ]
     },
     "execution_count": 22,
     "metadata": {},
     "output_type": "execute_result"
    }
   ],
   "source": [
    "df.loc['Samsung', 'Revenue']"
   ]
  },
  {
   "cell_type": "code",
   "execution_count": 23,
   "metadata": {},
   "outputs": [
    {
     "data": {
      "text/plain": [
       "Apple                274515\n",
       "Samsung              200734\n",
       "Alphabet             182527\n",
       "Foxconn              181945\n",
       "Microsoft            143015\n",
       "Huawei               129184\n",
       "Dell Technologies     92224\n",
       "Meta                  85965\n",
       "Sony                  84893\n",
       "Hitachi               82345\n",
       "Intel                 77867\n",
       "IBM                   73620\n",
       "Tencent               69864\n",
       "Panasonic             63191\n",
       "Name: Revenue, dtype: int64"
      ]
     },
     "execution_count": 23,
     "metadata": {},
     "output_type": "execute_result"
    }
   ],
   "source": [
    "df.loc[:, 'Revenue']"
   ]
  },
  {
   "cell_type": "code",
   "execution_count": 24,
   "metadata": {},
   "outputs": [
    {
     "data": {
      "text/plain": [
       "Revenue                        200734\n",
       "Employees                      267937\n",
       "Sector           Consumer Electronics\n",
       "Founding Date              13-01-1969\n",
       "Country                   South Korea\n",
       "Name: Samsung, dtype: object"
      ]
     },
     "execution_count": 24,
     "metadata": {},
     "output_type": "execute_result"
    }
   ],
   "source": [
    "df.loc['Samsung', :]"
   ]
  },
  {
   "cell_type": "code",
   "execution_count": 25,
   "metadata": {},
   "outputs": [
    {
     "data": {
      "text/plain": [
       "Samsung    200734\n",
       "Sony        84893\n",
       "Name: Revenue, dtype: int64"
      ]
     },
     "execution_count": 25,
     "metadata": {},
     "output_type": "execute_result"
    }
   ],
   "source": [
    "df.loc[['Samsung', 'Sony'],'Revenue']"
   ]
  },
  {
   "cell_type": "code",
   "execution_count": 26,
   "metadata": {},
   "outputs": [
    {
     "data": {
      "text/plain": [
       "Employees    147000\n",
       "Country         USA\n",
       "Name: Apple, dtype: object"
      ]
     },
     "execution_count": 26,
     "metadata": {},
     "output_type": "execute_result"
    }
   ],
   "source": [
    "df.loc['Apple', ['Employees', 'Country']]"
   ]
  },
  {
   "cell_type": "markdown",
   "metadata": {},
   "source": [
    "A szeletelés a pandák hatékony funkciója, amely lehetővé teszi számunkra, hogy elérjük a DataFrame bizonyos részeit.\n",
    "\n",
    "     start:stop:step\n",
    "\n",
    "Ha nem adjuk meg a lépést, az alapértelmezett érték 1.\n",
    "a) Oszlopokkal\n",
    "\n",
    "df.loc[`sor_címke`, `oszlop_neve_start`:`oszlop_neve_stop`]\n",
    "\n",
    "b) Sorokkal\n",
    "\n",
    "df.loc[`sor_neve_start`:`sor_neve_stop` , `oszlop_címke`]\n",
    "\n",
    "c) Lépésekkel\n",
    "\n",
    "df.loc[`sor_címke`, `oszlop_neve_start`:`oszlop_neve_stop`:n]\n",
    "\n",
    "df.loc[`sor_neve_start`:`sor_neve_stop`:n , `oszlop_címke`]\n",
    "\n",
    "d) és lépéssel:\n",
    "\n",
    "df.loc[:`, `oszlop_neve_start`:`oszlop_neve_stop`:n]\n",
    "\n",
    "df.loc[`sor_neve_start`:`sor_neve_stop`:n , :]"
   ]
  },
  {
   "cell_type": "code",
   "execution_count": 31,
   "metadata": {},
   "outputs": [
    {
     "data": {
      "text/html": [
       "<div>\n",
       "<style scoped>\n",
       "    .dataframe tbody tr th:only-of-type {\n",
       "        vertical-align: middle;\n",
       "    }\n",
       "\n",
       "    .dataframe tbody tr th {\n",
       "        vertical-align: top;\n",
       "    }\n",
       "\n",
       "    .dataframe thead th {\n",
       "        text-align: right;\n",
       "    }\n",
       "</style>\n",
       "<table border=\"1\" class=\"dataframe\">\n",
       "  <thead>\n",
       "    <tr style=\"text-align: right;\">\n",
       "      <th></th>\n",
       "      <th>Employees</th>\n",
       "      <th>Sector</th>\n",
       "      <th>Country</th>\n",
       "    </tr>\n",
       "  </thead>\n",
       "  <tbody>\n",
       "    <tr>\n",
       "      <th>Apple</th>\n",
       "      <td>147000</td>\n",
       "      <td>Consumer Electronics</td>\n",
       "      <td>USA</td>\n",
       "    </tr>\n",
       "    <tr>\n",
       "      <th>Samsung</th>\n",
       "      <td>267937</td>\n",
       "      <td>Consumer Electronics</td>\n",
       "      <td>South Korea</td>\n",
       "    </tr>\n",
       "    <tr>\n",
       "      <th>Sony</th>\n",
       "      <td>109700</td>\n",
       "      <td>Consumer Electronics</td>\n",
       "      <td>Japan</td>\n",
       "    </tr>\n",
       "  </tbody>\n",
       "</table>\n",
       "</div>"
      ],
      "text/plain": [
       "         Employees                Sector      Country\n",
       "Apple       147000  Consumer Electronics          USA\n",
       "Samsung     267937  Consumer Electronics  South Korea\n",
       "Sony        109700  Consumer Electronics        Japan"
      ]
     },
     "execution_count": 31,
     "metadata": {},
     "output_type": "execute_result"
    }
   ],
   "source": [
    "rows = ['Apple','Samsung','Sony']\n",
    "columns = ['Employees','Sector','Country']\n",
    "df.loc[rows,columns]"
   ]
  },
  {
   "cell_type": "code",
   "execution_count": 29,
   "metadata": {},
   "outputs": [
    {
     "data": {
      "text/plain": [
       "Employees                      147000\n",
       "Sector           Consumer Electronics\n",
       "Founding Date              01-04-1976\n",
       "Name: Apple, dtype: object"
      ]
     },
     "execution_count": 29,
     "metadata": {},
     "output_type": "execute_result"
    }
   ],
   "source": [
    "df.loc['Apple', 'Employees':'Founding Date']"
   ]
  },
  {
   "cell_type": "code",
   "execution_count": 30,
   "metadata": {},
   "outputs": [
    {
     "data": {
      "text/plain": [
       "Apple                147000\n",
       "Samsung              267937\n",
       "Alphabet             135301\n",
       "Foxconn              878429\n",
       "Microsoft            163000\n",
       "Huawei               197000\n",
       "Dell Technologies    158000\n",
       "Meta                  58604\n",
       "Sony                 109700\n",
       "Name: Employees, dtype: int64"
      ]
     },
     "execution_count": 30,
     "metadata": {},
     "output_type": "execute_result"
    }
   ],
   "source": [
    "df.loc['Apple':'Sony', 'Employees']"
   ]
  },
  {
   "cell_type": "code",
   "execution_count": 32,
   "metadata": {},
   "outputs": [
    {
     "data": {
      "text/html": [
       "<div>\n",
       "<style scoped>\n",
       "    .dataframe tbody tr th:only-of-type {\n",
       "        vertical-align: middle;\n",
       "    }\n",
       "\n",
       "    .dataframe tbody tr th {\n",
       "        vertical-align: top;\n",
       "    }\n",
       "\n",
       "    .dataframe thead th {\n",
       "        text-align: right;\n",
       "    }\n",
       "</style>\n",
       "<table border=\"1\" class=\"dataframe\">\n",
       "  <thead>\n",
       "    <tr style=\"text-align: right;\">\n",
       "      <th></th>\n",
       "      <th>Employees</th>\n",
       "      <th>Sector</th>\n",
       "      <th>Country</th>\n",
       "    </tr>\n",
       "  </thead>\n",
       "  <tbody>\n",
       "    <tr>\n",
       "      <th>Apple</th>\n",
       "      <td>147000</td>\n",
       "      <td>Consumer Electronics</td>\n",
       "      <td>USA</td>\n",
       "    </tr>\n",
       "    <tr>\n",
       "      <th>Alphabet</th>\n",
       "      <td>135301</td>\n",
       "      <td>Software Services</td>\n",
       "      <td>USA</td>\n",
       "    </tr>\n",
       "    <tr>\n",
       "      <th>Microsoft</th>\n",
       "      <td>163000</td>\n",
       "      <td>Software Services</td>\n",
       "      <td>USA</td>\n",
       "    </tr>\n",
       "    <tr>\n",
       "      <th>Dell Technologies</th>\n",
       "      <td>158000</td>\n",
       "      <td>Consumer Electronics</td>\n",
       "      <td>USA</td>\n",
       "    </tr>\n",
       "    <tr>\n",
       "      <th>Sony</th>\n",
       "      <td>109700</td>\n",
       "      <td>Consumer Electronics</td>\n",
       "      <td>Japan</td>\n",
       "    </tr>\n",
       "  </tbody>\n",
       "</table>\n",
       "</div>"
      ],
      "text/plain": [
       "                   Employees                Sector Country\n",
       "Apple                 147000  Consumer Electronics     USA\n",
       "Alphabet              135301     Software Services     USA\n",
       "Microsoft             163000     Software Services     USA\n",
       "Dell Technologies     158000  Consumer Electronics     USA\n",
       "Sony                  109700  Consumer Electronics   Japan"
      ]
     },
     "execution_count": 32,
     "metadata": {},
     "output_type": "execute_result"
    }
   ],
   "source": [
    "df.loc['Apple':'Sony':2, columns]"
   ]
  },
  {
   "cell_type": "code",
   "execution_count": null,
   "metadata": {},
   "outputs": [],
   "source": [
    "df.loc['Apple':'Sony':2, :]"
   ]
  },
  {
   "cell_type": "markdown",
   "metadata": {},
   "source": [
    "Válassza ki az Apple, az Alphabet és a Microsoft cégek bevételét, alkalmazottait és ágazatát\n",
    "\n",
    "Most hasznosítsuk .loc kiválasztási készségeit. Az Ön feladata, hogy válassza ki a Bevétel, Alkalmazottak és Szektor oszlopokat az Apple, Alphabet és a Microsoft cégek számára. Az eredményt egy index_selection változóban kell tárolni, és egy DataFrame-nek kell lennie, így kell kinéznie:"
   ]
  },
  {
   "cell_type": "code",
   "execution_count": 35,
   "metadata": {},
   "outputs": [
    {
     "data": {
      "text/html": [
       "<div>\n",
       "<style scoped>\n",
       "    .dataframe tbody tr th:only-of-type {\n",
       "        vertical-align: middle;\n",
       "    }\n",
       "\n",
       "    .dataframe tbody tr th {\n",
       "        vertical-align: top;\n",
       "    }\n",
       "\n",
       "    .dataframe thead th {\n",
       "        text-align: right;\n",
       "    }\n",
       "</style>\n",
       "<table border=\"1\" class=\"dataframe\">\n",
       "  <thead>\n",
       "    <tr style=\"text-align: right;\">\n",
       "      <th></th>\n",
       "      <th>Revenue</th>\n",
       "      <th>Employees</th>\n",
       "      <th>Sector</th>\n",
       "    </tr>\n",
       "  </thead>\n",
       "  <tbody>\n",
       "    <tr>\n",
       "      <th>Apple</th>\n",
       "      <td>274515</td>\n",
       "      <td>147000</td>\n",
       "      <td>Consumer Electronics</td>\n",
       "    </tr>\n",
       "    <tr>\n",
       "      <th>Alphabet</th>\n",
       "      <td>182527</td>\n",
       "      <td>135301</td>\n",
       "      <td>Software Services</td>\n",
       "    </tr>\n",
       "    <tr>\n",
       "      <th>Microsoft</th>\n",
       "      <td>143015</td>\n",
       "      <td>163000</td>\n",
       "      <td>Software Services</td>\n",
       "    </tr>\n",
       "  </tbody>\n",
       "</table>\n",
       "</div>"
      ],
      "text/plain": [
       "           Revenue  Employees                Sector\n",
       "Apple       274515     147000  Consumer Electronics\n",
       "Alphabet    182527     135301     Software Services\n",
       "Microsoft   143015     163000     Software Services"
      ]
     },
     "execution_count": 35,
     "metadata": {},
     "output_type": "execute_result"
    }
   ],
   "source": [
    "df.loc[['Apple','Alphabet','Microsoft'],'Revenue':'Sector']"
   ]
  },
  {
   "cell_type": "markdown",
   "metadata": {},
   "source": [
    "Kiválasztás pozíció szerint - iloc\n",
    "\n",
    "Pozíció szerinti kijelölés Az .iloc egy hasznos Python DataFrames módszer, amely lehetővé teszi a felhasználók számára, hogy a DataFrame sorait és oszlopait egész számok pozíciójuk alapján jelöljék ki.\n",
    "\n",
    "     Ez különösen akkor hasznos, ha a felhasználóknak olyan elemekhez kell hozzáférniük a DataFrame-en belül, amelyek nem rendelkeznek címkékkel vagy konkrét oszlopnevekkel.\n",
    "\n",
    "df.iloc[sorpozíció, oszloppozíció]\n",
    "\n",
    "Az összes adat meghívásához használhatjuk a : row_position vagy column_position helyett.\n",
    "\n",
    "df.iloc[:, oszlop_pozíciója]\n",
    "\n",
    "df.iloc[sor_pozíció,:]\n",
    "\n",
    "Több oszlopot is átadhatunk az oszlop_pozíciója helyett, vagy több sort a sor_pozíció helyett.\n",
    "\n",
    "df.iloc[['sor_pozíció_1', 'sor_pozíció_2','sor_pozíció_3'], oszloppozíció]\n",
    "\n",
    "df.iloc[sor_pozíció,['oszlop_pozíció_1', 'oszlop_pozíció_2','oszlop_pozíció_3']]\n",
    "\n",
    "A szeletelés a pandák hatékony funkciója, amely lehetővé teszi számunkra, hogy elérjük a DataFrame bizonyos részeit.\n",
    "\n",
    "     start:stop:step\n",
    "\n",
    "a) Oszlopokkal\n",
    "\n",
    "df.iloc[`sor_pozíció`, `oszlop_pozíció_kezdete`:`oszloppozíció_leállás`]\n",
    "\n",
    "b) Sorokkal\n",
    "\n",
    "df.iloc[`sor_pozíció_kezdete`:`sor_pozíció_stop` , `oszlop_pozíciója`]\n",
    "\n",
    "c) Lépésekkel\n",
    "\n",
    "df.iloc[`sor_pozíció`, `oszlop_pozíció_kezdete`:`oszlop_pozíció_stop`:n]\n",
    "\n",
    "df.iloc[`row_position_start`:`row_position_stop`:n , `oszlop_pozíciója`]\n",
    "\n",
    "d) és lépéssel:\n",
    "\n",
    "df.iloc[:`, `column_position_start`:`column_position_stop`:n]\n",
    "\n",
    "df.iloc[`row_position_start`:`row_position_stop`:n , :]"
   ]
  },
  {
   "cell_type": "code",
   "execution_count": 36,
   "metadata": {},
   "outputs": [
    {
     "data": {
      "text/plain": [
       "200734"
      ]
     },
     "execution_count": 36,
     "metadata": {},
     "output_type": "execute_result"
    }
   ],
   "source": [
    "#Samsung bevétele\n",
    "df.iloc[1, 0]"
   ]
  },
  {
   "cell_type": "code",
   "execution_count": 37,
   "metadata": {},
   "outputs": [
    {
     "data": {
      "text/plain": [
       "Revenue                        200734\n",
       "Employees                      267937\n",
       "Sector           Consumer Electronics\n",
       "Founding Date              13-01-1969\n",
       "Country                   South Korea\n",
       "Name: Samsung, dtype: object"
      ]
     },
     "execution_count": 37,
     "metadata": {},
     "output_type": "execute_result"
    }
   ],
   "source": [
    "# row_position\n",
    "df.iloc[1,:]"
   ]
  },
  {
   "cell_type": "code",
   "execution_count": 38,
   "metadata": {},
   "outputs": [
    {
     "data": {
      "text/plain": [
       "Apple                274515\n",
       "Samsung              200734\n",
       "Alphabet             182527\n",
       "Foxconn              181945\n",
       "Microsoft            143015\n",
       "Huawei               129184\n",
       "Dell Technologies     92224\n",
       "Meta                  85965\n",
       "Sony                  84893\n",
       "Hitachi               82345\n",
       "Intel                 77867\n",
       "IBM                   73620\n",
       "Tencent               69864\n",
       "Panasonic             63191\n",
       "Name: Revenue, dtype: int64"
      ]
     },
     "execution_count": 38,
     "metadata": {},
     "output_type": "execute_result"
    }
   ],
   "source": [
    "# column_position\n",
    "df.iloc[:,0]"
   ]
  },
  {
   "cell_type": "code",
   "execution_count": 39,
   "metadata": {},
   "outputs": [
    {
     "data": {
      "text/plain": [
       "Apple      274515\n",
       "Samsung    200734\n",
       "Sony        84893\n",
       "Name: Revenue, dtype: int64"
      ]
     },
     "execution_count": 39,
     "metadata": {},
     "output_type": "execute_result"
    }
   ],
   "source": [
    "# Multiple columns\n",
    "df.iloc[[0,1,8], 0]"
   ]
  },
  {
   "cell_type": "code",
   "execution_count": 40,
   "metadata": {},
   "outputs": [
    {
     "data": {
      "text/plain": [
       "Employees    147000\n",
       "Country         USA\n",
       "Name: Apple, dtype: object"
      ]
     },
     "execution_count": 40,
     "metadata": {},
     "output_type": "execute_result"
    }
   ],
   "source": [
    "# Multiple rows\n",
    "df.iloc[0, [1,4]]"
   ]
  },
  {
   "cell_type": "code",
   "execution_count": 41,
   "metadata": {},
   "outputs": [],
   "source": [
    "rows_i = [0,1,8]\n",
    "columns_i = [1,2,4]"
   ]
  },
  {
   "cell_type": "code",
   "execution_count": 42,
   "metadata": {},
   "outputs": [
    {
     "data": {
      "text/html": [
       "<div>\n",
       "<style scoped>\n",
       "    .dataframe tbody tr th:only-of-type {\n",
       "        vertical-align: middle;\n",
       "    }\n",
       "\n",
       "    .dataframe tbody tr th {\n",
       "        vertical-align: top;\n",
       "    }\n",
       "\n",
       "    .dataframe thead th {\n",
       "        text-align: right;\n",
       "    }\n",
       "</style>\n",
       "<table border=\"1\" class=\"dataframe\">\n",
       "  <thead>\n",
       "    <tr style=\"text-align: right;\">\n",
       "      <th></th>\n",
       "      <th>Employees</th>\n",
       "      <th>Sector</th>\n",
       "      <th>Country</th>\n",
       "    </tr>\n",
       "  </thead>\n",
       "  <tbody>\n",
       "    <tr>\n",
       "      <th>Apple</th>\n",
       "      <td>147000</td>\n",
       "      <td>Consumer Electronics</td>\n",
       "      <td>USA</td>\n",
       "    </tr>\n",
       "    <tr>\n",
       "      <th>Samsung</th>\n",
       "      <td>267937</td>\n",
       "      <td>Consumer Electronics</td>\n",
       "      <td>South Korea</td>\n",
       "    </tr>\n",
       "    <tr>\n",
       "      <th>Sony</th>\n",
       "      <td>109700</td>\n",
       "      <td>Consumer Electronics</td>\n",
       "      <td>Japan</td>\n",
       "    </tr>\n",
       "  </tbody>\n",
       "</table>\n",
       "</div>"
      ],
      "text/plain": [
       "         Employees                Sector      Country\n",
       "Apple       147000  Consumer Electronics          USA\n",
       "Samsung     267937  Consumer Electronics  South Korea\n",
       "Sony        109700  Consumer Electronics        Japan"
      ]
     },
     "execution_count": 42,
     "metadata": {},
     "output_type": "execute_result"
    }
   ],
   "source": [
    "df.iloc[rows_i,columns_i]"
   ]
  },
  {
   "cell_type": "code",
   "execution_count": 43,
   "metadata": {},
   "outputs": [
    {
     "data": {
      "text/plain": [
       "Employees                      147000\n",
       "Sector           Consumer Electronics\n",
       "Founding Date              01-04-1976\n",
       "Name: Apple, dtype: object"
      ]
     },
     "execution_count": 43,
     "metadata": {},
     "output_type": "execute_result"
    }
   ],
   "source": [
    "#Szeletelés oszloppal\n",
    "df.iloc[0, 1:4]"
   ]
  },
  {
   "cell_type": "code",
   "execution_count": 44,
   "metadata": {},
   "outputs": [
    {
     "data": {
      "text/plain": [
       "Apple                147000\n",
       "Samsung              267937\n",
       "Alphabet             135301\n",
       "Foxconn              878429\n",
       "Microsoft            163000\n",
       "Huawei               197000\n",
       "Dell Technologies    158000\n",
       "Meta                  58604\n",
       "Name: Employees, dtype: int64"
      ]
     },
     "execution_count": 44,
     "metadata": {},
     "output_type": "execute_result"
    }
   ],
   "source": [
    "#Szeletelés sorral\n",
    "df.iloc[0:8, 1]"
   ]
  },
  {
   "cell_type": "code",
   "execution_count": 45,
   "metadata": {},
   "outputs": [
    {
     "data": {
      "text/html": [
       "<div>\n",
       "<style scoped>\n",
       "    .dataframe tbody tr th:only-of-type {\n",
       "        vertical-align: middle;\n",
       "    }\n",
       "\n",
       "    .dataframe tbody tr th {\n",
       "        vertical-align: top;\n",
       "    }\n",
       "\n",
       "    .dataframe thead th {\n",
       "        text-align: right;\n",
       "    }\n",
       "</style>\n",
       "<table border=\"1\" class=\"dataframe\">\n",
       "  <thead>\n",
       "    <tr style=\"text-align: right;\">\n",
       "      <th></th>\n",
       "      <th>Employees</th>\n",
       "      <th>Sector</th>\n",
       "      <th>Country</th>\n",
       "    </tr>\n",
       "  </thead>\n",
       "  <tbody>\n",
       "    <tr>\n",
       "      <th>Apple</th>\n",
       "      <td>147000</td>\n",
       "      <td>Consumer Electronics</td>\n",
       "      <td>USA</td>\n",
       "    </tr>\n",
       "    <tr>\n",
       "      <th>Alphabet</th>\n",
       "      <td>135301</td>\n",
       "      <td>Software Services</td>\n",
       "      <td>USA</td>\n",
       "    </tr>\n",
       "    <tr>\n",
       "      <th>Microsoft</th>\n",
       "      <td>163000</td>\n",
       "      <td>Software Services</td>\n",
       "      <td>USA</td>\n",
       "    </tr>\n",
       "    <tr>\n",
       "      <th>Dell Technologies</th>\n",
       "      <td>158000</td>\n",
       "      <td>Consumer Electronics</td>\n",
       "      <td>USA</td>\n",
       "    </tr>\n",
       "    <tr>\n",
       "      <th>Sony</th>\n",
       "      <td>109700</td>\n",
       "      <td>Consumer Electronics</td>\n",
       "      <td>Japan</td>\n",
       "    </tr>\n",
       "  </tbody>\n",
       "</table>\n",
       "</div>"
      ],
      "text/plain": [
       "                   Employees                Sector Country\n",
       "Apple                 147000  Consumer Electronics     USA\n",
       "Alphabet              135301     Software Services     USA\n",
       "Microsoft             163000     Software Services     USA\n",
       "Dell Technologies     158000  Consumer Electronics     USA\n",
       "Sony                  109700  Consumer Electronics   Japan"
      ]
     },
     "execution_count": 45,
     "metadata": {},
     "output_type": "execute_result"
    }
   ],
   "source": [
    "#Szeletelés lépéssel (minden második sor van kiválasztva)\n",
    "df.iloc[0:9:2, columns_i]"
   ]
  },
  {
   "cell_type": "markdown",
   "metadata": {},
   "source": [
    "Végezzen kijelölést az .iloc és a pozíciókiválasztás segítségével\n",
    "\n",
    "Most itt az ideje, hogy gyakorlatba ültesse iloc készségeit. Az Ön feladata a 2., 4. és 6. pozícióban lévő cégek kiválasztása. És az oszlopok az 1., 2. és az utolsó pozícióban. Tárolja az eredményt a position_selection változóban.\n"
   ]
  },
  {
   "cell_type": "code",
   "execution_count": 53,
   "metadata": {},
   "outputs": [
    {
     "data": {
      "text/html": [
       "<div>\n",
       "<style scoped>\n",
       "    .dataframe tbody tr th:only-of-type {\n",
       "        vertical-align: middle;\n",
       "    }\n",
       "\n",
       "    .dataframe tbody tr th {\n",
       "        vertical-align: top;\n",
       "    }\n",
       "\n",
       "    .dataframe thead th {\n",
       "        text-align: right;\n",
       "    }\n",
       "</style>\n",
       "<table border=\"1\" class=\"dataframe\">\n",
       "  <thead>\n",
       "    <tr style=\"text-align: right;\">\n",
       "      <th></th>\n",
       "      <th>Revenue</th>\n",
       "      <th>Employees</th>\n",
       "      <th>Sector</th>\n",
       "      <th>Founding Date</th>\n",
       "      <th>Country</th>\n",
       "    </tr>\n",
       "  </thead>\n",
       "  <tbody>\n",
       "    <tr>\n",
       "      <th>Apple</th>\n",
       "      <td>274515</td>\n",
       "      <td>147000</td>\n",
       "      <td>Consumer Electronics</td>\n",
       "      <td>01-04-1976</td>\n",
       "      <td>USA</td>\n",
       "    </tr>\n",
       "    <tr>\n",
       "      <th>Samsung</th>\n",
       "      <td>200734</td>\n",
       "      <td>267937</td>\n",
       "      <td>Consumer Electronics</td>\n",
       "      <td>13-01-1969</td>\n",
       "      <td>South Korea</td>\n",
       "    </tr>\n",
       "    <tr>\n",
       "      <th>Alphabet</th>\n",
       "      <td>182527</td>\n",
       "      <td>135301</td>\n",
       "      <td>Software Services</td>\n",
       "      <td>04-09-1998</td>\n",
       "      <td>USA</td>\n",
       "    </tr>\n",
       "    <tr>\n",
       "      <th>Foxconn</th>\n",
       "      <td>181945</td>\n",
       "      <td>878429</td>\n",
       "      <td>Chip Manufacturing</td>\n",
       "      <td>20-02-1974</td>\n",
       "      <td>Taiwan</td>\n",
       "    </tr>\n",
       "    <tr>\n",
       "      <th>Microsoft</th>\n",
       "      <td>143015</td>\n",
       "      <td>163000</td>\n",
       "      <td>Software Services</td>\n",
       "      <td>04-04-1975</td>\n",
       "      <td>USA</td>\n",
       "    </tr>\n",
       "    <tr>\n",
       "      <th>Huawei</th>\n",
       "      <td>129184</td>\n",
       "      <td>197000</td>\n",
       "      <td>Consumer Electronics</td>\n",
       "      <td>15-09-1987</td>\n",
       "      <td>China</td>\n",
       "    </tr>\n",
       "  </tbody>\n",
       "</table>\n",
       "</div>"
      ],
      "text/plain": [
       "           Revenue  Employees                Sector Founding Date      Country\n",
       "Apple       274515     147000  Consumer Electronics    01-04-1976          USA\n",
       "Samsung     200734     267937  Consumer Electronics    13-01-1969  South Korea\n",
       "Alphabet    182527     135301     Software Services    04-09-1998          USA\n",
       "Foxconn     181945     878429    Chip Manufacturing    20-02-1974       Taiwan\n",
       "Microsoft   143015     163000     Software Services    04-04-1975          USA\n",
       "Huawei      129184     197000  Consumer Electronics    15-09-1987        China"
      ]
     },
     "execution_count": 53,
     "metadata": {},
     "output_type": "execute_result"
    }
   ],
   "source": [
    "df.head(6)"
   ]
  },
  {
   "cell_type": "code",
   "execution_count": 63,
   "metadata": {},
   "outputs": [
    {
     "data": {
      "text/html": [
       "<div>\n",
       "<style scoped>\n",
       "    .dataframe tbody tr th:only-of-type {\n",
       "        vertical-align: middle;\n",
       "    }\n",
       "\n",
       "    .dataframe tbody tr th {\n",
       "        vertical-align: top;\n",
       "    }\n",
       "\n",
       "    .dataframe thead th {\n",
       "        text-align: right;\n",
       "    }\n",
       "</style>\n",
       "<table border=\"1\" class=\"dataframe\">\n",
       "  <thead>\n",
       "    <tr style=\"text-align: right;\">\n",
       "      <th></th>\n",
       "      <th>Revenue</th>\n",
       "      <th>Employees</th>\n",
       "      <th>Country</th>\n",
       "    </tr>\n",
       "  </thead>\n",
       "  <tbody>\n",
       "    <tr>\n",
       "      <th>Samsung</th>\n",
       "      <td>200734</td>\n",
       "      <td>267937</td>\n",
       "      <td>South Korea</td>\n",
       "    </tr>\n",
       "    <tr>\n",
       "      <th>Foxconn</th>\n",
       "      <td>181945</td>\n",
       "      <td>878429</td>\n",
       "      <td>Taiwan</td>\n",
       "    </tr>\n",
       "    <tr>\n",
       "      <th>Huawei</th>\n",
       "      <td>129184</td>\n",
       "      <td>197000</td>\n",
       "      <td>China</td>\n",
       "    </tr>\n",
       "  </tbody>\n",
       "</table>\n",
       "</div>"
      ],
      "text/plain": [
       "         Revenue  Employees      Country\n",
       "Samsung   200734     267937  South Korea\n",
       "Foxconn   181945     878429       Taiwan\n",
       "Huawei    129184     197000        China"
      ]
     },
     "execution_count": 63,
     "metadata": {},
     "output_type": "execute_result"
    }
   ],
   "source": [
    "rows = [1,3,5]\n",
    "cols = [0,1,-1]\n",
    "df.iloc[rows, cols]"
   ]
  },
  {
   "cell_type": "markdown",
   "metadata": {},
   "source": [
    "A DataFrame és a megváltoztathatatlanság\n",
    "Mi az a megváltoztathatatlanság?\n",
    "\n",
    "A megváltoztathatatlanság a Python DataFrames kulcsfogalma, ami azt jelenti, hogy a DataFrame létrehozása után nem lehet megváltoztatni.\n",
    "\n",
    "Ez azt jelenti, hogy a DataFrame-en belül végrehajtott bármilyen változtatás egy új DataFrame létrehozását eredményezi, nem pedig az eredeti módosítását. Erre korábban láttunk példát, amikor létrehoztuk a DataFramedf_new-t a df-ből származó eredményeink alapján.\n",
    "\n",
    "Következtetés\n",
    "\n",
    "A Python DataFrame fogalmainak és módszereinek megértésével magabiztosan használhatja a Pythont adatkészletek felfedezésére és elemzésére.\n",
    "\n",
    "A Python DataFrame hatékony eszközök a nagy mennyiségű adat gyors és egyszerű kezelésére. Segítségével felfedezheti, megértheti és betekintést nyerhet adatkészleteibe, mindössze néhány sornyi kóddal.\n"
   ]
  }
 ],
 "metadata": {
  "kernelspec": {
   "display_name": "Python 3",
   "language": "python",
   "name": "python3"
  },
  "language_info": {
   "codemirror_mode": {
    "name": "ipython",
    "version": 3
   },
   "file_extension": ".py",
   "mimetype": "text/x-python",
   "name": "python",
   "nbconvert_exporter": "python",
   "pygments_lexer": "ipython3",
   "version": "3.12.3"
  }
 },
 "nbformat": 4,
 "nbformat_minor": 2
}
