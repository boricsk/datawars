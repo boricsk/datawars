{
 "cells": [
  {
   "cell_type": "markdown",
   "metadata": {},
   "source": [
    "Szűrés azokra a beszélgetésekre, amelyeknek legalább 1 millió megtekintésük van (csak a „view_count”, majd a „speaker_name” oszlopokat tartalmazza az aladatkeretben)"
   ]
  },
  {
   "cell_type": "code",
   "execution_count": null,
   "metadata": {},
   "outputs": [],
   "source": [
    "df_more_than_1million = df.loc[df['view_count'] >= 1_000_000 ][['view_count', 'speaker_name']]"
   ]
  },
  {
   "cell_type": "markdown",
   "metadata": {},
   "source": [
    "Szűrje ki az összes olyan beszédet, amelynek megjegyzéseinek száma meghaladja a 2000-et, és amelyeket „Művész” foglalkozású előadók tartottak\n",
    "\n",
    "Végezze el a kijelölést, és tárolja az eredményeket a df_commented_artists változóban\n"
   ]
  },
  {
   "cell_type": "code",
   "execution_count": null,
   "metadata": {},
   "outputs": [],
   "source": [
    "df_commented_artists = df.loc[(df['comment_count'] >= 2000) & (df['speaker_occupation'] == 'Artist')]"
   ]
  },
  {
   "cell_type": "markdown",
   "metadata": {},
   "source": [
    "Szűrje ki az összes olyan beszélgetést, amelynek időtartama meghaladja a 60 percet\n",
    "\n",
    "Végezze el a kijelölést, és tárolja az eredményeket a df_long_duration változóban\n"
   ]
  },
  {
   "cell_type": "code",
   "execution_count": null,
   "metadata": {},
   "outputs": [],
   "source": [
    "df_long_duration = df.loc[df['duration'] >= 3600]"
   ]
  },
  {
   "cell_type": "markdown",
   "metadata": {},
   "source": [
    "Szűrje azokat a beszélgetéseket, ahol a megjegyzések száma nagyobb vagy egyenlő, mint az időtartam\n",
    "\n",
    "Végezze el a kijelölést, és tárolja az eredményeket a df_high_comments változóban"
   ]
  },
  {
   "cell_type": "code",
   "execution_count": null,
   "metadata": {},
   "outputs": [],
   "source": [
    "df_high_comments = df.loc[df['comment_count'] >= df['duration']]"
   ]
  },
  {
   "cell_type": "markdown",
   "metadata": {},
   "source": [
    "Szűrje ki azokat a beszélgetéseket, ahol az időtartam nem nagyobb, mint az átlagos időtartam, és nem egyenlő azzal\n",
    "\n",
    "Végezze el a kijelölést, és tárolja az eredményeket a df_short_talks változóban"
   ]
  },
  {
   "cell_type": "code",
   "execution_count": null,
   "metadata": {},
   "outputs": [],
   "source": [
    "df_short_talks = df.loc[df['duration'] < df['duration'].mean()]"
   ]
  },
  {
   "cell_type": "markdown",
   "metadata": {},
   "source": [
    "Szűrje ki az összes olyan előadást, amelynek megtekintéseinek száma meghaladja a 10 milliót, angol nyelvűek, és a „Kultúra” témájúak.\n",
    "\n",
    "Végezze el a kijelölést, és tárolja az eredményeket a df_popular_english_culture változóban"
   ]
  },
  {
   "cell_type": "code",
   "execution_count": null,
   "metadata": {},
   "outputs": [],
   "source": [
    "df_popular_english_culture = df.query(\"view_count > 10_000_000 and language == 'en' and theme == 'Culture'\")"
   ]
  },
  {
   "cell_type": "markdown",
   "metadata": {},
   "source": [
    "Szűrje ki az összes olyan előadást, amelynek megtekintéseinek száma 1 millió és 2 millió között van, 2019. január 1. után jelentek meg, és amelyek témájuk a „Tudomány” vagy a „Technológia”\n",
    "\n",
    "Végezze el a kijelölést, és tárolja az eredményeket a df_medium_science_tech változóban"
   ]
  },
  {
   "cell_type": "code",
   "execution_count": null,
   "metadata": {},
   "outputs": [],
   "source": [
    "df_medium_science_tech = df.loc[(df['view_count'] >= 1000000) & (df['view_count'] <= 2000000) & (df['published_date'] > '2019-01-01') & ((df['theme'] == 'Science') | (df['theme'] == 'Technology'))]"
   ]
  },
  {
   "cell_type": "markdown",
   "metadata": {},
   "source": [
    "Válassza ki a januárban vagy augusztusban közzétett nézetekben a legmagasabb beszéd előadójának nevét, és az előadó neve „Újságíró” vagy „Vállalkozó”, és időtartama kevesebb, mint 8 perc\n",
    "\n",
    "     Megjegyzés: ügyeljen arra, hogy kivonja a hónapot a közzététel_dátuma oszlopból; ne használja a már megadott hónap oszlopot az adatkeretben, mivel az nem kapcsolódik a közzétételi dátumhoz, nevezze el közzétételi_hónapnak.\n",
    "\n",
    "     Először is szűrje ki a januárban vagy augusztusban közzétett beszélgetéseket, és tárolja az eredményt a df_jan_aug fájlban.\n",
    "\n",
    "     Másodszor, alkalmazzon szűrőt az első lépés eredményére úgy, hogy kiszűri az újságírókkal vagy vállalkozókkal folytatott beszélgetéseket, és tárolja az eredményt a df_journalists_entrepreneurs mappában.\n",
    "\n",
    "     Harmadszor, alkalmazzon szűrőt a második lépés eredményére a 8 percnél (480 másodpercnél) rövidebb beszélgetések szűrésével, és tárolja az eredményt a df_below_8m_talks fájlban.\n",
    "\n",
    "     Végül végezze el a kijelölést, és tárolja a végeredményt a legmagasabb_view_talk_speaker változóban"
   ]
  },
  {
   "cell_type": "code",
   "execution_count": null,
   "metadata": {},
   "outputs": [],
   "source": [
    "df['published_month'] = pd.to_datetime(df['published_date']).dt.month\n",
    "\n",
    "# Filter talks that were published in either January or August\n",
    "df_jan_aug = df.loc[(df['published_month'] == 1) | (df['published_month'] == 8)]\n",
    "\n",
    "# Filter talks with speakers who are journalists or entrepreneurs\n",
    "df_journalists_entrepreneurs = df_jan_aug.loc[(df_jan_aug['speaker_occupation'] == 'Journalist') | (df_jan_aug['speaker_occupation'] == 'Entrepreneur')]\n",
    "\n",
    "# Filter talks with a duration of less than 8 minutes (480 seconds)\n",
    "df_below_8m_talks = df_journalists_entrepreneurs.loc[df_journalists_entrepreneurs['duration'] < 480]\n",
    "\n",
    "# Get the talk with the highest views\n",
    "highest_view_talk_speaker = df_below_8m_talks.loc[df_below_8m_talks['view_count'].idxmax()].speaker_name\n",
    "\n",
    "highest_view_talk_speaker\n"
   ]
  },
  {
   "cell_type": "markdown",
   "metadata": {},
   "source": [
    "Válassza ki a nevet, a beszélő_neve és az eseményoszlopokat azokhoz a beszélgetésekhez, ahol a view_count a view_count szórásának háromszorosával meghaladja az átlagos view_count értéket.\n",
    "\n",
    "Végezze el a kijelölést, és tárolja az eredményeket a df_talks_more_than_std változóban"
   ]
  },
  {
   "cell_type": "code",
   "execution_count": null,
   "metadata": {},
   "outputs": [],
   "source": [
    "df_talks_more_than_std = df.loc[df['view_count'] > (df['view_count'].mean() + 3 * df['view_count'].std())][['name', 'speaker_name', 'event']]"
   ]
  },
  {
   "cell_type": "markdown",
   "metadata": {},
   "source": [
    "Válassza ki az összes olyan beszédet, amely vagy angol „en” nyelven van, és 10 percnél hosszabb, vagy spanyol „es” nyelvű, és 5 percnél hosszabb\n",
    "\n",
    "Végezze el a kijelölést, és tárolja az eredményeket a df_long_en_es_talks változóban\n"
   ]
  },
  {
   "cell_type": "code",
   "execution_count": null,
   "metadata": {},
   "outputs": [],
   "source": [
    "df_long_en_es_talks = df.loc[((df['language'] == 'en') & (df['duration'] > 600)) | ((df['language'] == 'es') & (df['duration'] > 300))]"
   ]
  }
 ],
 "metadata": {
  "language_info": {
   "name": "python"
  }
 },
 "nbformat": 4,
 "nbformat_minor": 2
}
