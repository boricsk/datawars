{
 "cells": [
  {
   "cell_type": "markdown",
   "metadata": {},
   "source": [
    "#### Üdvözöljük a Pandas DataFrame Mutations Lab: Exploring Airbnb listák!\n",
    "\n",
    "Ebben a kódolási laborban megtanulhatja az új oszlopok létrehozását, a sorok hirdetésoszlopainak törlését, az adatkeret szerkezetének módosítását, új sorok hozzáadását és az inplace paraméter használatát. Az Airbnb listák adatkészletével fogunk dolgozni, amely információkat tartalmaz az egyesült államokbeli Airbnb-listákkal kapcsolatban. Ez az adatkészlet szolgál majd felfedező és tanulási utunk alapjául.\n",
    "\n",
    "Adatkészlet leírása:\n",
    "\n",
    "Az Airbnb listák adatkészlete értékes betekintést nyújt a rövid távú nyaralóbérlés világába. Olyan részleteket tartalmaz, mint az adatlap azonosítója, név, gazdagép azonosítója, gazdagép neve, környék, földrajzi koordináták, szobatípus, árinformációk, minimális éjszakák száma, és számos egyéb attribútum, amelyek meghatározzák az egyes listákat. Ennek az adatkészletnek a felhasználásával értelmes információkat nyerhetünk ki, mintákat tárhatunk fel, és betekintést nyerhetünk az Egyesült Államok Airbnb-piacába.\n",
    "\n",
    "Ezen a kódoló laboron keresztül alaposan megismerheti a pandákat, és gyakorlati tapasztalatokat szerezhet az adatkezelési, -elemzési és -átalakítási feladatok elvégzésében. Ezek a készségek értékesek lesznek különböző adatvezérelt területeken, az üzleti elemzéstől az adattudományig.\n",
    "\n",
    "Itt az ideje, hogy feltűrje az ingujját, begyújtsa Jupyter notebookjait, és induljon el ezen az izgalmas utazáson, melynek során pandák segítségével fedezze fel az Airbnb listák adatkészletét!\n",
    "\n",
    "\n",
    "FONTOS MEGJEGYZÉS: Néhány ilyen tevékenység magában foglalja az eredeti adatkeret módosítását és MUTABLE műveletek végrehajtását. Ennek az az oka, hogy az adatok mutációja után lehetetlen visszamenni, és ha hibázik, elölről kell kezdenie. Amint azt korábban említettük, mindig javasolt megváltoztathatatlan műveletek végrehajtása helyett.\n",
    "\n",
    "Szóval, miért használnak változtatható műveleteket? Nos, szeretnénk megtanítani Önt az iparágunkban is elterjedt „rossz gyakorlatokra”. A változó műveletek használatára kényszerítve notebookjának rendkívül tisztanak és rendezettnek kell lennie, mert lehet, hogy MINDENT újra kell indítania a nulláról (az 1. cellából, az adatok olvasása, egészen le).\n",
    "\n",
    "Ezt a projektet alaposan tesztelték, és MŰKÖDIK. Ha a megoldás nem működik, annak az az oka, hogy az előző lépésekben néhány mutáció hibás."
   ]
  },
  {
   "cell_type": "code",
   "execution_count": 1,
   "metadata": {},
   "outputs": [
    {
     "name": "stderr",
     "output_type": "stream",
     "text": [
      "C:\\Users\\chris\\AppData\\Local\\Temp\\ipykernel_32936\\4280818453.py:4: UserWarning: Could not infer format, so each element will be parsed individually, falling back to `dateutil`. To ensure parsing is consistent and as-expected, please specify a format.\n",
      "  df = pd.read_csv(basepath, low_memory=False, parse_dates=['last_review'])\n"
     ]
    },
    {
     "data": {
      "text/html": [
       "<div>\n",
       "<style scoped>\n",
       "    .dataframe tbody tr th:only-of-type {\n",
       "        vertical-align: middle;\n",
       "    }\n",
       "\n",
       "    .dataframe tbody tr th {\n",
       "        vertical-align: top;\n",
       "    }\n",
       "\n",
       "    .dataframe thead th {\n",
       "        text-align: right;\n",
       "    }\n",
       "</style>\n",
       "<table border=\"1\" class=\"dataframe\">\n",
       "  <thead>\n",
       "    <tr style=\"text-align: right;\">\n",
       "      <th></th>\n",
       "      <th>id</th>\n",
       "      <th>name</th>\n",
       "      <th>host_id</th>\n",
       "      <th>host_name</th>\n",
       "      <th>neighbourhood_group</th>\n",
       "      <th>neighbourhood</th>\n",
       "      <th>latitude</th>\n",
       "      <th>longitude</th>\n",
       "      <th>room_type</th>\n",
       "      <th>price</th>\n",
       "      <th>minimum_nights</th>\n",
       "      <th>number_of_reviews</th>\n",
       "      <th>last_review</th>\n",
       "      <th>reviews_per_month</th>\n",
       "      <th>calculated_host_listings_count</th>\n",
       "      <th>availability_365</th>\n",
       "      <th>city</th>\n",
       "    </tr>\n",
       "  </thead>\n",
       "  <tbody>\n",
       "    <tr>\n",
       "      <th>0</th>\n",
       "      <td>38585</td>\n",
       "      <td>Charming Victorian home - twin beds + breakfast</td>\n",
       "      <td>165529</td>\n",
       "      <td>Evelyne</td>\n",
       "      <td>NaN</td>\n",
       "      <td>28804</td>\n",
       "      <td>35.65146</td>\n",
       "      <td>-82.62792</td>\n",
       "      <td>Private room</td>\n",
       "      <td>60</td>\n",
       "      <td>1</td>\n",
       "      <td>138</td>\n",
       "      <td>2020-02-16</td>\n",
       "      <td>1.14</td>\n",
       "      <td>1</td>\n",
       "      <td>0</td>\n",
       "      <td>Asheville</td>\n",
       "    </tr>\n",
       "    <tr>\n",
       "      <th>1</th>\n",
       "      <td>80905</td>\n",
       "      <td>French Chic Loft</td>\n",
       "      <td>427027</td>\n",
       "      <td>Celeste</td>\n",
       "      <td>NaN</td>\n",
       "      <td>28801</td>\n",
       "      <td>35.59779</td>\n",
       "      <td>-82.55540</td>\n",
       "      <td>Entire home/apt</td>\n",
       "      <td>470</td>\n",
       "      <td>1</td>\n",
       "      <td>114</td>\n",
       "      <td>2020-07-09</td>\n",
       "      <td>1.03</td>\n",
       "      <td>11</td>\n",
       "      <td>288</td>\n",
       "      <td>Asheville</td>\n",
       "    </tr>\n",
       "    <tr>\n",
       "      <th>2</th>\n",
       "      <td>108061</td>\n",
       "      <td>Walk to stores/parks/downtown. Fenced yard/Pet...</td>\n",
       "      <td>320564</td>\n",
       "      <td>Lisa</td>\n",
       "      <td>NaN</td>\n",
       "      <td>28801</td>\n",
       "      <td>35.60670</td>\n",
       "      <td>-82.55563</td>\n",
       "      <td>Entire home/apt</td>\n",
       "      <td>75</td>\n",
       "      <td>30</td>\n",
       "      <td>89</td>\n",
       "      <td>2019-11-30</td>\n",
       "      <td>0.81</td>\n",
       "      <td>2</td>\n",
       "      <td>298</td>\n",
       "      <td>Asheville</td>\n",
       "    </tr>\n",
       "    <tr>\n",
       "      <th>3</th>\n",
       "      <td>155305</td>\n",
       "      <td>Cottage! BonPaul + Sharky's Hostel</td>\n",
       "      <td>746673</td>\n",
       "      <td>BonPaul</td>\n",
       "      <td>NaN</td>\n",
       "      <td>28806</td>\n",
       "      <td>35.57864</td>\n",
       "      <td>-82.59578</td>\n",
       "      <td>Entire home/apt</td>\n",
       "      <td>90</td>\n",
       "      <td>1</td>\n",
       "      <td>267</td>\n",
       "      <td>2020-09-22</td>\n",
       "      <td>2.39</td>\n",
       "      <td>5</td>\n",
       "      <td>0</td>\n",
       "      <td>Asheville</td>\n",
       "    </tr>\n",
       "    <tr>\n",
       "      <th>4</th>\n",
       "      <td>160594</td>\n",
       "      <td>Historic Grove Park</td>\n",
       "      <td>769252</td>\n",
       "      <td>Elizabeth</td>\n",
       "      <td>NaN</td>\n",
       "      <td>28801</td>\n",
       "      <td>35.61442</td>\n",
       "      <td>-82.54127</td>\n",
       "      <td>Private room</td>\n",
       "      <td>125</td>\n",
       "      <td>30</td>\n",
       "      <td>58</td>\n",
       "      <td>2015-10-19</td>\n",
       "      <td>0.52</td>\n",
       "      <td>1</td>\n",
       "      <td>0</td>\n",
       "      <td>Asheville</td>\n",
       "    </tr>\n",
       "  </tbody>\n",
       "</table>\n",
       "</div>"
      ],
      "text/plain": [
       "       id                                               name  host_id  \\\n",
       "0   38585    Charming Victorian home - twin beds + breakfast   165529   \n",
       "1   80905                                   French Chic Loft   427027   \n",
       "2  108061  Walk to stores/parks/downtown. Fenced yard/Pet...   320564   \n",
       "3  155305                 Cottage! BonPaul + Sharky's Hostel   746673   \n",
       "4  160594                                Historic Grove Park   769252   \n",
       "\n",
       "   host_name neighbourhood_group neighbourhood  latitude  longitude  \\\n",
       "0    Evelyne                 NaN         28804  35.65146  -82.62792   \n",
       "1    Celeste                 NaN         28801  35.59779  -82.55540   \n",
       "2       Lisa                 NaN         28801  35.60670  -82.55563   \n",
       "3    BonPaul                 NaN         28806  35.57864  -82.59578   \n",
       "4  Elizabeth                 NaN         28801  35.61442  -82.54127   \n",
       "\n",
       "         room_type  price  minimum_nights  number_of_reviews last_review  \\\n",
       "0     Private room     60               1                138  2020-02-16   \n",
       "1  Entire home/apt    470               1                114  2020-07-09   \n",
       "2  Entire home/apt     75              30                 89  2019-11-30   \n",
       "3  Entire home/apt     90               1                267  2020-09-22   \n",
       "4     Private room    125              30                 58  2015-10-19   \n",
       "\n",
       "   reviews_per_month  calculated_host_listings_count  availability_365  \\\n",
       "0               1.14                               1                 0   \n",
       "1               1.03                              11               288   \n",
       "2               0.81                               2               298   \n",
       "3               2.39                               5                 0   \n",
       "4               0.52                               1                 0   \n",
       "\n",
       "        city  \n",
       "0  Asheville  \n",
       "1  Asheville  \n",
       "2  Asheville  \n",
       "3  Asheville  \n",
       "4  Asheville  "
      ]
     },
     "execution_count": 1,
     "metadata": {},
     "output_type": "execute_result"
    }
   ],
   "source": [
    "import pandas as pd\n",
    "basepath = r'..\\..\\source\\AB_US_2020.csv'\n",
    "\n",
    "df = pd.read_csv(basepath, low_memory=False, parse_dates=['last_review'])\n",
    "df.head()"
   ]
  },
  {
   "cell_type": "code",
   "execution_count": 2,
   "metadata": {},
   "outputs": [
    {
     "data": {
      "text/plain": [
       "Index(['id', 'name', 'host_id', 'host_name', 'neighbourhood_group',\n",
       "       'neighbourhood', 'latitude', 'longitude', 'room_type', 'price',\n",
       "       'minimum_nights', 'number_of_reviews', 'last_review',\n",
       "       'reviews_per_month', 'calculated_host_listings_count',\n",
       "       'availability_365', 'city'],\n",
       "      dtype='object')"
      ]
     },
     "execution_count": 2,
     "metadata": {},
     "output_type": "execute_result"
    }
   ],
   "source": [
    "df.columns"
   ]
  },
  {
   "cell_type": "code",
   "execution_count": 3,
   "metadata": {},
   "outputs": [
    {
     "data": {
      "text/plain": [
       "(226030, 17)"
      ]
     },
     "execution_count": 3,
     "metadata": {},
     "output_type": "execute_result"
    }
   ],
   "source": [
    "df.shape"
   ]
  },
  {
   "cell_type": "code",
   "execution_count": 4,
   "metadata": {},
   "outputs": [
    {
     "name": "stdout",
     "output_type": "stream",
     "text": [
      "<class 'pandas.core.frame.DataFrame'>\n",
      "RangeIndex: 226030 entries, 0 to 226029\n",
      "Data columns (total 17 columns):\n",
      " #   Column                          Non-Null Count   Dtype         \n",
      "---  ------                          --------------   -----         \n",
      " 0   id                              226030 non-null  int64         \n",
      " 1   name                            226002 non-null  object        \n",
      " 2   host_id                         226030 non-null  int64         \n",
      " 3   host_name                       225997 non-null  object        \n",
      " 4   neighbourhood_group             110185 non-null  object        \n",
      " 5   neighbourhood                   226030 non-null  object        \n",
      " 6   latitude                        226030 non-null  float64       \n",
      " 7   longitude                       226030 non-null  float64       \n",
      " 8   room_type                       226030 non-null  object        \n",
      " 9   price                           226030 non-null  int64         \n",
      " 10  minimum_nights                  226030 non-null  int64         \n",
      " 11  number_of_reviews               226030 non-null  int64         \n",
      " 12  last_review                     177428 non-null  datetime64[ns]\n",
      " 13  reviews_per_month               177428 non-null  float64       \n",
      " 14  calculated_host_listings_count  226030 non-null  int64         \n",
      " 15  availability_365                226030 non-null  int64         \n",
      " 16  city                            226030 non-null  object        \n",
      "dtypes: datetime64[ns](1), float64(3), int64(7), object(6)\n",
      "memory usage: 29.3+ MB\n"
     ]
    }
   ],
   "source": [
    "df.info()"
   ]
  },
  {
   "cell_type": "code",
   "execution_count": 5,
   "metadata": {},
   "outputs": [
    {
     "data": {
      "text/html": [
       "<div>\n",
       "<style scoped>\n",
       "    .dataframe tbody tr th:only-of-type {\n",
       "        vertical-align: middle;\n",
       "    }\n",
       "\n",
       "    .dataframe tbody tr th {\n",
       "        vertical-align: top;\n",
       "    }\n",
       "\n",
       "    .dataframe thead th {\n",
       "        text-align: right;\n",
       "    }\n",
       "</style>\n",
       "<table border=\"1\" class=\"dataframe\">\n",
       "  <thead>\n",
       "    <tr style=\"text-align: right;\">\n",
       "      <th></th>\n",
       "      <th>id</th>\n",
       "      <th>host_id</th>\n",
       "      <th>latitude</th>\n",
       "      <th>longitude</th>\n",
       "      <th>price</th>\n",
       "      <th>minimum_nights</th>\n",
       "      <th>number_of_reviews</th>\n",
       "      <th>last_review</th>\n",
       "      <th>reviews_per_month</th>\n",
       "      <th>calculated_host_listings_count</th>\n",
       "      <th>availability_365</th>\n",
       "    </tr>\n",
       "  </thead>\n",
       "  <tbody>\n",
       "    <tr>\n",
       "      <th>count</th>\n",
       "      <td>2.260300e+05</td>\n",
       "      <td>2.260300e+05</td>\n",
       "      <td>226030.000000</td>\n",
       "      <td>226030.000000</td>\n",
       "      <td>226030.000000</td>\n",
       "      <td>2.260300e+05</td>\n",
       "      <td>226030.000000</td>\n",
       "      <td>177428</td>\n",
       "      <td>177428.00000</td>\n",
       "      <td>226030.000000</td>\n",
       "      <td>226030.000000</td>\n",
       "    </tr>\n",
       "    <tr>\n",
       "      <th>mean</th>\n",
       "      <td>2.547176e+07</td>\n",
       "      <td>9.352385e+07</td>\n",
       "      <td>35.662829</td>\n",
       "      <td>-103.220662</td>\n",
       "      <td>219.716529</td>\n",
       "      <td>4.525490e+02</td>\n",
       "      <td>34.506530</td>\n",
       "      <td>2019-11-02 06:47:04.356922368</td>\n",
       "      <td>1.43145</td>\n",
       "      <td>16.698562</td>\n",
       "      <td>159.314856</td>\n",
       "    </tr>\n",
       "    <tr>\n",
       "      <th>min</th>\n",
       "      <td>1.090000e+02</td>\n",
       "      <td>2.300000e+01</td>\n",
       "      <td>18.920990</td>\n",
       "      <td>-159.714900</td>\n",
       "      <td>0.000000</td>\n",
       "      <td>1.000000e+00</td>\n",
       "      <td>0.000000</td>\n",
       "      <td>2010-03-28 00:00:00</td>\n",
       "      <td>0.01000</td>\n",
       "      <td>1.000000</td>\n",
       "      <td>0.000000</td>\n",
       "    </tr>\n",
       "    <tr>\n",
       "      <th>25%</th>\n",
       "      <td>1.515890e+07</td>\n",
       "      <td>1.399275e+07</td>\n",
       "      <td>32.761783</td>\n",
       "      <td>-118.598115</td>\n",
       "      <td>75.000000</td>\n",
       "      <td>1.000000e+00</td>\n",
       "      <td>1.000000</td>\n",
       "      <td>2019-09-02 00:00:00</td>\n",
       "      <td>0.23000</td>\n",
       "      <td>1.000000</td>\n",
       "      <td>0.000000</td>\n",
       "    </tr>\n",
       "    <tr>\n",
       "      <th>50%</th>\n",
       "      <td>2.590916e+07</td>\n",
       "      <td>5.138266e+07</td>\n",
       "      <td>37.261125</td>\n",
       "      <td>-97.817200</td>\n",
       "      <td>121.000000</td>\n",
       "      <td>2.000000e+00</td>\n",
       "      <td>8.000000</td>\n",
       "      <td>2020-03-13 00:00:00</td>\n",
       "      <td>0.81000</td>\n",
       "      <td>2.000000</td>\n",
       "      <td>140.000000</td>\n",
       "    </tr>\n",
       "    <tr>\n",
       "      <th>75%</th>\n",
       "      <td>3.772624e+07</td>\n",
       "      <td>1.497179e+08</td>\n",
       "      <td>40.724038</td>\n",
       "      <td>-76.919323</td>\n",
       "      <td>201.000000</td>\n",
       "      <td>7.000000e+00</td>\n",
       "      <td>39.000000</td>\n",
       "      <td>2020-07-09 00:00:00</td>\n",
       "      <td>2.06000</td>\n",
       "      <td>6.000000</td>\n",
       "      <td>311.000000</td>\n",
       "    </tr>\n",
       "    <tr>\n",
       "      <th>max</th>\n",
       "      <td>4.556085e+07</td>\n",
       "      <td>3.679176e+08</td>\n",
       "      <td>47.734620</td>\n",
       "      <td>-70.995950</td>\n",
       "      <td>24999.000000</td>\n",
       "      <td>1.000000e+08</td>\n",
       "      <td>966.000000</td>\n",
       "      <td>2020-12-09 00:00:00</td>\n",
       "      <td>44.06000</td>\n",
       "      <td>593.000000</td>\n",
       "      <td>365.000000</td>\n",
       "    </tr>\n",
       "    <tr>\n",
       "      <th>std</th>\n",
       "      <td>1.317814e+07</td>\n",
       "      <td>9.827422e+07</td>\n",
       "      <td>6.849855</td>\n",
       "      <td>26.222091</td>\n",
       "      <td>570.353609</td>\n",
       "      <td>2.103376e+05</td>\n",
       "      <td>63.602914</td>\n",
       "      <td>NaN</td>\n",
       "      <td>1.68321</td>\n",
       "      <td>51.068966</td>\n",
       "      <td>140.179628</td>\n",
       "    </tr>\n",
       "  </tbody>\n",
       "</table>\n",
       "</div>"
      ],
      "text/plain": [
       "                 id       host_id       latitude      longitude  \\\n",
       "count  2.260300e+05  2.260300e+05  226030.000000  226030.000000   \n",
       "mean   2.547176e+07  9.352385e+07      35.662829    -103.220662   \n",
       "min    1.090000e+02  2.300000e+01      18.920990    -159.714900   \n",
       "25%    1.515890e+07  1.399275e+07      32.761783    -118.598115   \n",
       "50%    2.590916e+07  5.138266e+07      37.261125     -97.817200   \n",
       "75%    3.772624e+07  1.497179e+08      40.724038     -76.919323   \n",
       "max    4.556085e+07  3.679176e+08      47.734620     -70.995950   \n",
       "std    1.317814e+07  9.827422e+07       6.849855      26.222091   \n",
       "\n",
       "               price  minimum_nights  number_of_reviews  \\\n",
       "count  226030.000000    2.260300e+05      226030.000000   \n",
       "mean      219.716529    4.525490e+02          34.506530   \n",
       "min         0.000000    1.000000e+00           0.000000   \n",
       "25%        75.000000    1.000000e+00           1.000000   \n",
       "50%       121.000000    2.000000e+00           8.000000   \n",
       "75%       201.000000    7.000000e+00          39.000000   \n",
       "max     24999.000000    1.000000e+08         966.000000   \n",
       "std       570.353609    2.103376e+05          63.602914   \n",
       "\n",
       "                         last_review  reviews_per_month  \\\n",
       "count                         177428       177428.00000   \n",
       "mean   2019-11-02 06:47:04.356922368            1.43145   \n",
       "min              2010-03-28 00:00:00            0.01000   \n",
       "25%              2019-09-02 00:00:00            0.23000   \n",
       "50%              2020-03-13 00:00:00            0.81000   \n",
       "75%              2020-07-09 00:00:00            2.06000   \n",
       "max              2020-12-09 00:00:00           44.06000   \n",
       "std                              NaN            1.68321   \n",
       "\n",
       "       calculated_host_listings_count  availability_365  \n",
       "count                   226030.000000     226030.000000  \n",
       "mean                        16.698562        159.314856  \n",
       "min                          1.000000          0.000000  \n",
       "25%                          1.000000          0.000000  \n",
       "50%                          2.000000        140.000000  \n",
       "75%                          6.000000        311.000000  \n",
       "max                        593.000000        365.000000  \n",
       "std                         51.068966        140.179628  "
      ]
     },
     "execution_count": 5,
     "metadata": {},
     "output_type": "execute_result"
    }
   ],
   "source": [
    "df.describe()"
   ]
  },
  {
   "cell_type": "code",
   "execution_count": 6,
   "metadata": {},
   "outputs": [
    {
     "data": {
      "text/plain": [
       "id                                     0\n",
       "name                                  28\n",
       "host_id                                0\n",
       "host_name                             33\n",
       "neighbourhood_group               115845\n",
       "neighbourhood                          0\n",
       "latitude                               0\n",
       "longitude                              0\n",
       "room_type                              0\n",
       "price                                  0\n",
       "minimum_nights                         0\n",
       "number_of_reviews                      0\n",
       "last_review                        48602\n",
       "reviews_per_month                  48602\n",
       "calculated_host_listings_count         0\n",
       "availability_365                       0\n",
       "city                                   0\n",
       "dtype: int64"
      ]
     },
     "execution_count": 6,
     "metadata": {},
     "output_type": "execute_result"
    }
   ],
   "source": [
    "df.isnull().sum()"
   ]
  },
  {
   "cell_type": "markdown",
   "metadata": {},
   "source": [
    "Hozzon létre egy új oszlopot a_per_minimum_stay\n",
    "\n",
    "Számítsa ki a szükséges minimális tartózkodás teljes árát (minimum_nights), feltételezve, hogy az ároszlop jelenleg az éjszakánkénti árat jelenti. Hozzon létre egy új oszlopot price_per_minimum_stay néven, amely tárolja ezt a számított értéket minden adatlaphoz.\n"
   ]
  },
  {
   "cell_type": "code",
   "execution_count": 7,
   "metadata": {},
   "outputs": [],
   "source": [
    "df['price_per_minimum_stay'] = df['price'] * df['minimum_nights']"
   ]
  },
  {
   "cell_type": "markdown",
   "metadata": {},
   "source": [
    "Töröljön minden olyan sort, ahol az ár meghaladja az 500 USD-t\n",
    "\n",
    "     Módosítsa az eredeti DataFrame df-et."
   ]
  },
  {
   "cell_type": "code",
   "execution_count": 8,
   "metadata": {},
   "outputs": [],
   "source": [
    "df.drop(df.loc[df['price'] > 500].index, inplace=True)"
   ]
  },
  {
   "cell_type": "markdown",
   "metadata": {},
   "source": [
    "Törölje a host_name és a Neighbourhood_group oszlopokat a DataFrame df-ből\n",
    "\n",
    "     Módosítsa az eredeti DataFrame df-et."
   ]
  },
  {
   "cell_type": "code",
   "execution_count": 9,
   "metadata": {},
   "outputs": [],
   "source": [
    "cols_delete = ['neighbourhood_group', 'host_name']\n",
    "df.drop(columns=cols_delete, inplace=True)"
   ]
  },
  {
   "cell_type": "code",
   "execution_count": null,
   "metadata": {},
   "outputs": [],
   "source": [
    "df = df.drop(['host_name', 'neighbourhood_group'], axis=1)"
   ]
  },
  {
   "cell_type": "code",
   "execution_count": null,
   "metadata": {},
   "outputs": [],
   "source": [
    "df.drop(['host_name', 'neighbourhood_group'], axis=1, inplace=True)"
   ]
  },
  {
   "cell_type": "markdown",
   "metadata": {},
   "source": [
    "Nevezze át a vélemények_száma oszlopot reviews_count értékre"
   ]
  },
  {
   "cell_type": "code",
   "execution_count": 11,
   "metadata": {},
   "outputs": [],
   "source": [
    "df.rename(columns={'number_of_reviews':'reviews_count'}, inplace=True)"
   ]
  },
  {
   "cell_type": "markdown",
   "metadata": {},
   "source": [
    "Konvertálja az ároszlopot egész számról lebegő adattípusra"
   ]
  },
  {
   "cell_type": "code",
   "execution_count": 12,
   "metadata": {},
   "outputs": [],
   "source": [
    "df['price'] = df['price'].astype('float64')"
   ]
  },
  {
   "cell_type": "markdown",
   "metadata": {},
   "source": [
    "# ?\n",
    "\n",
    "Cserélje le a Privát szoba minden előfordulását a szoba_típus oszlopban Private-ra"
   ]
  },
  {
   "cell_type": "code",
   "execution_count": 14,
   "metadata": {},
   "outputs": [],
   "source": [
    "#df['room_type'] = ['Private' if x == 'Private room' else df['room_type'] for x in df['room_type']]\n",
    "df.loc[df['room_type'] == 'Private room', 'room_type'] = 'Private'"
   ]
  },
  {
   "cell_type": "code",
   "execution_count": null,
   "metadata": {},
   "outputs": [],
   "source": [
    "df['room_type'].head(10)"
   ]
  },
  {
   "cell_type": "code",
   "execution_count": null,
   "metadata": {},
   "outputs": [],
   "source": [
    "\"\"\"\n",
    "Ebben a megoldásban a df['room_type'] == 'Privát szoba' logikai maszkot hoz létre, \n",
    "amely azonosítja azokat a sorokat, ahol a 'room_type' oszlop értéke 'Private room'. \n",
    "Ezután a df.loc[boolean_mask, 'room_type'] kiválasztja a 'room_type' oszlop \n",
    "azon részhalmazát, ahol a logikai maszk True. Végül ehhez a részhalmazhoz a \n",
    "„Privát” értéket rendeljük, gyakorlatilag a „Privát szoba” helyett a „Privát” értéket.\n",
    "\"\"\""
   ]
  },
  {
   "cell_type": "markdown",
   "metadata": {},
   "source": [
    "Adjon hozzá új sort a megadott adatokkal\n",
    "\n",
    "Adjon hozzá egy új sort a DataFrame df-hez a végén a következő részletekkel:\n",
    "\n",
    "new_row_data = {'id': 851792795339743534, 'név': 'Tony Stark apartman', 'host_id': 67890, 'room_type': 'Teljes ház/lakás',\n",
    "                 'ár': 150, 'minimum_éjszaka': 3, 'vélemények_száma': 10}\n",
    "\n",
    "     Láthatja, hogy a szótárban átadott értékek skalárok, nem listák. Ezért, amikor adatkeretté alakítja, át kell adnia az indexszámot, és az indexet len(df)-ként kell használnia."
   ]
  },
  {
   "cell_type": "code",
   "execution_count": 16,
   "metadata": {},
   "outputs": [],
   "source": [
    "new_row_data = {'id': 851792795339743534, 'name': 'Tony Stark Apartment', 'host_id': 67890, 'room_type': 'Entire home/apt',\n",
    "                'price': 150, 'minimum_nights': 3, 'reviews_count': 10}"
   ]
  },
  {
   "cell_type": "code",
   "execution_count": null,
   "metadata": {},
   "outputs": [],
   "source": [
    "new_row = pd.DataFrame(new_row_data, index=[len(df)])\n",
    "df = pd.concat([df,new_row])"
   ]
  },
  {
   "cell_type": "markdown",
   "metadata": {},
   "source": [
    "Távolítsa el az elérhetőség_365 oszlopot a DataFrame-ből új DataFrame létrehozása nélkül\n"
   ]
  },
  {
   "cell_type": "code",
   "execution_count": null,
   "metadata": {},
   "outputs": [],
   "source": [
    "df.drop(columns='availability_365', inplace=True)"
   ]
  },
  {
   "cell_type": "markdown",
   "metadata": {},
   "source": [
    "Rendezze a DataFrame-et az ár oszlop szerint csökkenő sorrendbe\n",
    "\n",
    "Rendezze a DataFrame df-et az ároszlop szerint csökkenő sorrendbe, és rendelje hozzá az eredményt a sorted_df-hez."
   ]
  },
  {
   "cell_type": "code",
   "execution_count": 18,
   "metadata": {},
   "outputs": [],
   "source": [
    "sorted_df = df.sort_values(by='price', ascending=False)"
   ]
  },
  {
   "cell_type": "markdown",
   "metadata": {},
   "source": [
    "Az összes ár átváltása amerikai dollárról euróra\n",
    "\n",
    "Hozzon létre egy új ár_eur oszlopot a DataFrame df-ben, amely tartalmazza az árakat euróban. Az átváltási árfolyam 1 USD = 0,85 euró."
   ]
  },
  {
   "cell_type": "code",
   "execution_count": 19,
   "metadata": {},
   "outputs": [],
   "source": [
    "df['price_eur'] = df['price'] * 0.85"
   ]
  },
  {
   "cell_type": "markdown",
   "metadata": {},
   "source": [
    "Módosítsa a price_per_minimum_stay az árak megduplázásával.\n",
    "\n",
    "Módosítsa a_per_minimum_stay oszlopot az árak megduplázásával. Például, ha a price_per_minimum_stay oszlop 50 értéket tartalmaz, akkor azt 100-ra kell módosítani.\n",
    "\n",
    "     Módosítsa az eredeti DataFrame df-et."
   ]
  },
  {
   "cell_type": "code",
   "execution_count": 20,
   "metadata": {},
   "outputs": [],
   "source": [
    "df['price_per_minimum_stay'] = df['price_per_minimum_stay'] * 2"
   ]
  },
  {
   "cell_type": "markdown",
   "metadata": {},
   "source": [
    "Hozzon létre egy év nevű új oszlopot, amely tartalmazza a last_review oszlop évadatait\n",
    "\n",
    "Hozzon létre egy új oszlopévet a DataFrame df-ben, amely tartalmazza a last_review oszlop évadatait. Például, ha a last_review oszlop tartalmazza a dátumot: 2019-05-21, akkor az év oszlopban a 2019 értéket kell tartalmaznia. A dt hozzáférővel érheti el egy oszlop dátum-idő tulajdonságait. Például a df['last_review'].dt.year az év adatait adja vissza az utolsó_áttekintés oszlopból."
   ]
  },
  {
   "cell_type": "code",
   "execution_count": 22,
   "metadata": {},
   "outputs": [],
   "source": [
    "df['year'] = df['last_review'].dt.year"
   ]
  }
 ],
 "metadata": {
  "kernelspec": {
   "display_name": "Python 3",
   "language": "python",
   "name": "python3"
  },
  "language_info": {
   "codemirror_mode": {
    "name": "ipython",
    "version": 3
   },
   "file_extension": ".py",
   "mimetype": "text/x-python",
   "name": "python",
   "nbconvert_exporter": "python",
   "pygments_lexer": "ipython3",
   "version": "3.12.3"
  }
 },
 "nbformat": 4,
 "nbformat_minor": 2
}
