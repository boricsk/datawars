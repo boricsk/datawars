{
 "cells": [
  {
   "cell_type": "markdown",
   "metadata": {},
   "source": [
    "Ebben a laborban gyakoroljuk a feltételes szűrést és a panda sorozatok rendezését olyan adatkészlet segítségével, amely a 2002 óta játszó nemzetközi krikettjátékosokról tartalmaz információkat. Az adatok tartalmazzák a játékos nevét, a lejátszott inningek számát, a szerzett futások számát. , eltalált labdák száma, kirúgásuk száma, ütési átlaguk, ütési arányuk, legmagasabb pontszámuk, eltalált négyesek száma, eltalált hatosok száma, fél góljuk száma században, és hányszor szereztek egy évszázadot.\n",
    "\n",
    "Below are the columns of the dataset:\n",
    "\n",
    "    Player: Name of the player\n",
    "    I: Number of innings played\n",
    "    R: Number of runs scored\n",
    "    B: Number of balls faced\n",
    "    Outs: Number of times dismissed\n",
    "    Avg: Batting average\n",
    "    SR: Strike rate\n",
    "    HS: Highest score\n",
    "    4s: Number of fours hit\n",
    "    6s: Number of sixes hit\n",
    "    50: Number of times scored a half-century\n",
    "    100: Number of times scored a century\n"
   ]
  },
  {
   "cell_type": "code",
   "execution_count": 6,
   "metadata": {},
   "outputs": [
    {
     "data": {
      "text/html": [
       "<div>\n",
       "<style scoped>\n",
       "    .dataframe tbody tr th:only-of-type {\n",
       "        vertical-align: middle;\n",
       "    }\n",
       "\n",
       "    .dataframe tbody tr th {\n",
       "        vertical-align: top;\n",
       "    }\n",
       "\n",
       "    .dataframe thead th {\n",
       "        text-align: right;\n",
       "    }\n",
       "</style>\n",
       "<table border=\"1\" class=\"dataframe\">\n",
       "  <thead>\n",
       "    <tr style=\"text-align: right;\">\n",
       "      <th></th>\n",
       "      <th>Player</th>\n",
       "      <th>I</th>\n",
       "      <th>R</th>\n",
       "      <th>B</th>\n",
       "      <th>Outs</th>\n",
       "      <th>Avg</th>\n",
       "      <th>SR</th>\n",
       "      <th>HS</th>\n",
       "      <th>4s</th>\n",
       "      <th>6s</th>\n",
       "      <th>50</th>\n",
       "      <th>100</th>\n",
       "    </tr>\n",
       "  </thead>\n",
       "  <tbody>\n",
       "    <tr>\n",
       "      <th>0</th>\n",
       "      <td>A Bagai</td>\n",
       "      <td>15</td>\n",
       "      <td>343</td>\n",
       "      <td>556</td>\n",
       "      <td>13</td>\n",
       "      <td>26.38</td>\n",
       "      <td>61.69</td>\n",
       "      <td>84</td>\n",
       "      <td>38</td>\n",
       "      <td>0</td>\n",
       "      <td>2</td>\n",
       "      <td>0</td>\n",
       "    </tr>\n",
       "    <tr>\n",
       "      <th>1</th>\n",
       "      <td>A Balbirnie</td>\n",
       "      <td>6</td>\n",
       "      <td>236</td>\n",
       "      <td>260</td>\n",
       "      <td>6</td>\n",
       "      <td>39.33</td>\n",
       "      <td>90.77</td>\n",
       "      <td>97</td>\n",
       "      <td>20</td>\n",
       "      <td>4</td>\n",
       "      <td>2</td>\n",
       "      <td>0</td>\n",
       "    </tr>\n",
       "    <tr>\n",
       "      <th>2</th>\n",
       "      <td>A Codrington</td>\n",
       "      <td>5</td>\n",
       "      <td>28</td>\n",
       "      <td>65</td>\n",
       "      <td>5</td>\n",
       "      <td>5.60</td>\n",
       "      <td>43.08</td>\n",
       "      <td>16</td>\n",
       "      <td>2</td>\n",
       "      <td>0</td>\n",
       "      <td>0</td>\n",
       "      <td>0</td>\n",
       "    </tr>\n",
       "    <tr>\n",
       "      <th>3</th>\n",
       "      <td>A Flintoff</td>\n",
       "      <td>12</td>\n",
       "      <td>248</td>\n",
       "      <td>357</td>\n",
       "      <td>12</td>\n",
       "      <td>20.67</td>\n",
       "      <td>69.47</td>\n",
       "      <td>64</td>\n",
       "      <td>20</td>\n",
       "      <td>7</td>\n",
       "      <td>1</td>\n",
       "      <td>0</td>\n",
       "    </tr>\n",
       "    <tr>\n",
       "      <th>4</th>\n",
       "      <td>A Flower</td>\n",
       "      <td>7</td>\n",
       "      <td>332</td>\n",
       "      <td>459</td>\n",
       "      <td>7</td>\n",
       "      <td>47.43</td>\n",
       "      <td>72.33</td>\n",
       "      <td>71</td>\n",
       "      <td>30</td>\n",
       "      <td>1</td>\n",
       "      <td>3</td>\n",
       "      <td>0</td>\n",
       "    </tr>\n",
       "  </tbody>\n",
       "</table>\n",
       "</div>"
      ],
      "text/plain": [
       "         Player   I    R    B  Outs    Avg     SR  HS  4s  6s  50  100\n",
       "0       A Bagai  15  343  556    13  26.38  61.69  84  38   0   2    0\n",
       "1   A Balbirnie   6  236  260     6  39.33  90.77  97  20   4   2    0\n",
       "2  A Codrington   5   28   65     5   5.60  43.08  16   2   0   0    0\n",
       "3    A Flintoff  12  248  357    12  20.67  69.47  64  20   7   1    0\n",
       "4      A Flower   7  332  459     7  47.43  72.33  71  30   1   3    0"
      ]
     },
     "execution_count": 6,
     "metadata": {},
     "output_type": "execute_result"
    }
   ],
   "source": [
    "import pandas as pd\n",
    "data = pd.read_csv(r'..\\..\\source\\leadersdata.csv')\n",
    "data.head()"
   ]
  },
  {
   "cell_type": "code",
   "execution_count": 10,
   "metadata": {},
   "outputs": [
    {
     "data": {
      "text/plain": [
       "'\\ninplace=True: Ez azt jelenti, hogy a változtatásokat közvetlenül a data \\nDataFrame-en hajtja végre. Ha inplace=False lenne, akkor egy új DataFrame-et \\nadna vissza az eredményként, és a data DataFrame nem változna.\\nHa megnézzük a kiiratásokat ezután nem lesznek ott a számok, mint index.\\n'"
      ]
     },
     "execution_count": 10,
     "metadata": {},
     "output_type": "execute_result"
    }
   ],
   "source": [
    "#Indexként állítsuk be a játékos nevét\n",
    "'''\n",
    "inplace=True: Ez azt jelenti, hogy a változtatásokat közvetlenül a data \n",
    "DataFrame-en hajtja végre. Ha inplace=False lenne, akkor egy új DataFrame-et \n",
    "adna vissza az eredményként, és a data DataFrame nem változna.\n",
    "Ha megnézzük a kiiratásokat ezután nem lesznek ott a számok, mint index.\n",
    "'''\n",
    "data.set_index('Player', inplace=True)\n"
   ]
  },
  {
   "cell_type": "code",
   "execution_count": 15,
   "metadata": {},
   "outputs": [],
   "source": [
    "#Minden oszlophoz csinálunk egy series-t, ebben a játékos neve és az I \n",
    "#oszlop lesz.\n",
    "innings = data['I']\n",
    "runs = data['R']\n",
    "balls = data['B']\n",
    "outs = data['Outs']\n",
    "batting_average = data['Avg']\n",
    "strike_rate = data['SR']\n",
    "highest_score = data['HS']\n",
    "number_of_fours = data['4s']\n",
    "number_of_sixes = data['6s']\n",
    "number_of_fifties = data['50']\n",
    "number_of_hundreds = data['100']\n"
   ]
  },
  {
   "cell_type": "code",
   "execution_count": 16,
   "metadata": {},
   "outputs": [
    {
     "name": "stdout",
     "output_type": "stream",
     "text": [
      "Innings:\n",
      " Player\n",
      "A Bagai         15\n",
      "A Balbirnie      6\n",
      "A Codrington     5\n",
      "A Flintoff      12\n",
      "A Flower         7\n",
      "Name: I, dtype: int64\n",
      "Runs:\n",
      " Player\n",
      "A Bagai         343\n",
      "A Balbirnie     236\n",
      "A Codrington     28\n",
      "A Flintoff      248\n",
      "A Flower        332\n",
      "Name: R, dtype: object\n",
      "Balls:\n",
      " Player\n",
      "A Bagai         556\n",
      "A Balbirnie     260\n",
      "A Codrington     65\n",
      "A Flintoff      357\n",
      "A Flower        459\n",
      "Name: B, dtype: object\n",
      "Outs:\n",
      " Player\n",
      "A Bagai         13\n",
      "A Balbirnie      6\n",
      "A Codrington     5\n",
      "A Flintoff      12\n",
      "A Flower         7\n",
      "Name: Outs, dtype: int64\n",
      "Batting Average:\n",
      " Player\n",
      "A Bagai         26.38\n",
      "A Balbirnie     39.33\n",
      "A Codrington     5.60\n",
      "A Flintoff      20.67\n",
      "A Flower        47.43\n",
      "Name: Avg, dtype: float64\n",
      "Strike Rate:\n",
      " Player\n",
      "A Bagai         61.69\n",
      "A Balbirnie     90.77\n",
      "A Codrington    43.08\n",
      "A Flintoff      69.47\n",
      "A Flower        72.33\n",
      "Name: SR, dtype: float64\n",
      "Highest Score:\n",
      " Player\n",
      "A Bagai         84\n",
      "A Balbirnie     97\n",
      "A Codrington    16\n",
      "A Flintoff      64\n",
      "A Flower        71\n",
      "Name: HS, dtype: int64\n",
      "Number of Fours:\n",
      " Player\n",
      "A Bagai         38\n",
      "A Balbirnie     20\n",
      "A Codrington     2\n",
      "A Flintoff      20\n",
      "A Flower        30\n",
      "Name: 4s, dtype: int64\n",
      "Number of Sixes:\n",
      " Player\n",
      "A Bagai         0\n",
      "A Balbirnie     4\n",
      "A Codrington    0\n",
      "A Flintoff      7\n",
      "A Flower        1\n",
      "Name: 6s, dtype: int64\n",
      "Number of Fifties:\n",
      " Player\n",
      "A Bagai         2\n",
      "A Balbirnie     2\n",
      "A Codrington    0\n",
      "A Flintoff      1\n",
      "A Flower        3\n",
      "Name: 50, dtype: int64\n",
      "Number of Hundreds:\n",
      " Player\n",
      "A Bagai         0\n",
      "A Balbirnie     0\n",
      "A Codrington    0\n",
      "A Flintoff      0\n",
      "A Flower        0\n",
      "Name: 100, dtype: int64\n"
     ]
    }
   ],
   "source": [
    "# Printing the first 5 rows of each series\n",
    "print(\"Innings:\\n\", innings.head())\n",
    "print(\"Runs:\\n\", runs.head())\n",
    "print(\"Balls:\\n\", balls.head())\n",
    "print(\"Outs:\\n\", outs.head())\n",
    "print(\"Batting Average:\\n\", batting_average.head())\n",
    "print(\"Strike Rate:\\n\", strike_rate.head())\n",
    "print(\"Highest Score:\\n\", highest_score.head())\n",
    "print(\"Number of Fours:\\n\", number_of_fours.head())\n",
    "print(\"Number of Sixes:\\n\", number_of_sixes.head())\n",
    "print(\"Number of Fifties:\\n\", number_of_fifties.head())\n",
    "print(\"Number of Hundreds:\\n\", number_of_hundreds.head())"
   ]
  },
  {
   "cell_type": "markdown",
   "metadata": {},
   "source": [
    "Hány játékos ütésátlaga nagyobb 30-nál a batting_average sorozatban?"
   ]
  },
  {
   "cell_type": "code",
   "execution_count": 19,
   "metadata": {},
   "outputs": [
    {
     "data": {
      "text/plain": [
       "169"
      ]
     },
     "execution_count": 19,
     "metadata": {},
     "output_type": "execute_result"
    }
   ],
   "source": [
    "len(batting_average[batting_average > 30])"
   ]
  },
  {
   "cell_type": "markdown",
   "metadata": {},
   "source": [
    "Egy játékos által a futások sorozatában elért maximális futások száma"
   ]
  },
  {
   "cell_type": "code",
   "execution_count": 21,
   "metadata": {},
   "outputs": [
    {
     "data": {
      "text/plain": [
       "'998'"
      ]
     },
     "execution_count": 21,
     "metadata": {},
     "output_type": "execute_result"
    }
   ],
   "source": [
    "runs.max()"
   ]
  },
  {
   "cell_type": "markdown",
   "metadata": {},
   "source": [
    "Name the player with maximum runs"
   ]
  },
  {
   "cell_type": "code",
   "execution_count": 24,
   "metadata": {},
   "outputs": [
    {
     "data": {
      "text/plain": [
       "Player\n",
       "DPMD Jayawardene    998\n",
       "Name: R, dtype: object"
      ]
     },
     "execution_count": 24,
     "metadata": {},
     "output_type": "execute_result"
    }
   ],
   "source": [
    "runs[runs == runs.max()]"
   ]
  },
  {
   "cell_type": "markdown",
   "metadata": {},
   "source": [
    "Nevezd meg azt a játékost, aki a legkevesebb labdát játszott?\n",
    "\n",
    "Előfordulhat, hogy egynél több játékos játszotta a legkevesebb labdát. \n",
    "Ebben az esetben vesszővel elválasztva írja be a kereszt- és az utolsó \n",
    "játékosok nevét. Például írjon A-t, B-t."
   ]
  },
  {
   "cell_type": "code",
   "execution_count": 25,
   "metadata": {},
   "outputs": [
    {
     "data": {
      "text/plain": [
       "Player\n",
       "CJ Jordan        1\n",
       "EC Rainsford     1\n",
       "JJ Bumrah        1\n",
       "KW Richardson    1\n",
       "M Zondeki        1\n",
       "MM Sharma        1\n",
       "PHT Kaushal      1\n",
       "PJK Mooney       1\n",
       "PT Collins       1\n",
       "SW Tait          1\n",
       "XJ Doherty       1\n",
       "Name: B, dtype: object"
      ]
     },
     "execution_count": 25,
     "metadata": {},
     "output_type": "execute_result"
    }
   ],
   "source": [
    "balls[balls == balls.min()]"
   ]
  },
  {
   "cell_type": "markdown",
   "metadata": {},
   "source": [
    "How many players have played more than 500 balls in the balls series?"
   ]
  },
  {
   "cell_type": "code",
   "execution_count": 34,
   "metadata": {},
   "outputs": [],
   "source": [
    "balls = balls.str.replace(',','.')\n",
    "\n"
   ]
  },
  {
   "cell_type": "code",
   "execution_count": 35,
   "metadata": {},
   "outputs": [],
   "source": [
    "balls = balls.astype('float')"
   ]
  },
  {
   "cell_type": "code",
   "execution_count": 37,
   "metadata": {},
   "outputs": [
    {
     "data": {
      "text/plain": [
       "49"
      ]
     },
     "execution_count": 37,
     "metadata": {},
     "output_type": "execute_result"
    }
   ],
   "source": [
    "len(balls[balls > 500])"
   ]
  },
  {
   "cell_type": "markdown",
   "metadata": {},
   "source": [
    "How many players have a strike rate not equal to 70 in the strike_rate series"
   ]
  },
  {
   "cell_type": "code",
   "execution_count": 40,
   "metadata": {},
   "outputs": [
    {
     "data": {
      "text/plain": [
       "339"
      ]
     },
     "execution_count": 40,
     "metadata": {},
     "output_type": "execute_result"
    }
   ],
   "source": [
    "len(strike_rate[strike_rate > 70])"
   ]
  },
  {
   "cell_type": "markdown",
   "metadata": {},
   "source": [
    "What is the minimum number of innings played by a player in the innings series?"
   ]
  },
  {
   "cell_type": "code",
   "execution_count": 46,
   "metadata": {},
   "outputs": [
    {
     "data": {
      "text/plain": [
       "1"
      ]
     },
     "execution_count": 46,
     "metadata": {},
     "output_type": "execute_result"
    }
   ],
   "source": [
    "innings.min()"
   ]
  },
  {
   "cell_type": "code",
   "execution_count": 45,
   "metadata": {},
   "outputs": [
    {
     "data": {
      "text/html": [
       "<div>\n",
       "<style scoped>\n",
       "    .dataframe tbody tr th:only-of-type {\n",
       "        vertical-align: middle;\n",
       "    }\n",
       "\n",
       "    .dataframe tbody tr th {\n",
       "        vertical-align: top;\n",
       "    }\n",
       "\n",
       "    .dataframe thead th {\n",
       "        text-align: right;\n",
       "    }\n",
       "</style>\n",
       "<table border=\"1\" class=\"dataframe\">\n",
       "  <thead>\n",
       "    <tr style=\"text-align: right;\">\n",
       "      <th></th>\n",
       "      <th>I</th>\n",
       "      <th>R</th>\n",
       "      <th>B</th>\n",
       "      <th>Outs</th>\n",
       "      <th>Avg</th>\n",
       "      <th>SR</th>\n",
       "      <th>HS</th>\n",
       "      <th>4s</th>\n",
       "      <th>6s</th>\n",
       "      <th>50</th>\n",
       "      <th>100</th>\n",
       "    </tr>\n",
       "    <tr>\n",
       "      <th>Player</th>\n",
       "      <th></th>\n",
       "      <th></th>\n",
       "      <th></th>\n",
       "      <th></th>\n",
       "      <th></th>\n",
       "      <th></th>\n",
       "      <th></th>\n",
       "      <th></th>\n",
       "      <th></th>\n",
       "      <th></th>\n",
       "      <th></th>\n",
       "    </tr>\n",
       "  </thead>\n",
       "  <tbody>\n",
       "    <tr>\n",
       "      <th>A Patel</th>\n",
       "      <td>1</td>\n",
       "      <td>25</td>\n",
       "      <td>29</td>\n",
       "      <td>1</td>\n",
       "      <td>25.0</td>\n",
       "      <td>86.21</td>\n",
       "      <td>25</td>\n",
       "      <td>3</td>\n",
       "      <td>0</td>\n",
       "      <td>0</td>\n",
       "      <td>0</td>\n",
       "    </tr>\n",
       "    <tr>\n",
       "      <th>A Zampa</th>\n",
       "      <td>1</td>\n",
       "      <td>1</td>\n",
       "      <td>3</td>\n",
       "      <td>1</td>\n",
       "      <td>1.0</td>\n",
       "      <td>33.33</td>\n",
       "      <td>1</td>\n",
       "      <td>0</td>\n",
       "      <td>0</td>\n",
       "      <td>0</td>\n",
       "      <td>0</td>\n",
       "    </tr>\n",
       "    <tr>\n",
       "      <th>ADR Campbell</th>\n",
       "      <td>1</td>\n",
       "      <td>7</td>\n",
       "      <td>25</td>\n",
       "      <td>1</td>\n",
       "      <td>7.0</td>\n",
       "      <td>28.00</td>\n",
       "      <td>7</td>\n",
       "      <td>0</td>\n",
       "      <td>0</td>\n",
       "      <td>0</td>\n",
       "      <td>0</td>\n",
       "    </tr>\n",
       "    <tr>\n",
       "      <th>AJ McKay</th>\n",
       "      <td>1</td>\n",
       "      <td>0</td>\n",
       "      <td>2</td>\n",
       "      <td>1</td>\n",
       "      <td>0.0</td>\n",
       "      <td>0.00</td>\n",
       "      <td>0</td>\n",
       "      <td>0</td>\n",
       "      <td>0</td>\n",
       "      <td>0</td>\n",
       "      <td>0</td>\n",
       "    </tr>\n",
       "    <tr>\n",
       "      <th>Akram Khan</th>\n",
       "      <td>1</td>\n",
       "      <td>13</td>\n",
       "      <td>38</td>\n",
       "      <td>1</td>\n",
       "      <td>13.0</td>\n",
       "      <td>34.21</td>\n",
       "      <td>13</td>\n",
       "      <td>0</td>\n",
       "      <td>0</td>\n",
       "      <td>0</td>\n",
       "      <td>0</td>\n",
       "    </tr>\n",
       "    <tr>\n",
       "      <th>...</th>\n",
       "      <td>...</td>\n",
       "      <td>...</td>\n",
       "      <td>...</td>\n",
       "      <td>...</td>\n",
       "      <td>...</td>\n",
       "      <td>...</td>\n",
       "      <td>...</td>\n",
       "      <td>...</td>\n",
       "      <td>...</td>\n",
       "      <td>...</td>\n",
       "      <td>...</td>\n",
       "    </tr>\n",
       "    <tr>\n",
       "      <th>UT Yadav</th>\n",
       "      <td>1</td>\n",
       "      <td>0</td>\n",
       "      <td>5</td>\n",
       "      <td>1</td>\n",
       "      <td>0.0</td>\n",
       "      <td>0.00</td>\n",
       "      <td>0</td>\n",
       "      <td>0</td>\n",
       "      <td>0</td>\n",
       "      <td>0</td>\n",
       "      <td>0</td>\n",
       "    </tr>\n",
       "    <tr>\n",
       "      <th>WF Stelling</th>\n",
       "      <td>1</td>\n",
       "      <td>1</td>\n",
       "      <td>4</td>\n",
       "      <td>0</td>\n",
       "      <td>0.0</td>\n",
       "      <td>25.00</td>\n",
       "      <td>1</td>\n",
       "      <td>0</td>\n",
       "      <td>0</td>\n",
       "      <td>0</td>\n",
       "      <td>0</td>\n",
       "    </tr>\n",
       "    <tr>\n",
       "      <th>XJ Doherty</th>\n",
       "      <td>1</td>\n",
       "      <td>0</td>\n",
       "      <td>1</td>\n",
       "      <td>0</td>\n",
       "      <td>0.0</td>\n",
       "      <td>0.00</td>\n",
       "      <td>0</td>\n",
       "      <td>0</td>\n",
       "      <td>0</td>\n",
       "      <td>0</td>\n",
       "      <td>0</td>\n",
       "    </tr>\n",
       "    <tr>\n",
       "      <th>Yasir Shah</th>\n",
       "      <td>1</td>\n",
       "      <td>13</td>\n",
       "      <td>23</td>\n",
       "      <td>1</td>\n",
       "      <td>13.0</td>\n",
       "      <td>56.52</td>\n",
       "      <td>13</td>\n",
       "      <td>1</td>\n",
       "      <td>0</td>\n",
       "      <td>0</td>\n",
       "      <td>0</td>\n",
       "    </tr>\n",
       "    <tr>\n",
       "      <th>YS Chahal</th>\n",
       "      <td>1</td>\n",
       "      <td>5</td>\n",
       "      <td>5</td>\n",
       "      <td>1</td>\n",
       "      <td>5.0</td>\n",
       "      <td>100.00</td>\n",
       "      <td>5</td>\n",
       "      <td>1</td>\n",
       "      <td>0</td>\n",
       "      <td>0</td>\n",
       "      <td>0</td>\n",
       "    </tr>\n",
       "  </tbody>\n",
       "</table>\n",
       "<p>79 rows × 11 columns</p>\n",
       "</div>"
      ],
      "text/plain": [
       "              I   R   B  Outs   Avg      SR  HS  4s  6s  50  100\n",
       "Player                                                          \n",
       "A Patel       1  25  29     1  25.0   86.21  25   3   0   0    0\n",
       "A Zampa       1   1   3     1   1.0   33.33   1   0   0   0    0\n",
       "ADR Campbell  1   7  25     1   7.0   28.00   7   0   0   0    0\n",
       "AJ McKay      1   0   2     1   0.0    0.00   0   0   0   0    0\n",
       "Akram Khan    1  13  38     1  13.0   34.21  13   0   0   0    0\n",
       "...          ..  ..  ..   ...   ...     ...  ..  ..  ..  ..  ...\n",
       "UT Yadav      1   0   5     1   0.0    0.00   0   0   0   0    0\n",
       "WF Stelling   1   1   4     0   0.0   25.00   1   0   0   0    0\n",
       "XJ Doherty    1   0   1     0   0.0    0.00   0   0   0   0    0\n",
       "Yasir Shah    1  13  23     1  13.0   56.52  13   1   0   0    0\n",
       "YS Chahal     1   5   5     1   5.0  100.00   5   1   0   0    0\n",
       "\n",
       "[79 rows x 11 columns]"
      ]
     },
     "execution_count": 45,
     "metadata": {},
     "output_type": "execute_result"
    }
   ],
   "source": [
    "data[data['I'] == data['I'].min()]"
   ]
  },
  {
   "cell_type": "markdown",
   "metadata": {},
   "source": [
    "How many players have a batting average greater than 50 in the batting_average series"
   ]
  },
  {
   "cell_type": "code",
   "execution_count": 47,
   "metadata": {},
   "outputs": [
    {
     "data": {
      "text/plain": [
       "52"
      ]
     },
     "execution_count": 47,
     "metadata": {},
     "output_type": "execute_result"
    }
   ],
   "source": [
    "len(batting_average[batting_average > 50])"
   ]
  },
  {
   "cell_type": "markdown",
   "metadata": {},
   "source": [
    "How many players have a batting average between 20 and 30 (inclusive) in the batting_average series"
   ]
  },
  {
   "cell_type": "code",
   "execution_count": 51,
   "metadata": {},
   "outputs": [
    {
     "data": {
      "text/plain": [
       "113"
      ]
     },
     "execution_count": 51,
     "metadata": {},
     "output_type": "execute_result"
    }
   ],
   "source": [
    "len(batting_average[(batting_average >= 20) & (batting_average <= 30)])"
   ]
  },
  {
   "cell_type": "markdown",
   "metadata": {},
   "source": [
    "Calculating the Average Balls Faced by a Player.\n"
   ]
  },
  {
   "cell_type": "code",
   "execution_count": 52,
   "metadata": {},
   "outputs": [
    {
     "data": {
      "text/plain": [
       "156.99960802469133"
      ]
     },
     "execution_count": 52,
     "metadata": {},
     "output_type": "execute_result"
    }
   ],
   "source": [
    "balls.mean()"
   ]
  },
  {
   "cell_type": "markdown",
   "metadata": {},
   "source": [
    "How many players have a strike rate greater than 120 in the strike_rate series"
   ]
  },
  {
   "cell_type": "code",
   "execution_count": 54,
   "metadata": {},
   "outputs": [
    {
     "data": {
      "text/plain": [
       "39"
      ]
     },
     "execution_count": 54,
     "metadata": {},
     "output_type": "execute_result"
    }
   ],
   "source": [
    "len(strike_rate[strike_rate > 120])"
   ]
  },
  {
   "cell_type": "markdown",
   "metadata": {},
   "source": [
    "Provide the names of the top three players from the strike_rate series\n",
    "\n",
    "Write the names of the players in the decreasing order of their strike rate separated by a comma. For example, write A, B, C."
   ]
  },
  {
   "cell_type": "code",
   "execution_count": 57,
   "metadata": {},
   "outputs": [
    {
     "data": {
      "text/plain": [
       "Player\n",
       "KD Mills        233.33\n",
       "LD Chandimal    216.67\n",
       "F Behardien     205.56\n",
       "Name: SR, dtype: float64"
      ]
     },
     "execution_count": 57,
     "metadata": {},
     "output_type": "execute_result"
    }
   ],
   "source": [
    "strike_rate.sort_values(ascending=False).head(3)\n"
   ]
  },
  {
   "cell_type": "markdown",
   "metadata": {},
   "source": [
    "Sum of Maximums from number_of_fours and number_of_sixes Series\n",
    "\n",
    "The goal is to calculate the sum of the maximum values from both series combined. \n",
    "For example, if the maximum value in number_of_fours is 10 and the maximum \n",
    "value in number_of_sixes is 20, then the answer is 30."
   ]
  },
  {
   "cell_type": "code",
   "execution_count": 58,
   "metadata": {},
   "outputs": [
    {
     "data": {
      "text/plain": [
       "196"
      ]
     },
     "execution_count": 58,
     "metadata": {},
     "output_type": "execute_result"
    }
   ],
   "source": [
    "number_of_fours.max() + number_of_sixes.max()"
   ]
  },
  {
   "cell_type": "markdown",
   "metadata": {},
   "source": [
    "How many players have a batting average below 10 in the batting_average series"
   ]
  },
  {
   "cell_type": "code",
   "execution_count": 61,
   "metadata": {},
   "outputs": [
    {
     "data": {
      "text/plain": [
       "220"
      ]
     },
     "execution_count": 61,
     "metadata": {},
     "output_type": "execute_result"
    }
   ],
   "source": [
    "len(batting_average[batting_average < 10])"
   ]
  },
  {
   "cell_type": "markdown",
   "metadata": {},
   "source": [
    "Name the player who hit maximum sixes\n",
    "\n",
    "Write the player name along with the number of sixes hit by the player \n",
    "separated by a comma. For example, write A, 10."
   ]
  },
  {
   "cell_type": "code",
   "execution_count": 62,
   "metadata": {},
   "outputs": [
    {
     "data": {
      "text/plain": [
       "Player\n",
       "CH Gayle    49\n",
       "Name: 6s, dtype: int64"
      ]
     },
     "execution_count": 62,
     "metadata": {},
     "output_type": "execute_result"
    }
   ],
   "source": [
    "number_of_sixes.sort_values(ascending=False).head(1)"
   ]
  },
  {
   "cell_type": "markdown",
   "metadata": {},
   "source": [
    "How many players have a strike rate between 80 and 90 (inclusive) in the \n",
    "strike_rate series"
   ]
  },
  {
   "cell_type": "code",
   "execution_count": 63,
   "metadata": {},
   "outputs": [
    {
     "data": {
      "text/plain": [
       "92"
      ]
     },
     "execution_count": 63,
     "metadata": {},
     "output_type": "execute_result"
    }
   ],
   "source": [
    "len(strike_rate[(strike_rate >= 80) & (strike_rate <= 90)])"
   ]
  },
  {
   "cell_type": "markdown",
   "metadata": {},
   "source": [
    "What is the total number of runs scored by all players in the runs series"
   ]
  },
  {
   "cell_type": "code",
   "execution_count": 66,
   "metadata": {},
   "outputs": [
    {
     "name": "stdout",
     "output_type": "stream",
     "text": [
      "34323628248332259925751518343101,2072034468410388616453319210726191203612828991072711171997875001364171401313338621231420872961709858219053259922014332151542261937545022281053465047407424517458152561432732268669019012579467293223531,1867423112500851831622399705362154390224334831166131326712031914241460489926258256412179331695238231901671732071088199864953231421522439931714523513113755741152867281749269511862597739318656232128790747263310388965550159116073619417712278551055334933754319796445311108726226166388124038429117171785410198451382651116642214216230519020197937182515585806114197551345391842592327587414715813255773137443135611315532340267440620325101221245844353411491149658181719064724901,532147035853915512253499154361809418257538911211917731185293418411345418716441014271,00222182451248295812597684366116163199022300116371563914856881938598888995180787298726726046065121111299483447197731028717782251041178734823138278036828877130218654241636714474035356046175111082521362010016798856166310110313281282671934742972058972501483231641141991545064039953101347254270341051221213965346109781676552611382743582105711646210739533061,160203011437625815371270122521812181023284771630325909627492182749726116443302601232733111,146177210021252643358334313472570405153213416741408341,219143864333237883601612170193330610437185191133234421231741,11230450641110915511404491231601,030843581344210153179177124221712033313662769710801374349573852104\n"
     ]
    }
   ],
   "source": [
    "print(runs.sum())"
   ]
  },
  {
   "cell_type": "markdown",
   "metadata": {},
   "source": [
    "What is the range (difference between the maximum and minimum values) \n",
    "of the number_of_fifties series"
   ]
  },
  {
   "cell_type": "code",
   "execution_count": 67,
   "metadata": {},
   "outputs": [
    {
     "data": {
      "text/plain": [
       "10"
      ]
     },
     "execution_count": 67,
     "metadata": {},
     "output_type": "execute_result"
    }
   ],
   "source": [
    "number_of_fifties.max() - number_of_fifties.min()"
   ]
  },
  {
   "cell_type": "markdown",
   "metadata": {},
   "source": [
    "How many players have a strike rate below 60 in the strike_rate series"
   ]
  },
  {
   "cell_type": "code",
   "execution_count": 68,
   "metadata": {},
   "outputs": [
    {
     "data": {
      "text/plain": [
       "221"
      ]
     },
     "execution_count": 68,
     "metadata": {},
     "output_type": "execute_result"
    }
   ],
   "source": [
    "len(strike_rate[strike_rate < 60])"
   ]
  },
  {
   "cell_type": "markdown",
   "metadata": {},
   "source": [
    "Calculating the Mean Number of Boundaries (Fours + Sixes) Hit by a Player\n",
    "\n",
    "In this activity, you will be calculating the mean number of boundaries hit by \n",
    "a player. Boundaries include both fours and sixes. You will be given two series: \n",
    "number_of_fours and number_of_sixes. Your task is to find the mean number of \n",
    "boundaries hit by combining the values from both series.\n",
    "\n",
    "    Remember to round your answer to two decimal places. For example, \n",
    "    if the mean number of boundaries is 1.453, write 1.45."
   ]
  },
  {
   "cell_type": "code",
   "execution_count": 69,
   "metadata": {},
   "outputs": [
    {
     "data": {
      "text/plain": [
       "17.566358024691358"
      ]
     },
     "execution_count": 69,
     "metadata": {},
     "output_type": "execute_result"
    }
   ],
   "source": [
    "(number_of_fours + number_of_sixes).mean()"
   ]
  },
  {
   "cell_type": "markdown",
   "metadata": {},
   "source": [
    "Players with highest score in highest_score series\n",
    "\n",
    "Create a new series named top_five_scores that contains the top five players \n",
    "names with the highest score in the highest_score series. \n",
    "The series should be sorted in descending order based on the scores."
   ]
  },
  {
   "cell_type": "code",
   "execution_count": 72,
   "metadata": {},
   "outputs": [],
   "source": [
    "top_five_scores = highest_score.sort_values(ascending=True).head(5)"
   ]
  },
  {
   "cell_type": "code",
   "execution_count": 73,
   "metadata": {},
   "outputs": [
    {
     "data": {
      "text/plain": [
       "Player\n",
       "PJK Mooney       0\n",
       "KED Carroll      0\n",
       "Kamran Shazad    0\n",
       "AJ McKay         0\n",
       "MBS Jonkman      0\n",
       "Name: HS, dtype: int64"
      ]
     },
     "execution_count": 73,
     "metadata": {},
     "output_type": "execute_result"
    }
   ],
   "source": [
    "top_five_scores"
   ]
  }
 ],
 "metadata": {
  "kernelspec": {
   "display_name": "base",
   "language": "python",
   "name": "python3"
  },
  "language_info": {
   "codemirror_mode": {
    "name": "ipython",
    "version": 3
   },
   "file_extension": ".py",
   "mimetype": "text/x-python",
   "name": "python",
   "nbconvert_exporter": "python",
   "pygments_lexer": "ipython3",
   "version": "3.11.7"
  }
 },
 "nbformat": 4,
 "nbformat_minor": 2
}
