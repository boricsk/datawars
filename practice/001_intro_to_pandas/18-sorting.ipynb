{
 "cells": [
  {
   "cell_type": "markdown",
   "metadata": {},
   "source": [
    "A DataFrame rendezése rendkívül egyszerű a rendelkezésre álló két fő módszernek köszönhetően: a .sort_index() és a .sort_values(). Az egyetlen fontos dolog, amit szem előtt kell tartani, az a megváltoztathatatlanság és a helyben történő módosítások fogalma, amelyeket a korábbi laboratóriumokban tárgyaltunk.\n",
    "\n",
    "Alapértelmezés szerint minden rendezési művelet egy új adatkeretet ad vissza az alkalmazott rendezési műveletek eredményeivel. Ahogy már többször elmondtuk, ez a legkedveltebb módszer: jó a megváltoztathatatlanság.\n",
    "\n",
    "Most a sor: kapcsolja be a labort, és lépjen a következő részre!\n",
    "\n",
    "#### Értékek rendezése\n",
    "\n",
    "Az adatkeretek egy adott oszlop értékei szerinti rendezéséhez a .sort_values() metódust használjuk. Vizsgáljuk meg az alapértelmezett viselkedést:\n",
    "\n",
    "     Ne felejtse el követni a kapcsolódó jegyzetfüzetet"
   ]
  },
  {
   "cell_type": "code",
   "execution_count": 1,
   "metadata": {},
   "outputs": [],
   "source": [
    "import pandas as pd\n",
    "# Lists of data\n",
    "data = {'Revenue': [274515,200734,182527,181945,143015,129184,92224,85965,84893,\n",
    "                    82345,77867,73620,69864,63191],\n",
    "        'Employees': [147000,267937,135301,878429,163000,197000,158000,58604,\n",
    "                      109700,350864,110600,364800,85858,243540],\n",
    "        'Sector': ['Consumer Electronics','Consumer Electronics','Software Services',\n",
    "                   'Chip Manufacturing','Software Services','Consumer Electronics',\n",
    "                   'Consumer Electronics','Software Services','Consumer Electronics',\n",
    "                   'Consumer Electronics','Chip Manufacturing','Software Services',\n",
    "                   'Software Services','Consumer Electronics'],\n",
    "        'Founding Date':['01-04-1976','13-01-1969','04-09-1998','20-02-1974',\n",
    "                         '04-04-1975','15-09-1987','01-02-1984','04-02-2004',\n",
    "                         '07-04-1946','01-01-1910','18-07-1968','16-06-1911',\n",
    "                         '11-11-1998','07-03-1918'],\n",
    "        'Country':['USA','South Korea','USA','Taiwan','USA','China','USA','USA',\n",
    "                   'Japan','Japan','USA','USA','China','Japan']} \n",
    "index = ['Apple','Samsung','Alphabet','Foxconn','Microsoft','Huawei',\n",
    "         'Dell Technologies','Meta','Sony','Hitachi','Intel','IBM',\n",
    "         'Tencent','Panasonic']\n",
    "\n",
    "df = pd.DataFrame(data, index=index)\n",
    "df[\"Revenue per Employee\"] = df[\"Revenue\"] / df[\"Employees\"]"
   ]
  },
  {
   "cell_type": "markdown",
   "metadata": {},
   "source": [
    "Alapértelmezett formájában a .sort_values() az oszlop nevét használja rendezésként, és egy ÚJ adatkeretet ad vissza az oszlop szerint növekvő sorrendben."
   ]
  },
  {
   "cell_type": "code",
   "execution_count": null,
   "metadata": {},
   "outputs": [],
   "source": [
    "df.sort_values('Employees')"
   ]
  },
  {
   "cell_type": "markdown",
   "metadata": {},
   "source": [
    "Ehelyett, ha csökkenő sorrendben szeretnénk rendezni, akkor az ascending= argumentumot False-ként kell megadnunk:"
   ]
  },
  {
   "cell_type": "code",
   "execution_count": null,
   "metadata": {},
   "outputs": [],
   "source": [
    "df.sort_values('Employees', ascending=False)"
   ]
  },
  {
   "cell_type": "markdown",
   "metadata": {},
   "source": [
    "#### Rendezés több oszlop szerint\n",
    "\n",
    "Több oszlopot is átadhatunk rendezési paraméterként, és a második oszlop megszakítaná az esetleges \"döntetlen\"-et. Ez a .sort_values() metódus teljes formája:"
   ]
  },
  {
   "cell_type": "code",
   "execution_count": null,
   "metadata": {},
   "outputs": [],
   "source": [
    "df.sort_values(by=['Country', 'Employees'], ascending=[False, True])\n"
   ]
  },
  {
   "cell_type": "markdown",
   "metadata": {},
   "source": [
    "A by paraméter határozza meg az oszlopokat, a növekvő sorrendben pedig egy lista határozza meg az egyes oszlopok rendezési irányát. Ebben az esetben először az ország neve szerint rendezünk csökkenő sorrendben (lexikográfiai sorrendben), majd az alkalmazottak száma szerint növekvő sorrendben.\n",
    "\n",
    "#### A megváltoztathatatlanság és az inplace paraméter\n",
    "\n",
    "Mint említettük, ezek a műveletek alapértelmezés szerint megváltoztathatatlanok: a metódus egy új adatkeretet ad vissza az alkalmazott változtatásokkal. Ha a rendezést közvetlenül az alapul szolgáló adatkeretre szeretnénk alkalmazni, akkor át kell adnunk az inplace=True paramétert."
   ]
  },
  {
   "cell_type": "code",
   "execution_count": null,
   "metadata": {},
   "outputs": [],
   "source": [
    "df.sort_values(by=['Employees'], inplace=True)\n"
   ]
  },
  {
   "cell_type": "markdown",
   "metadata": {},
   "source": [
    "Amint azt már többször megismételtük, az adatkeret mutációja nem ajánlott, jobb, ha a különböző műveletekről különböző másolatokat készítünk.\n"
   ]
  },
  {
   "cell_type": "markdown",
   "metadata": {},
   "source": [
    "Rendezze az adatkeretet bevétel szerint csökkenő sorrendben\n",
    "\n",
    "Rendezze a df adatkeretet bevétel szerint csökkenő sorrendben. Ennek egy megváltoztathatatlan műveletnek kell lennie, és az eredményeket a df_rev_desc változóban kell tárolnia.\n"
   ]
  },
  {
   "cell_type": "code",
   "execution_count": null,
   "metadata": {},
   "outputs": [],
   "source": [
    "df_rev_desc = df.sort_values(by=['Revenue'], ascending = False)"
   ]
  },
  {
   "cell_type": "markdown",
   "metadata": {},
   "source": [
    "Rendezés szektor (növekvő) és bevétel (csökkenő) szerint\n",
    "\n",
    "Rendezze a df adatkeretet szektor szerint növekvő sorrendbe és bevétel szerint csökkenő sorrendbe. Ennek egy megváltoztathatatlan műveletnek kell lennie, és az eredményeket a df_sect_rev változóban kell tárolnia."
   ]
  },
  {
   "cell_type": "code",
   "execution_count": null,
   "metadata": {},
   "outputs": [],
   "source": [
    "df_sect_rev = df.sort_values(by=['Sector', 'Revenue'], ascending = [True, False])"
   ]
  },
  {
   "cell_type": "markdown",
   "metadata": {},
   "source": [
    "#### Index szerinti rendezés\n",
    "\n",
    "A DataFrame rendezése indexe alapján egyszerű, a sort_index metódust használjuk, amely ugyanazokat a növekvő és inplace paramétereket veszi fel, mint a .sort_values. Példa:\n",
    "\n",
    "df.sort_index(ascending=False)\n",
    "\n",
    "A kulcs az, hogy megértsük, milyen típusú indexszel van dolgunk. A karakterlánc-alapú indexek, mint a példákban is, lexikográfiai sorrendben lesznek rendezve. Míg például egy dátum- és időindex \"időben\" lesz rendezve."
   ]
  },
  {
   "cell_type": "code",
   "execution_count": null,
   "metadata": {},
   "outputs": [],
   "source": [
    "df.sort_index(ascending=False)"
   ]
  }
 ],
 "metadata": {
  "kernelspec": {
   "display_name": "Python 3",
   "language": "python",
   "name": "python3"
  },
  "language_info": {
   "codemirror_mode": {
    "name": "ipython",
    "version": 3
   },
   "file_extension": ".py",
   "mimetype": "text/x-python",
   "name": "python",
   "nbconvert_exporter": "python",
   "pygments_lexer": "ipython3",
   "version": "3.12.3"
  }
 },
 "nbformat": 4,
 "nbformat_minor": 2
}
