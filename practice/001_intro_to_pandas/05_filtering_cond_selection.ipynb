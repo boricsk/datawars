{
 "cells": [
  {
   "cell_type": "markdown",
   "metadata": {},
   "source": [
    "Most itt az ideje gyakorolni a feltételes kijelölést a sorozattal. Ugyanazokat az adatokat fogjuk felhasználni, mint korábban a Vállalatok bevételeinél.\n",
    "A feltételes kijelölés olyan, mint a \"szűrés\" vagy a \"lekérdezés\" (ha ismeri az SQL-t). Ez lehetővé teszi számunkra, hogy a következő típusú kérdésekre válaszoljunk:\n",
    "\n",
    "     mely cégek kerestek X dollárnál többet?\n",
    "     mely cégek kerestek X dollárnál kevesebbet?\n",
    "     milyen cégek csináltak X és $Y között?"
   ]
  },
  {
   "cell_type": "markdown",
   "metadata": {},
   "source": [
    "Logikai tömbök\n",
    "\n",
    "Elkezdjük bemutatni a logikai tömbök fogalmát (ami viszont a NumPy koncepciója, de ennek befejezéséhez nem szükséges ismernie a NumPy-t).\n",
    "\n",
    "Ez az elgondolás az elején kissé furcsán hangozhat, de bízzon bennünk, a következő részben mindennek lesz értelme.\n",
    "\n",
    "A logikai tömbök egy olyan kijelölési mód, amelyben átadjuk a sorozat teljes indexét, és jelezzük, hogy mely elemeket szeretnénk kijelölni, és melyeket kihagyjuk. Ezt a logikai értékek átadásával jelezzük: igaz és hamis.\n",
    "\n",
    "Nézzünk egy példát, hogy világosabb legyen. Logikai tömböket fogunk használni csak az amerikai vállalatok kiválasztásához. Vagyis: Apple, Alphabet, Microsoft, Dell, Meta, Intel és IBM.\n",
    "\n",
    "A logikai tömbök használatával a True értéket minden egyes vállalatnál át kell adnunk, és a False értéket a többi vállalatnak. \\\n",
    "<img src = 'log_array.jpg'>"
   ]
  },
  {
   "cell_type": "code",
   "execution_count": 1,
   "metadata": {},
   "outputs": [],
   "source": [
    "import pandas as pd\n",
    "companies = [\n",
    "    'Apple', 'Samsung', 'Alphabet', 'Foxconn',\n",
    "    'Microsoft', 'Huawei', 'Dell Technologies',\n",
    "    'Meta', 'Sony', 'Hitachi', 'Intel',\n",
    "    'IBM', 'Tencent', 'Panasonic'\n",
    "]\n",
    "\n",
    "s = pd.Series([\n",
    "    274515, 200734, 182527, 181945, 143015,\n",
    "    129184, 92224, 85965, 84893, 82345,\n",
    "    77867, 73620, 69864, 63191],\n",
    "    index=companies,\n",
    "    name=\"Top Technology Companies by Revenue\")"
   ]
  },
  {
   "cell_type": "markdown",
   "metadata": {},
   "source": [
    "Kérjük, vegye figyelembe, hogy az átadott logikai értékek listájának (vagy tömbjének) EQUAL hosszúságúnak kell lennie a sorozatindexével. Igaz vagy hamis értéket kell átadnunk az index ÖSSZES értékéhez. Ha nem vagyunk kíváncsiak egy elem kiválasztására, csak a False értéket adjuk meg.\n",
    "\n",
    "Most úgy tűnhet, hogy ez az adatkiválasztás \"nem hatékony\" módja. Mi történik, ha 1 millió rekordja van? Mindegyik rekordhoz igaz vagy hamis értéket kell beírnia? Természetesen nem! A következő részben világossá válik, hogy miért fontosak a logikai tömbök.\n"
   ]
  },
  {
   "cell_type": "code",
   "execution_count": 2,
   "metadata": {},
   "outputs": [
    {
     "data": {
      "text/plain": [
       "Apple                274515\n",
       "Alphabet             182527\n",
       "Microsoft            143015\n",
       "Dell Technologies     92224\n",
       "Meta                  85965\n",
       "Intel                 77867\n",
       "IBM                   73620\n",
       "Name: Top Technology Companies by Revenue, dtype: int64"
      ]
     },
     "execution_count": 2,
     "metadata": {},
     "output_type": "execute_result"
    }
   ],
   "source": [
    "#Boolean arrays\n",
    "s.loc[[\n",
    "    True,      # Apple\n",
    "    False,     # Samsung\n",
    "    True,      # Alphabet\n",
    "    False,     # Foxconn\n",
    "    True,      # Microsoft\n",
    "    False,     # Huawei\n",
    "    True,      # Dell\n",
    "    True,      # Meta\n",
    "    False,     # Sony\n",
    "    False,     # Hitachi\n",
    "    True,      # Intel\n",
    "    True,      # IBM\n",
    "    False,     # Tencent\n",
    "    False,     # Panasonic\n",
    "]]"
   ]
  },
  {
   "cell_type": "markdown",
   "metadata": {},
   "source": [
    "Csak a japán cégeket válassza ki\n",
    "\n",
    "Hozzon létre egy logikai tömböt, amely csak a sorozatunkban szereplő japán vállalatokat fogja kiválasztani:\n",
    "\n",
    "     Sony\n",
    "     Hitachi\n",
    "     Panasonic\n",
    "\n",
    "Tárolja a tömböt a japanese_boolean_array változóban.\n",
    "\n",
    "Ugyanezen tömb segítségével válassza ki a vállalatokat a sorozatból, és tárolja őket egy másik japanese_companies nevű változóban.\n"
   ]
  },
  {
   "cell_type": "code",
   "execution_count": 3,
   "metadata": {},
   "outputs": [],
   "source": [
    "japanese_boolean_array = [\n",
    "    False,      # Apple\n",
    "    False,     # Samsung\n",
    "    False,      # Alphabet\n",
    "    False,     # Foxconn\n",
    "    False,      # Microsoft\n",
    "    False,     # Huawei\n",
    "    False,      # Dell\n",
    "    False,      # Meta\n",
    "    True,     # Sony\n",
    "    True,     # Hitachi\n",
    "    False,      # Intel\n",
    "    False,      # IBM\n",
    "    False,     # Tencent\n",
    "    True,     # Panasonic\n",
    "]\n",
    "#japanese_boolean_array"
   ]
  },
  {
   "cell_type": "code",
   "execution_count": 4,
   "metadata": {},
   "outputs": [],
   "source": [
    "#A Japán cégek\n",
    "japanese_companies = s.loc[japanese_boolean_array]"
   ]
  },
  {
   "cell_type": "markdown",
   "metadata": {},
   "source": [
    "Most van az, amikor ezek a logikai tömbök igazán hasznosak lesznek (és remélhetőleg végre kattintanak).\n",
    "\n",
    "Kiderült, hogy a sorozatok elfogadják az összehasonlító operátorokat (vagy logikai operátorokat), például \"nagyobb, mint\" (>), \"kisebb, mint\" (<) stb. Az érdekes tulajdonság az, hogy ezen operátorok bármelyikének sorozatra való alkalmazása eredményeképpen egy logikai tömb!.\n",
    "\n",
    "Lássunk egy példát: a jegyzetfüzetben van egy példa az s > 100_000 kifejezésre. Ez alapvetően arra vonatkozik, hogy a sorozat mely értékei \"nagyobbak\" 100 000-nél (ami viszont azt jelenti, hogy hány cég bevétele haladja meg a 100 milliárd dollárt).\n",
    "\n",
    "Ennek a kifejezésnek az eredménye a logikai sorozat:\n"
   ]
  },
  {
   "cell_type": "code",
   "execution_count": 5,
   "metadata": {},
   "outputs": [
    {
     "data": {
      "text/plain": [
       "'\\nApple                 True\\nSamsung               True\\nAlphabet              True\\nFoxconn               True\\nMicrosoft             True\\nHuawei                True\\nDell Technologies    False\\nMeta                 False\\nSony                 False\\nHitachi              False\\nIntel                False\\nIBM                  False\\nTencent              False\\nPanasonic            False\\n\\n'"
      ]
     },
     "execution_count": 5,
     "metadata": {},
     "output_type": "execute_result"
    }
   ],
   "source": [
    "'''\n",
    "Apple                 True\n",
    "Samsung               True\n",
    "Alphabet              True\n",
    "Foxconn               True\n",
    "Microsoft             True\n",
    "Huawei                True\n",
    "Dell Technologies    False\n",
    "Meta                 False\n",
    "Sony                 False\n",
    "Hitachi              False\n",
    "Intel                False\n",
    "IBM                  False\n",
    "Tencent              False\n",
    "Panasonic            False\n",
    "\n",
    "'''"
   ]
  },
  {
   "cell_type": "markdown",
   "metadata": {},
   "source": [
    "Kombinálhatjuk ezt a \"feltételes\" kifejezést a korábban látott kiválasztási módszerrel, hogy egy nagyon hatékony szűrő- és lekérdező rendszert állítsunk össze.\n",
    "\n",
    "Példa, kérdezzük meg:\n",
    "\n",
    "Melyek azok a cégek, amelyek bevétele meghaladja a 100 milliárd dollárt?\n",
    "\n",
    "Csak kombinálnunk kell a .loc kifejezést a logikai tömbünkkel:"
   ]
  },
  {
   "cell_type": "code",
   "execution_count": 6,
   "metadata": {},
   "outputs": [
    {
     "data": {
      "text/plain": [
       "Apple                 True\n",
       "Samsung               True\n",
       "Alphabet              True\n",
       "Foxconn               True\n",
       "Microsoft             True\n",
       "Huawei                True\n",
       "Dell Technologies    False\n",
       "Meta                 False\n",
       "Sony                 False\n",
       "Hitachi              False\n",
       "Intel                False\n",
       "IBM                  False\n",
       "Tencent              False\n",
       "Panasonic            False\n",
       "Name: Top Technology Companies by Revenue, dtype: bool"
      ]
     },
     "execution_count": 6,
     "metadata": {},
     "output_type": "execute_result"
    }
   ],
   "source": [
    "\n",
    "s.loc[s > 100_000]\n",
    "s > 100_000"
   ]
  },
  {
   "cell_type": "markdown",
   "metadata": {},
   "source": [
    "Bármilyen operátort használhatunk: egyenlő (==), különbözik (vagy nem egyenlő !=), nagyobb, mint (>), nagyobb vagy egyenlő (>=) stb."
   ]
  },
  {
   "cell_type": "code",
   "execution_count": 7,
   "metadata": {},
   "outputs": [
    {
     "data": {
      "text/plain": [
       "Apple       274515\n",
       "Samsung     200734\n",
       "Alphabet    182527\n",
       "Foxconn     181945\n",
       "Name: Top Technology Companies by Revenue, dtype: int64"
      ]
     },
     "execution_count": 7,
     "metadata": {},
     "output_type": "execute_result"
    }
   ],
   "source": [
    "more_150_rev = s.loc[ s > 150_000]\n",
    "more_150_rev"
   ]
  },
  {
   "cell_type": "markdown",
   "metadata": {},
   "source": [
    "Sorozat metódusainak kombinálása összehasonlító operátorokkal\n",
    "\n",
    "Ez természetesnek tűnik az előző részben látottak alapján, de érdemes megemlíteni. Kombinálhatja az összehasonlító operátorokat a Series metódusokkal, hogy általánosabb kifejezéseket kapjon. Például válasszuk ki a LEGJOBB bevétellel rendelkező céget:"
   ]
  },
  {
   "cell_type": "code",
   "execution_count": 8,
   "metadata": {},
   "outputs": [
    {
     "data": {
      "text/plain": [
       "Apple    274515\n",
       "Name: Top Technology Companies by Revenue, dtype: int64"
      ]
     },
     "execution_count": 8,
     "metadata": {},
     "output_type": "execute_result"
    }
   ],
   "source": [
    "s.loc[s == s.max()]"
   ]
  },
  {
   "cell_type": "code",
   "execution_count": 9,
   "metadata": {},
   "outputs": [
    {
     "data": {
      "text/plain": [
       "Apple        274515\n",
       "Samsung      200734\n",
       "Alphabet     182527\n",
       "Foxconn      181945\n",
       "Microsoft    143015\n",
       "Huawei       129184\n",
       "Name: Top Technology Companies by Revenue, dtype: int64"
      ]
     },
     "execution_count": 9,
     "metadata": {},
     "output_type": "execute_result"
    }
   ],
   "source": [
    "s.loc[s > s.mean()]"
   ]
  },
  {
   "cell_type": "markdown",
   "metadata": {},
   "source": [
    "Vagy egy összetettebb kifejezés lehet azoknak a cégeknek a megtalálása, amelyek bevétele meghaladja az átlagos + egy szórást (ezekkel a fogalmakkal a Leíró statisztikák című sávunk foglalkozik; most ne aggódjon a technikai részletek miatt):"
   ]
  },
  {
   "cell_type": "code",
   "execution_count": 10,
   "metadata": {},
   "outputs": [
    {
     "data": {
      "text/plain": [
       "Apple      274515\n",
       "Samsung    200734\n",
       "Name: Top Technology Companies by Revenue, dtype: int64"
      ]
     },
     "execution_count": 10,
     "metadata": {},
     "output_type": "execute_result"
    }
   ],
   "source": [
    "s.loc[s > (s.mean() + s.std())]"
   ]
  },
  {
   "cell_type": "markdown",
   "metadata": {},
   "source": [
    "Logikai operátorok\n",
    "\n",
    "A logikai operátorok a feltételek \"összefűzésére\" használt és vagy nem kifejezések. Ismerősnek kell lenniük a Python-háttérből. A Pandasban vannak logikai operátoraink is, amelyek segítségével \"bonyolultabb\" kiválasztási kifejezéseket hozhatunk létre, de ezek nem azok, és, vagy nem úgy, mint a Pythonban, ezek:\n",
    "\n",
    "     &  ÉS \n",
    "     |  VAGY\n",
    "     ~  NEM\n",
    "\n",
    "Lássuk őket működés közben a VAGY operátor (|) használatával. Kiszámítjuk azt a kifejezést, amely kiválasztja azokat a vállalatokat, amelyek bevétele meghaladja a 150 000 USD-t, VAGY kevesebb, mint 80 000 USD. Grafikusan a következő cégeket szeretnénk kiválasztani:\n",
    "\n",
    "<img src='bool_op.jpg'>"
   ]
  },
  {
   "cell_type": "markdown",
   "metadata": {},
   "source": [
    "Most fogalmazzuk meg teljesen, a | segítségével (OR) operátor. FONTOS! Amikor az összehasonlító kifejezéseket logikai operátorokkal kombináljuk, minden kifejezést zárójelbe kell helyeznünk:"
   ]
  },
  {
   "cell_type": "code",
   "execution_count": 11,
   "metadata": {},
   "outputs": [
    {
     "data": {
      "text/plain": [
       "Apple                 True\n",
       "Samsung               True\n",
       "Alphabet              True\n",
       "Foxconn               True\n",
       "Microsoft            False\n",
       "Huawei               False\n",
       "Dell Technologies    False\n",
       "Meta                 False\n",
       "Sony                 False\n",
       "Hitachi              False\n",
       "Intel                 True\n",
       "IBM                   True\n",
       "Tencent               True\n",
       "Panasonic             True\n",
       "Name: Top Technology Companies by Revenue, dtype: bool"
      ]
     },
     "execution_count": 11,
     "metadata": {},
     "output_type": "execute_result"
    }
   ],
   "source": [
    "(s > 150_000) | (s < 80_000)"
   ]
  },
  {
   "cell_type": "markdown",
   "metadata": {},
   "source": [
    "Kiválasztással kombinálva\n",
    "\n",
    "Itt az ideje, hogy a logikai operátorokat a kiválasztás (.loc) metódussal használjuk. Használjuk most ugyanazt a kifejezést, mint korábban a kívánt cégek kiválasztásához:"
   ]
  },
  {
   "cell_type": "code",
   "execution_count": 12,
   "metadata": {},
   "outputs": [
    {
     "data": {
      "text/plain": [
       "Apple        274515\n",
       "Samsung      200734\n",
       "Alphabet     182527\n",
       "Foxconn      181945\n",
       "Intel         77867\n",
       "IBM           73620\n",
       "Tencent       69864\n",
       "Panasonic     63191\n",
       "Name: Top Technology Companies by Revenue, dtype: int64"
      ]
     },
     "execution_count": 12,
     "metadata": {},
     "output_type": "execute_result"
    }
   ],
   "source": [
    "s.loc[(s > 150_000) | (s < 80_000)]"
   ]
  },
  {
   "cell_type": "markdown",
   "metadata": {},
   "source": [
    "Példa a NOT ~ operátorral\n",
    "\n",
    "A NOT operátor általában \"invertál\" (vagy tagad egy kifejezést). Tehát a következő két kifejezés egyenértékű:\n",
    "\n",
    "     150 000 millió dollár vagy annál nagyobb bevétellel rendelkező vállalatok\n",
    "     Vállalatok, amelyek bevétele nem kevesebb, mint 150 000 millió USD\n",
    "\n",
    "A jegyzetfüzetben vannak ezek a példák; próbálja ki őket, és látni fogja, hogy ugyanazokat az értékeket adják vissza."
   ]
  },
  {
   "cell_type": "code",
   "execution_count": 13,
   "metadata": {},
   "outputs": [
    {
     "data": {
      "text/plain": [
       "Apple       274515\n",
       "Samsung     200734\n",
       "Alphabet    182527\n",
       "Foxconn     181945\n",
       "Name: Top Technology Companies by Revenue, dtype: int64"
      ]
     },
     "execution_count": 13,
     "metadata": {},
     "output_type": "execute_result"
    }
   ],
   "source": [
    "s.loc[s >= 150_000]"
   ]
  },
  {
   "cell_type": "code",
   "execution_count": 14,
   "metadata": {},
   "outputs": [
    {
     "data": {
      "text/plain": [
       "Apple       274515\n",
       "Samsung     200734\n",
       "Alphabet    182527\n",
       "Foxconn     181945\n",
       "Name: Top Technology Companies by Revenue, dtype: int64"
      ]
     },
     "execution_count": 14,
     "metadata": {},
     "output_type": "execute_result"
    }
   ],
   "source": [
    "s.loc[~(s < 150_000)]"
   ]
  },
  {
   "cell_type": "markdown",
   "metadata": {},
   "source": [
    "Válassza ki azokat a cégeket, amelyek a legtöbb és kevesebb bevétellel rendelkeznek\n",
    "\n",
    "Használja a feltételes kijelölést és a logikai operátorokat a LEGTÖBB és KEVESEBB bevétellel rendelkező két vállalat kiválasztásához. Tárolja az eredményeket a most_and_less_rev változóban. Próbáld meg a sorozat .max() és .min() metódusait használni.\n",
    "\n",
    "Vizuálisan a következőnek kell lennie:\n",
    "\n",
    "<img src = 'task4.jpg'>"
   ]
  },
  {
   "cell_type": "code",
   "execution_count": 16,
   "metadata": {},
   "outputs": [],
   "source": [
    "most_and_less_rev = s.loc[ (s == s.max()) | (s == s.min()) ]\n"
   ]
  },
  {
   "cell_type": "markdown",
   "metadata": {},
   "source": [
    "Válasszon olyan cégeket, amelyek bevétele 150 000 millió között van\n",
    "\n",
    "Válogass ki azon cégek közül, amelyek bevétele 150 000 között van. Tárolja a kiválasztás eredményeit a következő változóban:_80_és_150.\n",
    "\n",
    "Vizuálisan a következő cégeket kell kiválasztania:\n",
    "\n",
    "<img src = 'task5.jpg'>"
   ]
  },
  {
   "cell_type": "code",
   "execution_count": null,
   "metadata": {},
   "outputs": [],
   "source": [
    "between_80_and_150 = s.loc[(s > 80_000) & (s < 150_000)]"
   ]
  }
 ],
 "metadata": {
  "kernelspec": {
   "display_name": "base",
   "language": "python",
   "name": "python3"
  },
  "language_info": {
   "codemirror_mode": {
    "name": "ipython",
    "version": 3
   },
   "file_extension": ".py",
   "mimetype": "text/x-python",
   "name": "python",
   "nbconvert_exporter": "python",
   "pygments_lexer": "ipython3",
   "version": "3.11.7"
  }
 },
 "nbformat": 4,
 "nbformat_minor": 2
}
