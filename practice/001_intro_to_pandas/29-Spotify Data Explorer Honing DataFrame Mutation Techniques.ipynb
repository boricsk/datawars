{
 "cells": [
  {
   "cell_type": "markdown",
   "metadata": {},
   "source": [
    "Lépjünk vissza az 1920-as évek pezsgő világába. Ez egy olyan korszak volt, amikor a zene forradalmasítva lett. A jazz hangjai töltötték meg a levegőt. Egy 1928-as adatbázist fogunk megvizsgálni. Ez az év zenei életét örökíti meg. Ez egy egyedülálló lehetőséget kínál arra, hogy tanulmányozzuk a slágereket, a népszerű előadókat és az új műfajokat abból az időből. Pandas DataFrame készségeink fejlesztésével rejtett betekintéseket fogunk találni ebben a történelmi kincsben. Új életet lehelnek azokba a régi dallamokba, amelyek majdnem egy évszázaddal ezelőtt lenyűgözték a közönséget. Készülj fel egy utazásra. Ez ötvözi az adatelemzést egy kis nosztalgiával. Minden egyes kódsor egy történetet mesél el. És mindezt az adatok szemszögéből teszi.\n",
    "\n",
    "Adatkészlet áttekintése\n",
    "\n",
    "Ez az adatkészlet 1928-ból származó zeneszámok gyűjteménye. Tartalmaz információkat a dalok különböző aspektusairól, beleértve azok címeit, előadóit, időtartamait, megjelenési dátumait és hangjellemzőit. Az adatkészlet sokszínű, klasszikus darabokat, hangszeres műveket és korai tangófelvételeket is tartalmaz.\n",
    "\n",
    "Kulcsfontosságú oszlopok\n",
    "\n",
    "- **name:** A zeneszám címe.\n",
    "- **artists:** Az előadó(k) vagy zeneszerző(k) neve(i).\n",
    "- **duration_ms:** A zeneszám időtartama milliszekundumban.\n",
    "- **release_date:** A zeneszám megjelenési dátuma.\n",
    "- **year:** A zeneszám megjelenési éve, amely az adatkészlet minden bejegyzése esetében 1928.\n",
    "- **acousticness, danceability, energy, instrumentalness, liveness, loudness, speechiness, tempo, valence, mode, key:** Ezek az oszlopok a zeneszámból kinyert különböző hangjellemzőket képviselik, amelyek betekintést nyújtanak annak tulajdonságaiba.\n",
    "\n",
    "Az adatok felfedezése\n",
    "\n",
    "- **Egyedi előadók:** Felfedezhetjük az adatkészletben szereplő egyedi előadókat, és azonosíthatjuk az adott korszak legjelentősebb zenészeit vagy zeneszerzőit.\n",
    "- **Zeneszámok időtartamai:** Az időtartamot tartalmazó oszlop elemzésével meghatározhatjuk a zeneszámok hosszúságának tartományát, megtalálhatjuk a legrövidebb és leghosszabb számokat, és esetleg azonosíthatunk mintákat vagy trendeket a zenei kompozícióban abból az időszakból.\n",
    "- **Hangjellemzők:** A hangjellemzők oszlopai gazdag információt nyújtanak a zene tulajdonságainak megértéséhez. Elemezhetjük ezeknek a jellemzőknek az eloszlását, azonosíthatjuk a kiugró értékeket, és esetleg felfedezhetjük a különböző hangjellemzők közötti kapcsolatokat.\n",
    "- **Műfajelemzés:** Bár a műfaji információk nem szerepelnek explicit módon, az előadók, zeneszámcímek és hangjellemzők alapján következtethetünk a műfajokra. Ez érdekes betekintéseket nyújthat a zenei kompozíciókba és trendekbe, amelyeket adatelemzési technikákkal fedezhetünk fel."
   ]
  },
  {
   "cell_type": "code",
   "execution_count": 1,
   "metadata": {},
   "outputs": [],
   "source": [
    "import numpy as np\n",
    "import pandas as pd"
   ]
  },
  {
   "cell_type": "code",
   "execution_count": 2,
   "metadata": {},
   "outputs": [
    {
     "data": {
      "text/plain": [
       "<bound method NDFrame.to_csv of         Unnamed: 0  acousticness              artists  danceability  \\\n",
       "0                0        0.9950      Carl Woitschach         0.708   \n",
       "1                1        0.9940      Robert Schumann         0.379   \n",
       "2                2        0.9940    Vladimir Horowitz         0.379   \n",
       "3                3        0.6040  Seweryn Goszczyński         0.749   \n",
       "4                4        0.9950     Francisco Canaro         0.781   \n",
       "...            ...           ...                  ...           ...   \n",
       "225451      225451        0.5380                 Kygo         0.514   \n",
       "225452      225452        0.5380            Oh Wonder         0.514   \n",
       "225453      225453        0.0714            Cash Cash         0.646   \n",
       "225454      225454        0.0714         Andy Grammer         0.646   \n",
       "225455      225455        0.1090       Ingrid Andress         0.512   \n",
       "\n",
       "        duration_ms  energy  explicit                      id  \\\n",
       "0            158648  0.1950         0  6KbQ3uYMLKb5jDxLF7wYDD   \n",
       "1            282133  0.0135         0  6KuQTIu1KoTTkLXKrwlLPV   \n",
       "2            282133  0.0135         0  6KuQTIu1KoTTkLXKrwlLPV   \n",
       "3            104300  0.2200         0  6L63VW0PibdM1HDSBoqnoM   \n",
       "4            180760  0.1300         0  6M94FkXd15sOAOQYRnWPN8   \n",
       "...             ...     ...       ...                     ...   \n",
       "225451       180700  0.5390         0  52eycxprLhK3lPcRLbQiVk   \n",
       "225452       180700  0.5390         0  52eycxprLhK3lPcRLbQiVk   \n",
       "225453       167308  0.7610         0  3wYOGJYD31sLRmBgCvWxa4   \n",
       "225454       167308  0.7610         0  3wYOGJYD31sLRmBgCvWxa4   \n",
       "225455       214787  0.4280         0  60RFlt48hm0l4Fu0JoccOl   \n",
       "\n",
       "        instrumentalness  key  liveness  loudness  mode  \\\n",
       "0                0.56300   10    0.1510   -12.428     1   \n",
       "1                0.90100    8    0.0763   -28.454     1   \n",
       "2                0.90100    8    0.0763   -28.454     1   \n",
       "3                0.00000    5    0.1190   -19.924     0   \n",
       "4                0.88700    1    0.1110   -14.734     0   \n",
       "...                  ...  ...       ...       ...   ...   \n",
       "225451           0.00233    7    0.1080    -9.332     1   \n",
       "225452           0.00233    7    0.1080    -9.332     1   \n",
       "225453           0.00000    1    0.2220    -2.557     1   \n",
       "225454           0.00000    1    0.2220    -2.557     1   \n",
       "225455           0.00000    0    0.1050    -7.387     1   \n",
       "\n",
       "                                                 name  popularity  \\\n",
       "0                         Singende Bataillone 1. Teil           0   \n",
       "1            Fantasiestücke, Op. 111: Più tosto lento           0   \n",
       "2            Fantasiestücke, Op. 111: Più tosto lento           0   \n",
       "3                      Chapter 1.18 - Zamek kaniowski           0   \n",
       "4       Bebamos Juntos - Instrumental (Remasterizado)           0   \n",
       "...                                               ...         ...   \n",
       "225451                               How Would I Know          70   \n",
       "225452                               How Would I Know          70   \n",
       "225453                                    I Found You          70   \n",
       "225454                                    I Found You          70   \n",
       "225455                          More Hearts Than Mine          65   \n",
       "\n",
       "       release_date  speechiness    tempo  valence  year  \n",
       "0              1928       0.0506  118.469   0.7790  1928  \n",
       "1              1928       0.0462   83.972   0.0767  1928  \n",
       "2              1928       0.0462   83.972   0.0767  1928  \n",
       "3              1928       0.9290  107.177   0.8800  1928  \n",
       "4        1928-09-25       0.0926  108.003   0.7200  1928  \n",
       "...             ...          ...      ...      ...   ...  \n",
       "225451   2020-05-29       0.1050  123.700   0.1530  2020  \n",
       "225452   2020-05-29       0.1050  123.700   0.1530  2020  \n",
       "225453   2020-02-28       0.0385  129.916   0.4720  2020  \n",
       "225454   2020-02-28       0.0385  129.916   0.4720  2020  \n",
       "225455   2020-03-27       0.0271   80.588   0.3660  2020  \n",
       "\n",
       "[225456 rows x 20 columns]>"
      ]
     },
     "execution_count": 2,
     "metadata": {},
     "output_type": "execute_result"
    }
   ],
   "source": [
    "df = pd.read_csv('../../source/spotify.csv', low_memory=False)\n",
    "df.to_csv"
   ]
  },
  {
   "cell_type": "code",
   "execution_count": 3,
   "metadata": {},
   "outputs": [
    {
     "data": {
      "text/html": [
       "<div>\n",
       "<style scoped>\n",
       "    .dataframe tbody tr th:only-of-type {\n",
       "        vertical-align: middle;\n",
       "    }\n",
       "\n",
       "    .dataframe tbody tr th {\n",
       "        vertical-align: top;\n",
       "    }\n",
       "\n",
       "    .dataframe thead th {\n",
       "        text-align: right;\n",
       "    }\n",
       "</style>\n",
       "<table border=\"1\" class=\"dataframe\">\n",
       "  <thead>\n",
       "    <tr style=\"text-align: right;\">\n",
       "      <th></th>\n",
       "      <th>Unnamed: 0</th>\n",
       "      <th>acousticness</th>\n",
       "      <th>artists</th>\n",
       "      <th>danceability</th>\n",
       "      <th>duration_ms</th>\n",
       "      <th>energy</th>\n",
       "      <th>explicit</th>\n",
       "      <th>id</th>\n",
       "      <th>instrumentalness</th>\n",
       "      <th>key</th>\n",
       "      <th>liveness</th>\n",
       "      <th>loudness</th>\n",
       "      <th>mode</th>\n",
       "      <th>name</th>\n",
       "      <th>popularity</th>\n",
       "      <th>release_date</th>\n",
       "      <th>speechiness</th>\n",
       "      <th>tempo</th>\n",
       "      <th>valence</th>\n",
       "      <th>year</th>\n",
       "    </tr>\n",
       "  </thead>\n",
       "  <tbody>\n",
       "    <tr>\n",
       "      <th>0</th>\n",
       "      <td>0</td>\n",
       "      <td>0.995</td>\n",
       "      <td>Carl Woitschach</td>\n",
       "      <td>0.708</td>\n",
       "      <td>158648</td>\n",
       "      <td>0.1950</td>\n",
       "      <td>0</td>\n",
       "      <td>6KbQ3uYMLKb5jDxLF7wYDD</td>\n",
       "      <td>0.563</td>\n",
       "      <td>10</td>\n",
       "      <td>0.1510</td>\n",
       "      <td>-12.428</td>\n",
       "      <td>1</td>\n",
       "      <td>Singende Bataillone 1. Teil</td>\n",
       "      <td>0</td>\n",
       "      <td>1928</td>\n",
       "      <td>0.0506</td>\n",
       "      <td>118.469</td>\n",
       "      <td>0.7790</td>\n",
       "      <td>1928</td>\n",
       "    </tr>\n",
       "    <tr>\n",
       "      <th>1</th>\n",
       "      <td>1</td>\n",
       "      <td>0.994</td>\n",
       "      <td>Robert Schumann</td>\n",
       "      <td>0.379</td>\n",
       "      <td>282133</td>\n",
       "      <td>0.0135</td>\n",
       "      <td>0</td>\n",
       "      <td>6KuQTIu1KoTTkLXKrwlLPV</td>\n",
       "      <td>0.901</td>\n",
       "      <td>8</td>\n",
       "      <td>0.0763</td>\n",
       "      <td>-28.454</td>\n",
       "      <td>1</td>\n",
       "      <td>Fantasiestücke, Op. 111: Più tosto lento</td>\n",
       "      <td>0</td>\n",
       "      <td>1928</td>\n",
       "      <td>0.0462</td>\n",
       "      <td>83.972</td>\n",
       "      <td>0.0767</td>\n",
       "      <td>1928</td>\n",
       "    </tr>\n",
       "    <tr>\n",
       "      <th>2</th>\n",
       "      <td>2</td>\n",
       "      <td>0.994</td>\n",
       "      <td>Vladimir Horowitz</td>\n",
       "      <td>0.379</td>\n",
       "      <td>282133</td>\n",
       "      <td>0.0135</td>\n",
       "      <td>0</td>\n",
       "      <td>6KuQTIu1KoTTkLXKrwlLPV</td>\n",
       "      <td>0.901</td>\n",
       "      <td>8</td>\n",
       "      <td>0.0763</td>\n",
       "      <td>-28.454</td>\n",
       "      <td>1</td>\n",
       "      <td>Fantasiestücke, Op. 111: Più tosto lento</td>\n",
       "      <td>0</td>\n",
       "      <td>1928</td>\n",
       "      <td>0.0462</td>\n",
       "      <td>83.972</td>\n",
       "      <td>0.0767</td>\n",
       "      <td>1928</td>\n",
       "    </tr>\n",
       "    <tr>\n",
       "      <th>3</th>\n",
       "      <td>3</td>\n",
       "      <td>0.604</td>\n",
       "      <td>Seweryn Goszczyński</td>\n",
       "      <td>0.749</td>\n",
       "      <td>104300</td>\n",
       "      <td>0.2200</td>\n",
       "      <td>0</td>\n",
       "      <td>6L63VW0PibdM1HDSBoqnoM</td>\n",
       "      <td>0.000</td>\n",
       "      <td>5</td>\n",
       "      <td>0.1190</td>\n",
       "      <td>-19.924</td>\n",
       "      <td>0</td>\n",
       "      <td>Chapter 1.18 - Zamek kaniowski</td>\n",
       "      <td>0</td>\n",
       "      <td>1928</td>\n",
       "      <td>0.9290</td>\n",
       "      <td>107.177</td>\n",
       "      <td>0.8800</td>\n",
       "      <td>1928</td>\n",
       "    </tr>\n",
       "    <tr>\n",
       "      <th>4</th>\n",
       "      <td>4</td>\n",
       "      <td>0.995</td>\n",
       "      <td>Francisco Canaro</td>\n",
       "      <td>0.781</td>\n",
       "      <td>180760</td>\n",
       "      <td>0.1300</td>\n",
       "      <td>0</td>\n",
       "      <td>6M94FkXd15sOAOQYRnWPN8</td>\n",
       "      <td>0.887</td>\n",
       "      <td>1</td>\n",
       "      <td>0.1110</td>\n",
       "      <td>-14.734</td>\n",
       "      <td>0</td>\n",
       "      <td>Bebamos Juntos - Instrumental (Remasterizado)</td>\n",
       "      <td>0</td>\n",
       "      <td>1928-09-25</td>\n",
       "      <td>0.0926</td>\n",
       "      <td>108.003</td>\n",
       "      <td>0.7200</td>\n",
       "      <td>1928</td>\n",
       "    </tr>\n",
       "  </tbody>\n",
       "</table>\n",
       "</div>"
      ],
      "text/plain": [
       "   Unnamed: 0  acousticness              artists  danceability  duration_ms  \\\n",
       "0           0         0.995      Carl Woitschach         0.708       158648   \n",
       "1           1         0.994      Robert Schumann         0.379       282133   \n",
       "2           2         0.994    Vladimir Horowitz         0.379       282133   \n",
       "3           3         0.604  Seweryn Goszczyński         0.749       104300   \n",
       "4           4         0.995     Francisco Canaro         0.781       180760   \n",
       "\n",
       "   energy  explicit                      id  instrumentalness  key  liveness  \\\n",
       "0  0.1950         0  6KbQ3uYMLKb5jDxLF7wYDD             0.563   10    0.1510   \n",
       "1  0.0135         0  6KuQTIu1KoTTkLXKrwlLPV             0.901    8    0.0763   \n",
       "2  0.0135         0  6KuQTIu1KoTTkLXKrwlLPV             0.901    8    0.0763   \n",
       "3  0.2200         0  6L63VW0PibdM1HDSBoqnoM             0.000    5    0.1190   \n",
       "4  0.1300         0  6M94FkXd15sOAOQYRnWPN8             0.887    1    0.1110   \n",
       "\n",
       "   loudness  mode                                           name  popularity  \\\n",
       "0   -12.428     1                    Singende Bataillone 1. Teil           0   \n",
       "1   -28.454     1       Fantasiestücke, Op. 111: Più tosto lento           0   \n",
       "2   -28.454     1       Fantasiestücke, Op. 111: Più tosto lento           0   \n",
       "3   -19.924     0                 Chapter 1.18 - Zamek kaniowski           0   \n",
       "4   -14.734     0  Bebamos Juntos - Instrumental (Remasterizado)           0   \n",
       "\n",
       "  release_date  speechiness    tempo  valence  year  \n",
       "0         1928       0.0506  118.469   0.7790  1928  \n",
       "1         1928       0.0462   83.972   0.0767  1928  \n",
       "2         1928       0.0462   83.972   0.0767  1928  \n",
       "3         1928       0.9290  107.177   0.8800  1928  \n",
       "4   1928-09-25       0.0926  108.003   0.7200  1928  "
      ]
     },
     "execution_count": 3,
     "metadata": {},
     "output_type": "execute_result"
    }
   ],
   "source": [
    "df.head()"
   ]
  },
  {
   "cell_type": "markdown",
   "metadata": {},
   "source": [
    "Az acousticness oszlop átnevezése acoustic_level-re\n",
    "\n",
    "Az acousticness oszlop a zeneszámok akusztikus szintjét képviseli. Annak érdekében, hogy az oszlop neve leíróbb és könnyebben olvasható legyen, használjuk a rename() függvényt, hogy megváltoztassuk az oszlop nevét acousticness-ről acoustic_level-re. Állítsuk az inplace paramétert True értékre, hogy az adatok közvetlenül a DataFrame-ben módosuljanak, új példány létrehozása nélkül. Ez az átnevezési művelet frissíti az oszlop nevét az eredeti df DataFrame-ben."
   ]
  },
  {
   "cell_type": "code",
   "execution_count": 4,
   "metadata": {},
   "outputs": [],
   "source": [
    "df.rename(columns={'acousticness': 'acoustic_level'}, inplace=True)"
   ]
  },
  {
   "cell_type": "markdown",
   "metadata": {},
   "source": [
    "öbb oszlop átnevezése a rename() függvény segítségével\n",
    "\n",
    "Nevezze át a DataFrame df több oszlopát, hogy azok leíróbbak, tömörebbek és könnyebben érthetőek legyenek. Változtassa a 'danceability'-t 'dance_score'-ra, a 'duration_ms'-t 'duration_milliseconds'-re, az 'instrumentalness'-t 'instrumental'-ra, a 'liveness'-t 'live_performance'-re, és a 'speechiness'-t 'speech_presence'-re. Rendelje vissza az eredményt a df változóhoz, hogy frissítse az eredeti DataFrame-et."
   ]
  },
  {
   "cell_type": "code",
   "execution_count": 5,
   "metadata": {},
   "outputs": [],
   "source": [
    "df.rename(columns={\n",
    "    'danceability' : 'dance_score',\n",
    "    'duration_ms' : 'duration_milliseconds',\n",
    "    'duration_ms' : 'duration_milliseconds',\n",
    "    'liveness' : 'live_performance',\n",
    "    'speechiness' : 'speech_presence'\n",
    "}, inplace=True)"
   ]
  },
  {
   "cell_type": "markdown",
   "metadata": {},
   "source": [
    "Adjon hozzá egy új oszlopot duration_seconds néven, amely átalakítja a duration_milliseconds oszlopot milliszekundumból másodpercbe\n",
    "\n",
    "Konvertálja a duration_milliseconds oszlop értékeit másodpercbe, és tárolja az eredményt egy új, duration_seconds nevű oszlopban.\n",
    "\n",
    "Megjegyzés: Az új oszlopot a df végéhez adja hozzá.\n"
   ]
  },
  {
   "cell_type": "code",
   "execution_count": 6,
   "metadata": {},
   "outputs": [],
   "source": [
    "df['duration_seconds'] = df['duration_milliseconds'] / 1000"
   ]
  },
  {
   "cell_type": "markdown",
   "metadata": {},
   "source": [
    "Adjon hozzá egy új oszlopot popularity_score néven, amely a popularity oszlop értékeit 0,01-gyel szorozza meg\n",
    "\n",
    "Skálázza újra a popularity oszlop értékeit, úgy hogy megszorozza őket 0,01-gyel, és tárolja az újra skálázott értékeket egy új, popularity_score nevű oszlopban.\n",
    "\n",
    "Megjegyzés: Az új oszlopot a df végéhez adja hozzá.\n"
   ]
  },
  {
   "cell_type": "code",
   "execution_count": 7,
   "metadata": {},
   "outputs": [],
   "source": [
    "df['popularity_score'] = df['popularity'] * 0.01"
   ]
  },
  {
   "cell_type": "markdown",
   "metadata": {},
   "source": [
    "Adjon hozzá egy új oszlopot is_popular néven, amely 1-et rendel azokhoz a zeneszámokhoz, amelyek népszerűsége meghaladja a 70-et, és 0-t egyébként\n",
    "\n",
    "Hozzon létre egy új oszlopot is_popular néven, amely 1-et tartalmaz azokban a sorokban, ahol a popularity értéke nagyobb mint 70, és 0-t egyébként. Konvertálja a logikai eredményt egész számokká, ahol a True 1 lesz, a False pedig 0. Ez az új oszlop jelzi, hogy egy dal népszerű-e vagy sem, ahol az 1 a népszerű dalokat, a 0 pedig a nem népszerű dalokat jelenti.\n",
    "\n",
    "Megjegyzés: Az új oszlopot a df végéhez adja hozzá.\n"
   ]
  },
  {
   "cell_type": "code",
   "execution_count": 8,
   "metadata": {},
   "outputs": [],
   "source": [
    "df['is_popular'] = (df['popularity'] > 70).astype(int)"
   ]
  },
  {
   "cell_type": "markdown",
   "metadata": {},
   "source": [
    "Adjon hozzá egy új oszlopot artist_count néven, amely megszámolja az előadók számát az artists oszlopban\n",
    "\n",
    "Számolja meg az előadók számát minden egyes sorban az artists oszlopban található vesszők számának megszámolásával és 1 hozzáadásával, majd tárolja az eredményt egy új, artist_count nevű oszlopban.\n",
    "\n",
    "Megjegyzés: Az új oszlopot a df végéhez adja hozzá.\n"
   ]
  },
  {
   "cell_type": "code",
   "execution_count": 9,
   "metadata": {},
   "outputs": [],
   "source": [
    "df['artist_count'] = df['artists'].str.count(',') + 1"
   ]
  },
  {
   "cell_type": "markdown",
   "metadata": {},
   "source": [
    "Adj hozzá egy új oszlopot, amelyet duration_minutes-nek nevezel el, és számold ki benne a duration_seconds oszlopban lévő értékeket percekben.\n",
    "\n",
    "Átalakítsd a duration_seconds oszlopot másodpercből percre, és mentsd el az eredményt egy új oszlopba, amit duration_minutes-nek nevezel el.\n",
    "\n",
    "Megjegyzés: Az új oszlop a df végére lesz hozzáadva."
   ]
  },
  {
   "cell_type": "code",
   "execution_count": 10,
   "metadata": {},
   "outputs": [],
   "source": [
    "df['duration_minute'] = df['duration_seconds'] / 60"
   ]
  },
  {
   "cell_type": "code",
   "execution_count": null,
   "metadata": {},
   "outputs": [],
   "source": [
    "Frissítsd a popularity oszlopot úgy, hogy minden értékéhez hozzáadsz 10-et."
   ]
  },
  {
   "cell_type": "code",
   "execution_count": 11,
   "metadata": {},
   "outputs": [],
   "source": [
    "df['popularity'] = df['popularity'] + 10"
   ]
  },
  {
   "cell_type": "markdown",
   "metadata": {},
   "source": [
    "Frissítsd a speech_presence oszlopot úgy, hogy minden értékét megszorozod 0,8-cal.\n",
    "\n",
    "Megjegyzés: Használd az df.head().T parancsot az adattáblázatod kompakt megtekintéséhez."
   ]
  },
  {
   "cell_type": "code",
   "execution_count": 12,
   "metadata": {},
   "outputs": [],
   "source": [
    "df['speech_presence'] = df['speech_presence'] * 0.8"
   ]
  },
  {
   "cell_type": "markdown",
   "metadata": {},
   "source": [
    "Csökkentsd a dance_score oszlop értékeit úgy, hogy minden értékből kivonsz 0,1-et."
   ]
  },
  {
   "cell_type": "code",
   "execution_count": 13,
   "metadata": {},
   "outputs": [],
   "source": [
    "df['dance_score'] = df['dance_score'] - 0.1"
   ]
  },
  {
   "cell_type": "markdown",
   "metadata": {},
   "source": [
    "Frissítsd a mode oszlopot úgy, hogy a numerikus értékeket szöveges reprezentációkká változtatod, ahol 0-t 'Minor'-ra és 1-et 'Major'-ra cserélsz."
   ]
  },
  {
   "cell_type": "code",
   "execution_count": 14,
   "metadata": {},
   "outputs": [],
   "source": [
    "df['mode'] = df['mode'].replace({0: 'Minor', 1: 'Major'})"
   ]
  },
  {
   "cell_type": "markdown",
   "metadata": {},
   "source": [
    "Frissítsd a tempo oszlopot úgy, hogy a 150-nél nagyobb értékeket 150-re állítod, azaz minden 150 feletti értéket lecsippentesz 150-re.\n",
    "\n",
    "Megjegyzés: Használd az df.head().T parancsot az adattáblázatod kompakt megtekintéséhez.\n",
    "\n",
    "A kód a DataFrame df meglévő tempo oszlopának értékeire alkalmaz egy csippegetési műveletet. A clip() metódust használja az upper=150 paraméterrel, amely biztosítja, hogy egyetlen érték sem haladja meg a tempo oszlopban a 150-et. Bármely 150-nél nagyobb értéket lecserél 150-re. Az eredményül kapott Series-t, amely a csippegetett értékeket tartalmazza, visszaadja a tempo oszlopnak, így felülírva az eredeti értékeket. Ezen művelet után a tempo oszlopban az értékek maximum 150-re lesznek korlátozva, míg a 150 alatti értékek változatlanok maradnak."
   ]
  },
  {
   "cell_type": "code",
   "execution_count": 15,
   "metadata": {},
   "outputs": [],
   "source": [
    "df['tempo'] = df['tempo'].clip(upper=150)"
   ]
  },
  {
   "cell_type": "markdown",
   "metadata": {},
   "source": [
    "Cseréld le a key oszlop numerikus értékeit azok megfelelő hangneveire, az alábbi hozzárendelések alapján:\n",
    "\n",
    "0 → 'C', 1 → 'C#', 2 → 'D', 3 → 'D#', 4 → 'E', 5 → 'F', 6 → 'F#', 7 → 'G', 8 → 'G#', 9 → 'A', 10 → 'A#', 11 → 'B'\n",
    "\n",
    "A kód cseréli a DataFrame df meglévő key oszlopában lévő numerikus értékeket azok megfelelő hangneveire. Ehhez a replace() metódust használja egy szótárral, amely hozzárendeli a numerikus értékeket a szöveges reprezentációjukhoz. Konkrétan az alábbi hozzárendelések vannak:\n",
    "\n",
    "0 → 'C', 1 → 'C#', 2 → 'D', 3 → 'D#', 4 → 'E', 5 → 'F', 6 → 'F#', 7 → 'G', 8 → 'G#', 9 → 'A', 10 → 'A#', 11 → 'B'\n",
    "\n",
    "Az eredményül kapott Series-t, amely a cserélt értékeket tartalmazza, visszaadja a key oszlopnak, így felülírva az eredeti numerikus értékeket. Ezen művelet után a key oszlop a hangneveket fogja tartalmazni az eredeti numerikus értékek helyett."
   ]
  },
  {
   "cell_type": "code",
   "execution_count": 16,
   "metadata": {},
   "outputs": [],
   "source": [
    "df['key'] = df['key'].replace({0: 'C', 1: 'C#', 2: 'D', 3: 'D#', 4: 'E', 5: 'F', 6: 'F#', 7: 'G', 8: 'G#', 9: 'A', 10: 'A#', 11: 'B'})"
   ]
  },
  {
   "cell_type": "markdown",
   "metadata": {},
   "source": [
    "Cseréld le az explicit oszlop numerikus értékeit szöveges reprezentációkra, ahol 0-t 'Not Explicit'-re és 1-et 'Explicit'-re cserélsz.\n",
    "\n",
    "Megjegyzés: Használd az df.head().T parancsot az adattáblázatod kompakt megtekintésére."
   ]
  },
  {
   "cell_type": "code",
   "execution_count": 17,
   "metadata": {},
   "outputs": [],
   "source": [
    "df['explicit'] = df['explicit'].replace({0: 'Not Explicit', 1: 'Explicit'})"
   ]
  },
  {
   "cell_type": "markdown",
   "metadata": {},
   "source": [
    "Cseréld le azoknak az év oszlop értékeinek az értékeit, amelyek 1950 előtti értékeket tartalmaznak, 1950-re."
   ]
  },
  {
   "cell_type": "code",
   "execution_count": 18,
   "metadata": {},
   "outputs": [],
   "source": [
    "df.loc[df['year'] < 1950, 'year'] = 1950"
   ]
  },
  {
   "cell_type": "markdown",
   "metadata": {},
   "source": [
    "Korlátozd a tempo oszlop értékeit 50 és 150 közé. Azokat az értékeket, amelyek meghaladják a 150-et, cseréld le 150-re, azokat pedig, amelyek kisebbek 50-nél, cseréld le 50-re.\n",
    "\n",
    "Megjegyzés: Használd az df.head().T parancsot az adattáblázatod kompakt megtekintésére.\n",
    "\n",
    "A kód a következő műveleteket hajtja végre:\n",
    "\n",
    "1. Boole-i indexelést használva a `loc` segítségével kiválasztja azokat a sorokat a `df` DataFrame-ben, ahol a `tempo` oszlop értéke nagyobb mint 150 (`df['tempo'] > 150`). Ezekre a kiválasztott sorokra, ahol a feltétel `tempo > 150` igaz, 150-re cseréli a tempo értékeket (`df.loc[df['tempo'] > 150, 'tempo'] = 150`).\n",
    "\n",
    "2. Majd újra boole-i indexelést használ a `loc`-al, hogy kiválassza azokat a sorokat a DataFrame `df`-ben, ahol a `tempo` oszlop értéke kisebb mint 50 (`df['tempo'] < 50`). Ezekre a kiválasztott sorokra, ahol a feltétel `tempo < 50` igaz, 50-re cseréli a tempo értékeket (`df.loc[df['tempo'] < 50, 'tempo'] = 50`).\n",
    "\n",
    "Alapvetően a kód korlátozza vagy \"csippegeti\" a tempo oszlop értékeit 50 és 150 közé. Azokat az értékeket, amelyek 150-nél nagyobbak, 150-re cseréli, míg azokat, amelyek 50-nél kisebbek, 50-re cseréli. Ez a művelet hasznos lehet kiugró értékek kezelésére, vagy annak biztosítására, hogy a tempo oszlop értékei egy adott tartományon belül maradjanak."
   ]
  },
  {
   "cell_type": "code",
   "execution_count": 19,
   "metadata": {},
   "outputs": [],
   "source": [
    "df.loc[df['tempo'] > 150, 'tempo'] = 150\n",
    "df.loc[df['tempo'] < 50, 'tempo'] = 50"
   ]
  }
 ],
 "metadata": {
  "kernelspec": {
   "display_name": "Python 3",
   "language": "python",
   "name": "python3"
  },
  "language_info": {
   "codemirror_mode": {
    "name": "ipython",
    "version": 3
   },
   "file_extension": ".py",
   "mimetype": "text/x-python",
   "name": "python",
   "nbconvert_exporter": "python",
   "pygments_lexer": "ipython3",
   "version": "3.12.4"
  }
 },
 "nbformat": 4,
 "nbformat_minor": 2
}
