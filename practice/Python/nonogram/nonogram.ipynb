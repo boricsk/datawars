{
 "cells": [
  {
   "cell_type": "markdown",
   "metadata": {},
   "source": [
    "This puzzle is based on the concept of Nonograms. Don't worry, you're not required to be familiar with nonograms to complete it.\n",
    "\n",
    "Your task is: given a binary array (a list containing only 1s and 0s), return a list of positive integers that represent the lengths of the sets of consecutive 1's in the input array, in order from left to right.\n",
    "\n",
    "Example:\n",
    "\n",
    "    [1, 1, 1, 0, 1, 1] => [3, 2]\n",
    "    [1, 0, 1, 1, 1, 1] => [1, 4]\n",
    "    [1, 1, 1, 1, 1, 1] => [6]\n",
    "    [1, 0, 1, 0, 1, 1] => [1, 1, 2]\n",
    "    [0, 0, 0, 0, 0, 0] => []\n",
    "\n",
    "Are you ready? Start your lab and advance to the next section to resolve it!"
   ]
  },
  {
   "cell_type": "code",
   "execution_count": 1,
   "metadata": {},
   "outputs": [],
   "source": [
    "def nonogram_sequence(binary_array):\n",
    "    sequence_lenght = []\n",
    "    count = 0    \n",
    "    for i in binary_array:\n",
    "        count += i\n",
    "        if i == 0 and count !=0:\n",
    "            sequence_lenght.append(count)\n",
    "            count = 0\n",
    "    if count:\n",
    "        sequence_lenght.append(count)\n",
    "    return sequence_lenght"
   ]
  },
  {
   "cell_type": "code",
   "execution_count": 2,
   "metadata": {},
   "outputs": [],
   "source": [
    "example_1 = [1, 1, 1, 0, 1, 1]\n",
    "example_2 = [1, 0, 1, 1, 1, 1]\n",
    "example_3 = [1, 1, 1, 1, 1, 1]\n",
    "example_4 = [1, 0, 1, 0, 1, 1]\n",
    "example_5 = [0, 0, 0, 0, 0, 0]"
   ]
  },
  {
   "cell_type": "code",
   "execution_count": 4,
   "metadata": {},
   "outputs": [
    {
     "name": "stdout",
     "output_type": "stream",
     "text": [
      "[3, 2]\n"
     ]
    }
   ],
   "source": [
    "print(nonogram_sequence(example_1))"
   ]
  }
 ],
 "metadata": {
  "kernelspec": {
   "display_name": "Python 3",
   "language": "python",
   "name": "python3"
  },
  "language_info": {
   "codemirror_mode": {
    "name": "ipython",
    "version": 3
   },
   "file_extension": ".py",
   "mimetype": "text/x-python",
   "name": "python",
   "nbconvert_exporter": "python",
   "pygments_lexer": "ipython3",
   "version": "3.12.2"
  }
 },
 "nbformat": 4,
 "nbformat_minor": 2
}
